{
 "cells": [
  {
   "cell_type": "code",
   "execution_count": 1,
   "metadata": {},
   "outputs": [
    {
     "data": {
      "text/plain": [
       "['',\n",
       " '/Users/michaelwu/miniconda3/envs/optimade/lib/python36.zip',\n",
       " '/Users/michaelwu/miniconda3/envs/optimade/lib/python3.6',\n",
       " '/Users/michaelwu/miniconda3/envs/optimade/lib/python3.6/lib-dynload',\n",
       " '/Users/michaelwu/miniconda3/envs/optimade/lib/python3.6/site-packages',\n",
       " '/Users/michaelwu/miniconda3/envs/optimade/lib/python3.6/site-packages/IPython/extensions',\n",
       " '/Users/michaelwu/.ipython',\n",
       " '/Users/michaelwu/Desktop/projects/optimade-python-tools']"
      ]
     },
     "execution_count": 1,
     "metadata": {},
     "output_type": "execute_result"
    }
   ],
   "source": [
    "import sys\n",
    "import os\n",
    "sys.path.append(os.path.dirname(os.path.dirname(os.path.dirname(os.path.dirname(os.getcwd())))))\n",
    "sys.path"
   ]
  },
  {
   "cell_type": "code",
   "execution_count": 2,
   "metadata": {},
   "outputs": [],
   "source": [
    "import os\n",
    "from testfiles.test_bank import *\n",
    "from optimade.converter.MongoConverter.mongo import *\n",
    "from glob import glob\n",
    "from unittest import TestCase\n",
    "class OptimadeToMongoDBConverterTest(TestCase):\n",
    "    @classmethod\n",
    "    def setUpClass(cls):\n",
    "        return\n",
    "    \n",
    "    def setUp(self):\n",
    "        self.testFilesPath = os.path.join(os.getcwd(),\"testfiles\")\n",
    "        \n",
    "    def test_all(self):\n",
    "        # test mongo converter optiMadeToPQLOperatorValidator method\n",
    "        for t in optiMadeToPQLOperatorValidatorTest:\n",
    "            self.assertEqual(OptiMadeToPQLOperatorValidator(t['input']), t['answer'])\n",
    "            \n",
    "        for t in optiMadeToPQLOperatorValidatorErrors:\n",
    "            self.assertRaises(Exception, OptiMadeToPQLOperatorValidator(t['input']))\n",
    "        \n",
    "        # unittest for the cleanPQL function\n",
    "        for t in cleanPQLTest:\n",
    "            self.assertEqual(cleanPQL(t['input']), t['answer'])\n",
    "            \n",
    "        #test for numerical correctness\n",
    "        for t in number_test:\n",
    "            self.assertEqual(optimadeToMongoDBConverter(t['query'], aliases=t.get('aliases')), t['answer'], t['name'])\n",
    "        # test for syntax correctness\n",
    "        for t in syntax_tests:\n",
    "            self.assertEqual(optimadeToMongoDBConverter(t['query'], aliases=t.get('aliases')), t['answer'], t['name'])\n",
    "        # test for raising errors\n",
    "        for t in raiseErrors:\n",
    "            self.assertRaises(Exception, optimadeToMongoDBConverter(t['query'], aliases=t.get('aliases')))"
   ]
  },
  {
   "cell_type": "code",
   "execution_count": 3,
   "metadata": {},
   "outputs": [
    {
     "name": "stderr",
     "output_type": "stream",
     "text": [
      "/Users/michaelwu/miniconda3/envs/optimade/lib/python3.6/site-packages/ipykernel_launcher.py:20: DeprecationWarning: callable is None\n"
     ]
    }
   ],
   "source": [
    "o = OptimadeToMongoDBConverterTest()\n",
    "o.setUp()\n",
    "o.test_all()"
   ]
  },
  {
   "cell_type": "code",
   "execution_count": null,
   "metadata": {},
   "outputs": [],
   "source": []
  }
 ],
 "metadata": {
  "kernelspec": {
   "display_name": "optimade",
   "language": "python",
   "name": "optimade"
  },
  "language_info": {
   "codemirror_mode": {
    "name": "ipython",
    "version": 3
   },
   "file_extension": ".py",
   "mimetype": "text/x-python",
   "name": "python",
   "nbconvert_exporter": "python",
   "pygments_lexer": "ipython3",
   "version": "3.6.6"
  }
 },
 "nbformat": 4,
 "nbformat_minor": 2
}
