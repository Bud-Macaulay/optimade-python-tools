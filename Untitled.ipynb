{
 "cells": [
  {
   "cell_type": "code",
   "execution_count": 1,
   "metadata": {},
   "outputs": [
    {
     "name": "stdout",
     "output_type": "stream",
     "text": [
      "Collecting optimade\n",
      "  Using cached https://files.pythonhosted.org/packages/25/e3/aa8d477d0d7264bdbbe7e244a72e4461d0f15be92fd696f438390f9af99f/optimade-0.1.12-py3-none-any.whl\n",
      "Requirement already satisfied: pymongo>=3.6.1 in /usr/local/lib/python3.6/site-packages (from optimade) (3.7.1)\n",
      "Requirement already satisfied: lark-parser>=0.5.6 in /usr/local/lib/python3.6/site-packages (from optimade) (0.6.4)\n",
      "Collecting marshmallow>=2.15.3 (from optimade)\n",
      "\u001b[?25l  Downloading https://files.pythonhosted.org/packages/3f/4d/cb555dfc2e2f926179884665fa1e6ae6b8f8102e4f8228b73e2a30eb0ee0/marshmallow-2.15.6-py2.py3-none-any.whl (44kB)\n",
      "\u001b[K    100% |████████████████████████████████| 51kB 958kB/s ta 0:00:01\n",
      "\u001b[?25hCollecting marshmallow-jsonapi>=0.19.0 (from optimade)\n",
      "  Using cached https://files.pythonhosted.org/packages/6b/2e/fcdf7d276aeea08647c12279902f04a469aed9a1401b858f3daeabb8bd51/marshmallow_jsonapi-0.20.3-py2.py3-none-any.whl\n",
      "Installing collected packages: marshmallow, marshmallow-jsonapi, optimade\n",
      "Successfully installed marshmallow-2.15.6 marshmallow-jsonapi-0.20.3 optimade-0.1.12\n"
     ]
    }
   ],
   "source": [
    "!pip install optimade"
   ]
  },
  {
   "cell_type": "code",
   "execution_count": 2,
   "metadata": {},
   "outputs": [
    {
     "data": {
      "text/plain": [
       "Tree(start, [Token(KEYWORD, 'filter='), Tree(expression, [Tree(term, [Tree(atom, [Tree(comparison, [Token(VALUE, 'a'), Token(OPERATOR, '<'), Token(VALUE, '3')])])])])])"
      ]
     },
     "execution_count": 2,
     "metadata": {},
     "output_type": "execute_result"
    }
   ],
   "source": [
    "from optimade.filter import Parser\n",
    "\n",
    "p = Parser(version=(0, 9, 5))\n",
    "p.parse(\"filter=a<3\")"
   ]
  },
  {
   "cell_type": "code",
   "execution_count": null,
   "metadata": {},
   "outputs": [],
   "source": []
  }
 ],
 "metadata": {
  "kernelspec": {
   "display_name": "Python 3",
   "language": "python",
   "name": "python3"
  },
  "language_info": {
   "codemirror_mode": {
    "name": "ipython",
    "version": 3
   },
   "file_extension": ".py",
   "mimetype": "text/x-python",
   "name": "python",
   "nbconvert_exporter": "python",
   "pygments_lexer": "ipython3",
   "version": "3.6.6"
  }
 },
 "nbformat": 4,
 "nbformat_minor": 2
}
