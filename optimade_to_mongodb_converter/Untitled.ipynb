{
 "cells": [
  {
   "cell_type": "code",
   "execution_count": 1,
   "metadata": {},
   "outputs": [],
   "source": [
    "import pql\n",
    "from optimade.filter import Parser\n",
    "from lark import Transformer\n",
    "\n",
    "\n",
    "optiMadeToPQLOperatorSwitch = {\n",
    "    \"=\":\"==\",\n",
    "    \"<=\":\"<=\",\n",
    "    \">=\":\">=\",\n",
    "    \"=>\":\">=\",\n",
    "    \"!=\": \"!=\",\n",
    "    \"<\":\"<\",\n",
    "    \">\":\">\",\n",
    "}\n",
    "\n",
    "def OptiMadeToPQLOperatorValidator(x):\n",
    "    \"\"\"\n",
    "        convert pql to mongodb symbol\n",
    "    \"\"\"\n",
    "    return optiMadeToPQLOperatorSwitch[x]\n",
    "\n",
    "def combineMultiple(rawPQL, index):\n",
    "    \"\"\"\n",
    "     @param string -- input raw optimade input\n",
    "     @param index -- index in which \",\" was found\n",
    "     Procedure:\n",
    "         1. find the first and last quote centering from the index of the \",\"\n",
    "         2. get everything between first and last quote\n",
    "         3. split the string into individual elements\n",
    "         4. put them into Python Query Language format\n",
    "    \"\"\"\n",
    "    firstQuoteIndex = 0\n",
    "    for firstQuoteIndex in reversed(range(0, index)):\n",
    "        if(rawPQL[firstQuoteIndex] == \"'\" or rawPQL[firstQuoteIndex] == '\"'):\n",
    "            firstQuoteIndex = firstQuoteIndex + 1\n",
    "            break\n",
    "    lastQuoteIndex = index\n",
    "    for lastQuoteIndex in range(index, len(rawPQL)):\n",
    "        if(rawPQL[lastQuoteIndex] == \"'\" or rawPQL[lastQuoteIndex] == '\"'):\n",
    "            break\n",
    "    insertion = rawPQL[firstQuoteIndex:lastQuoteIndex]\n",
    "    insertion = insertion.split(\",\")\n",
    "    return rawPQL[:firstQuoteIndex - 1] + 'all({})'.format(insertion) + rawPQL[lastQuoteIndex + 1:], lastQuoteIndex + 1\n",
    "\n",
    "def parseInput(PQL):\n",
    "    \"\"\"\n",
    "     @param PQL: raw PQL\n",
    "     Procedure:\n",
    "         1. go through PQL, find \",\" to find where i need to combine multiple elements\n",
    "         2. combine multiple\n",
    "         3. return the cleaned PQL\n",
    "    \"\"\"\n",
    "    length = len(PQL)\n",
    "    i = 0\n",
    "    while(i < length):\n",
    "        if(PQL[i] == \",\"):\n",
    "            PQL, newIndex = combineMultiple(PQL, i)\n",
    "            i = newIndex\n",
    "        i = i + 1\n",
    "    return PQL\n",
    "\n",
    "\n",
    "def cleanMongo(rawMongoDbQuery):\n",
    "    \"\"\"\n",
    "    @param rawMongoDbQuery -- input that needs to be cleaned\n",
    "    Procedure:\n",
    "        recursively go through the rawMongoDbQuery, turn string into float if possible in the value field\n",
    "    \"\"\"\n",
    "\n",
    "    if(type(rawMongoDbQuery) != dict):\n",
    "        return\n",
    "    for k in rawMongoDbQuery:\n",
    "        value = rawMongoDbQuery[k]\n",
    "        if(type(value) == list):\n",
    "            for v in value:\n",
    "                cleanMongo(v)\n",
    "        elif(type(value) == dict):\n",
    "            cleanMongo(value)\n",
    "        elif(type(value) == str):\n",
    "            try:\n",
    "                value = float(value)\n",
    "                rawMongoDbQuery[k] = float(value)\n",
    "            except:\n",
    "                f = value\n",
    "\n",
    "        else:\n",
    "            raise BadRawMongoDbQueryException(\"BadMongoDbQuery\")\n",
    "\n",
    "class BadRawMongoDbQueryException(Exception):\n",
    "    pass\n",
    "\n",
    "class OptimadeToPQLTransformer(Transformer):\n",
    "    \"\"\"\n",
    "     class for transforming Lark tree into PQL format\n",
    "    \"\"\"\n",
    "    def comparison(self, args):\n",
    "        A = str(args[0])\n",
    "        B = \"\"\n",
    "        for b in args[2:]:\n",
    "            if B == \"\":\n",
    "                B = b\n",
    "            else:\n",
    "                B = B + \", \" + b\n",
    "        operator = OptiMadeToPQLOperatorValidator(args[1])\n",
    "        return A + operator + '\"' + B + '\"'\n",
    "    def atom(self, args):\n",
    "        return args[0]\n",
    "    def term(self, args):\n",
    "        result = \"\"\n",
    "        for arg in args:\n",
    "            if arg.lower() == \"and\" or arg.lower() == \"or\":\n",
    "                arg = arg.lower()\n",
    "            result = result + \" \" + arg.lower()\n",
    "        return \"(\" + result.lstrip() + \")\"\n",
    "\n",
    "    def expression(self, args):\n",
    "        result = \"\"\n",
    "        for arg in args:\n",
    "            lower = arg.lower()\n",
    "            if(lower == \"and\" or lower == \"or\"):\n",
    "                arg = lower\n",
    "            result = result + \" \" + arg\n",
    "        return result.lstrip()\n",
    "    def start(self, args):\n",
    "        return args[1]\n",
    "    def combined(self, args):\n",
    "        return args[0]\n",
    "\n",
    "\n",
    "\n",
    "def optimadeToMongoDBConverter(optimadeQuery, version=None):\n",
    "    \"\"\"\n",
    "    main function for converting optimade query to mongoDB query\n",
    "    Procedure:\n",
    "     1. converting optimadeQuery into Lark tree\n",
    "     2. converting tree into raw PQL\n",
    "     3. parsing the rawPQL into cleaned PQL (putting combined item in place)\n",
    "     4. parse cleaned PQL into raw MongoDB query\n",
    "     5. parse raw MongoDB Query into cleaned MongoDb Query (turn values in string into float if possible)\n",
    "    \"\"\"\n",
    "    p = Parser(version=version)\n",
    "\n",
    "    try:\n",
    "        tree = p.parse(optimadeQuery)\n",
    "    except Exception as e:\n",
    "        raise e\n",
    "\n",
    "    rawPQL = OptimadeToPQLTransformer().transform(tree)\n",
    "    cleanedPQL = parseInput(rawPQL)\n",
    "\n",
    "    try:\n",
    "        mongoDbQuery = pql.find(cleanedPQL)\n",
    "    except Exception as e:\n",
    "        raise e\n",
    "\n",
    "    cleanMongo(mongoDbQuery)\n",
    "    return mongoDbQuery"
   ]
  },
  {
   "cell_type": "code",
   "execution_count": 3,
   "metadata": {},
   "outputs": [
    {
     "data": {
      "text/plain": [
       "{'x': {'$lt': 2.0}}"
      ]
     },
     "execution_count": 3,
     "metadata": {},
     "output_type": "execute_result"
    }
   ],
   "source": [
    "optimadeToMongoDBConverter(\"filter = x<2\")"
   ]
  },
  {
   "cell_type": "code",
   "execution_count": null,
   "metadata": {},
   "outputs": [],
   "source": []
  },
  {
   "cell_type": "code",
   "execution_count": null,
   "metadata": {},
   "outputs": [],
   "source": []
  },
  {
   "cell_type": "code",
   "execution_count": null,
   "metadata": {},
   "outputs": [],
   "source": []
  },
  {
   "cell_type": "code",
   "execution_count": null,
   "metadata": {},
   "outputs": [],
   "source": []
  },
  {
   "cell_type": "code",
   "execution_count": null,
   "metadata": {},
   "outputs": [],
   "source": []
  },
  {
   "cell_type": "code",
   "execution_count": 1,
   "metadata": {},
   "outputs": [],
   "source": [
    "import sys, os\n"
   ]
  },
  {
   "cell_type": "code",
   "execution_count": 4,
   "metadata": {},
   "outputs": [],
   "source": [
    "p = Parser()"
   ]
  },
  {
   "cell_type": "code",
   "execution_count": 5,
   "metadata": {},
   "outputs": [
    {
     "data": {
      "text/plain": [
       "(0, 9, 5)"
      ]
     },
     "execution_count": 5,
     "metadata": {},
     "output_type": "execute_result"
    }
   ],
   "source": [
    "p.version"
   ]
  },
  {
   "cell_type": "code",
   "execution_count": null,
   "metadata": {},
   "outputs": [],
   "source": []
  }
 ],
 "metadata": {
  "kernelspec": {
   "display_name": "optimade",
   "language": "python",
   "name": "optimade"
  },
  "language_info": {
   "codemirror_mode": {
    "name": "ipython",
    "version": 3
   },
   "file_extension": ".py",
   "mimetype": "text/x-python",
   "name": "python",
   "nbconvert_exporter": "python",
   "pygments_lexer": "ipython3",
   "version": "3.6.6"
  }
 },
 "nbformat": 4,
 "nbformat_minor": 2
}
