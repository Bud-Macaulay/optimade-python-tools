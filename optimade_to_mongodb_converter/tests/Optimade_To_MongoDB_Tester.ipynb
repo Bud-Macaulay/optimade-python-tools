{
 "cells": [
  {
   "cell_type": "code",
   "execution_count": 7,
   "metadata": {},
   "outputs": [],
   "source": [
    "import sys, os\n",
    "sys.path.insert(0,os.path.join(os.path.dirname(os.path.dirname(os.getcwd())), \"optimade_to_mongodb_converter\"))\n",
    "sys.path.insert(0,os.path.join(os.path.dirname(os.path.dirname(os.getcwd())), \"optimade\"))\n",
    "\n",
    "from optimade_to_mongodb_converter import optimadeToMongoDBConverter\n",
    "from glob import glob\n",
    "from unittest import TestCase\n",
    "class OptimadeToMongoDBConverterTest(TestCase):\n",
    "    @classmethod\n",
    "    def setUpClass(cls):\n",
    "        return\n",
    "    def setUp(self):\n",
    "        self.testFilesPath = os.path.join(os.getcwd(),\"testfiles\")\n",
    "    def test_all(self):\n",
    "        for fn in glob(os.path.join(self.testFilesPath, \"*.inp\")):\n",
    "            with open(fn) as fp:\n",
    "                for cnt, line in enumerate(fp):\n",
    "                    array = line.split(\"|\")\n",
    "                    self.assertEqual(str(optimadeToMongoDBConverter(array[1])), array[2].lstrip()[:-1])\n",
    "    def test_error(self):\n",
    "        for fn in glob(os.path.join(self.testFilesPath, \"*.err\")):\n",
    "            with open(fn) as fp:\n",
    "                for cnt, line in enumerate(fp):\n",
    "                    self.assertRaises(Exception, optimadeToMongoDBConverter(line))"
   ]
  }
 ],
 "metadata": {
  "kernelspec": {
   "display_name": "Python 3",
   "language": "python",
   "name": "python3"
  },
  "language_info": {
   "codemirror_mode": {
    "name": "ipython",
    "version": 3
   },
   "file_extension": ".py",
   "mimetype": "text/x-python",
   "name": "python",
   "nbconvert_exporter": "python",
   "pygments_lexer": "ipython3",
   "version": "3.6.6"
  }
 },
 "nbformat": 4,
 "nbformat_minor": 2
}
