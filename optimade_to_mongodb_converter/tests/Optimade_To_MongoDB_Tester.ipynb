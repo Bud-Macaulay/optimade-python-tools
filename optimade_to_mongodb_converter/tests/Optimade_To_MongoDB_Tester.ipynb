{
 "cells": [
  {
   "cell_type": "code",
   "execution_count": 1,
   "metadata": {},
   "outputs": [],
   "source": [
    "import sys, os\n",
    "sys.path.insert(0,os.path.join(os.path.dirname(os.path.dirname(os.getcwd())), \"optimade_to_mongodb_converter\"))\n",
    "sys.path.insert(0,os.path.join(os.path.dirname(os.path.dirname(os.getcwd())), \"optimade\"))\n",
    "\n",
    "from testfiles.test_bank import number_test,syntax_tests, raiseErrors\n",
    "from optimade_to_mongodb_converter import optimadeToMongoDBConverter\n",
    "from glob import glob\n",
    "from unittest import TestCase\n",
    "class OptimadeToMongoDBConverterTest(TestCase):\n",
    "    @classmethod\n",
    "    def setUpClass(cls):\n",
    "        return\n",
    "    \n",
    "    def setUp(self):\n",
    "        self.testFilesPath = os.path.join(os.getcwd(),\"testfiles\")\n",
    "        \n",
    "    def test_all(self):\n",
    "        #test for numerical correctness\n",
    "        for t in number_test:\n",
    "            self.assertEqual(optimadeToMongoDBConverter(t['query']), t['answer'], t['name'])\n",
    "        # test for syntax correctness\n",
    "        for t in syntax_tests:\n",
    "            self.assertEqual(optimadeToMongoDBConverter(t['query']), t['answer'], t['name'])\n",
    "        # test for raising errors\n",
    "        for t in raiseErrors:\n",
    "            self.assertRaises(Exception, optimadeToMongoDBConverter(t['query']))"
   ]
  },
  {
   "cell_type": "code",
   "execution_count": 2,
   "metadata": {},
   "outputs": [],
   "source": [
    "test = OptimadeToMongoDBConverterTest()\n",
    "test.setUp()\n",
    "test.test_all()"
   ]
  },
  {
   "cell_type": "code",
   "execution_count": 2,
   "metadata": {},
   "outputs": [],
   "source": []
  },
  {
   "cell_type": "code",
   "execution_count": null,
   "metadata": {},
   "outputs": [],
   "source": []
  }
 ],
 "metadata": {
  "kernelspec": {
   "display_name": "optimade",
   "language": "python",
   "name": "optimade"
  },
  "language_info": {
   "codemirror_mode": {
    "name": "ipython",
    "version": 3
   },
   "file_extension": ".py",
   "mimetype": "text/x-python",
   "name": "python",
   "nbconvert_exporter": "python",
   "pygments_lexer": "ipython3",
   "version": "3.6.6"
  }
 },
 "nbformat": 4,
 "nbformat_minor": 2
}
