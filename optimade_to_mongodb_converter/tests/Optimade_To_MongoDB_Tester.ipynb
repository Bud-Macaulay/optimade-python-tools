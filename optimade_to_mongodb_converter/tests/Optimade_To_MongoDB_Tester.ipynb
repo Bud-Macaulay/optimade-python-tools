{
 "cells": [
  {
   "cell_type": "code",
   "execution_count": 2,
   "metadata": {},
   "outputs": [
    {
     "ename": "ModuleNotFoundError",
     "evalue": "No module named 'optimade.optimade_to_mongodb_converter'",
     "output_type": "error",
     "traceback": [
      "\u001b[0;31m---------------------------------------------------------------------------\u001b[0m",
      "\u001b[0;31mModuleNotFoundError\u001b[0m                       Traceback (most recent call last)",
      "\u001b[0;32m<ipython-input-2-5a4b9e96ffda>\u001b[0m in \u001b[0;36m<module>\u001b[0;34m()\u001b[0m\n\u001b[0;32m----> 1\u001b[0;31m \u001b[0;32mfrom\u001b[0m \u001b[0moptimade\u001b[0m\u001b[0;34m.\u001b[0m\u001b[0moptimade_to_mongodb_converter\u001b[0m \u001b[0;32mimport\u001b[0m \u001b[0moptimadeToMongoDBConverter\u001b[0m\u001b[0;34m\u001b[0m\u001b[0m\n\u001b[0m\u001b[1;32m      2\u001b[0m \u001b[0;32mimport\u001b[0m \u001b[0munittest\u001b[0m\u001b[0;34m\u001b[0m\u001b[0m\n\u001b[1;32m      3\u001b[0m \u001b[0;34m\u001b[0m\u001b[0m\n\u001b[1;32m      4\u001b[0m \u001b[0;32mclass\u001b[0m \u001b[0mConverterTest\u001b[0m\u001b[0;34m(\u001b[0m\u001b[0munittest\u001b[0m\u001b[0;34m.\u001b[0m\u001b[0mTestCase\u001b[0m\u001b[0;34m)\u001b[0m\u001b[0;34m:\u001b[0m\u001b[0;34m\u001b[0m\u001b[0m\n\u001b[1;32m      5\u001b[0m     \u001b[0;32mdef\u001b[0m \u001b[0msetup\u001b[0m\u001b[0;34m(\u001b[0m\u001b[0mself\u001b[0m\u001b[0;34m)\u001b[0m\u001b[0;34m:\u001b[0m\u001b[0;34m\u001b[0m\u001b[0m\n",
      "\u001b[0;31mModuleNotFoundError\u001b[0m: No module named 'optimade.optimade_to_mongodb_converter'"
     ]
    }
   ],
   "source": [
    "from optimade.optimade_to_mongodb_converter import optimadeToMongoDBConverter\n",
    "import unittest\n",
    "\n",
    "class ConverterTest(unittest.TestCase):\n",
    "    def setup(self):\n",
    "        # name -> [testCase, answer]\n",
    "        self.numberTests ={\n",
    "                    \"test_valid_numbers_with_positive_sign\": [\"filter= a=+1\", {'a': +1}],\n",
    "                    \"test_float\":[\"filter =a < 2.2\",{'a': {'$lt': 2.2}}],\n",
    "                    \"test_scientific_number\":[\"filter =a < 2E100\",{'a': {'$lt': 2e+100}}],\n",
    "                    \"test_negative_number\":[\"filter =a < -2E-100\",{'a': {'$lt': -2e-100}}],\n",
    "                    \"test_scientific_num_with_decimal\": [\"filter = a=6.03e23\", {'a': 6.03e+23}],\n",
    "                    \"test_large_num\": [\"filter = a =10000000000000.E1000000000 \", {'a': float('inf')}]\n",
    "                     }\n",
    "        self.syntaxTests = {\n",
    "                        \"test_one_input\":[\"filter=a<0\", {'a': {'$lt': 0}}],\n",
    "                        \"test_two_inputs_with_and\":[\"filter=a<0 and b>2\", {'$and': [{'a': {'$lt': 0}}, {'b': {'$gt': 2}}]}],\n",
    "                        \"test_two_inputs_with_or\": [\"filter=a<0 or b>2\", {'$or': [{'a': {'$lt': 0}}, {'b': {'$gt': 2}}]}],\n",
    "                        \"test_multiple_entries\" : [\"filter = elements='Si,O'\", {'elements': {'$all': ['si', ' o']}}],\n",
    "                        \"test_mixing_upper_case_and_lower_case\": [\"filter = a < 0 AND elements='Si,O' or y < 1\", {'$or': [{'$and': [{'a': {'$lt': '0all(['}},\n",
    "    {'elements': {'$all': ['si,  o']}}]},\n",
    "  {'y': {'$lt': '])1'}}]}],  \n",
    "                        \"test_paren\":[\"filter = (a<1 or b<2) or c < 3\", {'$or': [{'$or': [{'a': {'$lt': 1.0}}, {'b': {'$lt': 2.0}}]},\n",
    "  {'c': {'$lt': 3.0}}]}],\n",
    "                        \"test_paren2\":[\"filter = a<1 and (b<2 or c < 3)\",{'$and': [{'a': {'$lt': 1.0}},\n",
    "  {'$or': [{'b': {'$lt': 2.0}}, {'c': {'$lt': 3.0}}]}]}],\n",
    "                        }\n",
    "        return self\n",
    "    def testAll(self):\n",
    "        print(\"Testing syntax: \")\n",
    "        for t in self.syntaxTests:\n",
    "            self.test(t, self.syntaxTests[t][0], self.syntaxTests[t][1])\n",
    "        print()\n",
    "        \n",
    "        print(\"Testing numeric values: \")\n",
    "        for t in self.numberTests:\n",
    "            self.test(t, self.numberTests[t][0], self.numberTests[t][1])\n",
    "        \n",
    "    def test(self, testName, testCase, testAnswer):\n",
    "        message = \"{} failed with testCase: {}\".format(testName, testCase)\n",
    "        self.assertEqual(optimadeToMongoDBConverter(testCase), testAnswer, message)\n",
    "        print(\"\\t {} passed\".format(testName))\n",
    "        \n",
    "    def custom_test(self, testCase, answer):\n",
    "        message = \"custom_test failed with testCase \" + testCase\n",
    "        self.assertEqual(optimadeToMongoDBConverter(testCase), answer, message)\n",
    "        print(\"passed: custom_test passed\")  \n"
   ]
  },
  {
   "cell_type": "code",
   "execution_count": 2,
   "metadata": {
    "scrolled": false
   },
   "outputs": [
    {
     "name": "stdout",
     "output_type": "stream",
     "text": [
      "Testing syntax: \n",
      "\t test_one_input passed\n",
      "\t test_two_inputs_with_and passed\n",
      "\t test_two_inputs_with_or passed\n",
      "\t test_multiple_entries passed\n",
      "\t test_mixing_upper_case_and_lower_case passed\n",
      "\t test_paren passed\n",
      "\t test_paren2 passed\n",
      "\n",
      "Testing numeric values: \n",
      "\t test_valid_numbers_with_positive_sign passed\n",
      "\t test_float passed\n",
      "\t test_scientific_number passed\n",
      "\t test_negative_number passed\n",
      "\t test_scientific_num_with_decimal passed\n",
      "\t test_large_num passed\n"
     ]
    }
   ],
   "source": [
    "unitTest = ConverterTest().setup()\n",
    "unitTest.testAll()"
   ]
  },
  {
   "cell_type": "code",
   "execution_count": 13,
   "metadata": {},
   "outputs": [],
   "source": [
    "import os\n",
    "from glob import glob\n",
    "from unittest import TestCase\n",
    "\n",
    "from lark import Tree, UnexpectedInput\n",
    "\n",
    "from optimade.filter import Parser"
   ]
  },
  {
   "cell_type": "code",
   "execution_count": null,
   "metadata": {},
   "outputs": [],
   "source": []
  },
  {
   "cell_type": "code",
   "execution_count": null,
   "metadata": {},
   "outputs": [],
   "source": []
  }
 ],
 "metadata": {
  "kernelspec": {
   "display_name": "Python 3",
   "language": "python",
   "name": "python3"
  },
  "language_info": {
   "codemirror_mode": {
    "name": "ipython",
    "version": 3
   },
   "file_extension": ".py",
   "mimetype": "text/x-python",
   "name": "python",
   "nbconvert_exporter": "python",
   "pygments_lexer": "ipython3",
   "version": "3.6.6"
  }
 },
 "nbformat": 4,
 "nbformat_minor": 2
}
