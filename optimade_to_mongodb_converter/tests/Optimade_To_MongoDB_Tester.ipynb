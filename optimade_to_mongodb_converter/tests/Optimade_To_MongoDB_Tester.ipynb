{
 "cells": [
  {
   "cell_type": "code",
   "execution_count": 5,
   "metadata": {},
   "outputs": [],
   "source": [
    "import sys, os\n",
    "\n",
    "from testfiles.test_bank import number_test,syntax_tests, raiseErrors\n",
    "from optimade_to_mongodb_converter.optimade_to_mongodb_converter import optimadeToMongoDBConverter\n",
    "from glob import glob\n",
    "from unittest import TestCase\n",
    "class OptimadeToMongoDBConverterTest(TestCase):\n",
    "    @classmethod\n",
    "    def setUpClass(cls):\n",
    "        return\n",
    "    \n",
    "    def setUp(self):\n",
    "        self.testFilesPath = os.path.join(os.getcwd(),\"testfiles\")\n",
    "        \n",
    "    def test_all(self):\n",
    "        #test for numerical correctness\n",
    "        for t in number_test:\n",
    "            self.assertEqual(optimadeToMongoDBConverter(t['query'], aliases=t.get('aliases')), t['answer'], t['name'])\n",
    "        # test for syntax correctness\n",
    "        for t in syntax_tests:\n",
    "            self.assertEqual(optimadeToMongoDBConverter(t['query'], aliases=t.get('aliases')), t['answer'], t['name'])\n",
    "        # test for raising errors\n",
    "        for t in raiseErrors:\n",
    "            self.assertRaises(Exception, optimadeToMongoDBConverter(t['query'], aliases=t.get('aliases')))"
   ]
  },
  {
   "cell_type": "code",
   "execution_count": 6,
   "metadata": {},
   "outputs": [
    {
     "name": "stdout",
     "output_type": "stream",
     "text": [
      "filter=a<0 None\n",
      "filter=a<0 and b>2 None\n",
      "filter=a<0 or b>2 None\n",
      "filter = elements='Si,O' None\n",
      "filter = a < 0 AND elements='Si,O' or y < 1 None\n",
      "filter = (a<1 or b<2) or c < 3 None\n",
      "filter = a<1 and (b<2 or c < 3) None\n",
      "filter = formula_prototype='Si' {'formula_prototype': 'formula_anonymous', 'chemical_formula': 'pretty_formula'}\n"
     ]
    }
   ],
   "source": [
    "test = OptimadeToMongoDBConverterTest()\n",
    "test.setUp()\n",
    "test.test_all()"
   ]
  },
  {
   "cell_type": "code",
   "execution_count": null,
   "metadata": {},
   "outputs": [],
   "source": []
  }
 ],
 "metadata": {
  "kernelspec": {
   "display_name": "optimade",
   "language": "python",
   "name": "optimade"
  },
  "language_info": {
   "codemirror_mode": {
    "name": "ipython",
    "version": 3
   },
   "file_extension": ".py",
   "mimetype": "text/x-python",
   "name": "python",
   "nbconvert_exporter": "python",
   "pygments_lexer": "ipython3",
   "version": "3.6.6"
  }
 },
 "nbformat": 4,
 "nbformat_minor": 2
}
