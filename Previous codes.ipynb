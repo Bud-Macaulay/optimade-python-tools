{
 "cells": [
  {
   "cell_type": "markdown",
   "metadata": {},
   "source": [
    "This notebook contains previous codes that are no longer in use"
   ]
  },
  {
   "cell_type": "code",
   "execution_count": 1,
   "metadata": {},
   "outputs": [],
   "source": [
    "def removeFilter(raw):\n",
    "    if(raw.find(\"filter =\") != -1):\n",
    "        return raw[len(\"filter =\"):]\n",
    "    elif(raw.find(\"filter=\") != -1):\n",
    "        return raw[len(\"filter=\"):]\n",
    "    else:\n",
    "        return raw\n",
    "    \n",
    "def insert(original, index, insertion):\n",
    "    result = original[:index] + insertion + original[index:]\n",
    "    return result\n",
    "\n",
    "def onlyEqual(string, index):\n",
    "    return string[index] == \"=\" and not (string[index-1] == \"<\" \n",
    "                     or string[index+1] == \">\" \n",
    "                     or string[index-1] == \"=\" \n",
    "                     or string[index+1] == \"=\") \n",
    "\n",
    "\n",
    "def combineMultiple(string, index):\n",
    "    firstQuoteIndex = 0\n",
    "    for firstQuoteIndex in reversed(range(0, index)):\n",
    "        if(ord(string[firstQuoteIndex]) == 34):\n",
    "            break\n",
    "    lastQuoteIndex = index\n",
    "    for lastQuoteIndex in range(index, len(string)):\n",
    "        if(ord(string[lastQuoteIndex])== 34):\n",
    "            break\n",
    "    insertion = string[firstQuoteIndex+1:lastQuoteIndex]\n",
    "    insertion = insertion.split(\",\")\n",
    "    return string[:firstQuoteIndex] + 'all({})'.format(insertion) + string[lastQuoteIndex+1:]"
   ]
  },
  {
   "cell_type": "code",
   "execution_count": null,
   "metadata": {},
   "outputs": [],
   "source": []
  }
 ],
 "metadata": {
  "kernelspec": {
   "display_name": "optimade",
   "language": "python",
   "name": "optimade"
  },
  "language_info": {
   "codemirror_mode": {
    "name": "ipython",
    "version": 3
   },
   "file_extension": ".py",
   "mimetype": "text/x-python",
   "name": "python",
   "nbconvert_exporter": "python",
   "pygments_lexer": "ipython3",
   "version": "3.6.6"
  }
 },
 "nbformat": 4,
 "nbformat_minor": 2
}
