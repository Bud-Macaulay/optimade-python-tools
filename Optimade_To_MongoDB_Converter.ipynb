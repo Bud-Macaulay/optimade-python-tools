{
 "cells": [
  {
   "cell_type": "code",
   "execution_count": 11,
   "metadata": {
    "scrolled": true
   },
   "outputs": [],
   "source": [
    "#!pip install pql\n",
    "import pql\n",
    "testAll = pql.find(\"elemets == all(['Si', 'O', 3])\")"
   ]
  },
  {
   "cell_type": "code",
   "execution_count": 12,
   "metadata": {},
   "outputs": [],
   "source": [
    "from optimade.filter import Parser\n",
    "from lark import Transformer\n",
    "p = Parser(version=(0, 9, 5))"
   ]
  },
  {
   "cell_type": "code",
   "execution_count": 19,
   "metadata": {},
   "outputs": [
    {
     "name": "stdout",
     "output_type": "stream",
     "text": [
      "formula_prototype==\"AB2C3\" and nelements==4 and elements==all(['Si', ' O'])\n"
     ]
    },
    {
     "data": {
      "text/plain": [
       "{'$and': [{'formula_prototype': 'AB2C3'},\n",
       "  {'nelements': 4},\n",
       "  {'elements': {'$all': ['Si', ' O']}}]}"
      ]
     },
     "execution_count": 19,
     "metadata": {},
     "output_type": "execute_result"
    }
   ],
   "source": [
    "\n",
    "x = parseInput(cleandedPQL)\n",
    "print(x)\n",
    "pql.find(x)"
   ]
  },
  {
   "cell_type": "code",
   "execution_count": 65,
   "metadata": {},
   "outputs": [],
   "source": [
    "import pql\n",
    "from optimade.filter import Parser\n",
    "from lark import Transformer\n",
    "\n",
    "\n",
    "optiMadeToPQLOperatorSwitch = {\n",
    "    \"=\":\"==\",\n",
    "    \"<=\":\"<=\",\n",
    "    \">=\":\">=\",\n",
    "    \"=>\":\">=\",\n",
    "    \"!=\": \"!=\",\n",
    "    \"<\":\"<\",\n",
    "    \">\":\">\",\n",
    "}\n",
    "\n",
    "def OptiMadeToPQLOperatorValidator(x):\n",
    "    return optiMadeToPQLOperatorSwitch[x]\n",
    "\n",
    "def combineMultiple(string, index):\n",
    "    firstQuoteIndex = 0\n",
    "    for firstQuoteIndex in reversed(range(0, index)):\n",
    "        if(ord(string[firstQuoteIndex]) == 34):\n",
    "            break\n",
    "    lastQuoteIndex = index\n",
    "    for lastQuoteIndex in range(index, len(string)):\n",
    "        if(ord(string[lastQuoteIndex])== 34):\n",
    "            break\n",
    "    insertion = string[firstQuoteIndex+1:lastQuoteIndex]\n",
    "    insertion = insertion.split(\",\")\n",
    "    return string[:firstQuoteIndex] + 'all({})'.format(insertion) + string[lastQuoteIndex+1:]\n",
    "\n",
    "class OptimadeToPQLTransformer(Transformer):\n",
    "    def comparison(self, args):\n",
    "        A = args[0]\n",
    "        B = args[2]\n",
    "        operator = OptiMadeToPQLOperatorValidator(args[1])\n",
    "        return A + operator + B\n",
    "    def atom(self, args):\n",
    "        return args[0]\n",
    "    def term(self, args):\n",
    "        result = \"\"\n",
    "        for arg in args:\n",
    "            result = result + \" \" + arg\n",
    "        return result.lstrip()\n",
    "    def expression(self, args):\n",
    "        return args[0]\n",
    "    def start(self, args):\n",
    "        return args[1]\n",
    "\n",
    "def parseInput(PQL):\n",
    "    length = len(PQL)\n",
    "    i = 0\n",
    "    while(i < length):\n",
    "        if(PQL[i] == \",\"):\n",
    "            PQL = combineMultiple(PQL, i)\n",
    "        i = i + 1 \n",
    "    return PQL\n",
    "\n",
    "\n",
    "def optimadeToMongoDBConverter(optimadeQuery):\n",
    "    p = Parser(version=(0, 9, 5))\n",
    "    print(\"optimadeQuery:\", optimadeQuery)\n",
    "    print()\n",
    "    tree = p.parse(optimadeQuery)\n",
    "    print(\"tree:\\n\", tree)\n",
    "    print()\n",
    "    rawPQL = OptimadeToPQLTransformer().transform(tree)\n",
    "    print(\"rawPQL:\\n\", rawPQL)\n",
    "    print()\n",
    "    cleanedPQL = parseInput(rawPQL)\n",
    "    return pql.find(cleanedPQL)\n",
    "    "
   ]
  },
  {
   "cell_type": "code",
   "execution_count": 66,
   "metadata": {},
   "outputs": [
    {
     "name": "stdout",
     "output_type": "stream",
     "text": [
      "optimadeQuery: filter=formula_prototype=\"AB2C3\" and nelements=4 or elements=\"Si, O\"\n",
      "\n",
      "tree:\n",
      " Tree(start, [Token(KEYWORD, 'filter='), Tree(expression, [Tree(expression, [Tree(term, [Tree(term, [Tree(atom, [Tree(comparison, [Token(VALUE, 'formula_prototype'), Token(OPERATOR, '='), Token(VALUE, '\"AB2C3\"')])])]), Token(AND, 'and'), Tree(atom, [Tree(comparison, [Token(VALUE, 'nelements'), Token(OPERATOR, '='), Token(VALUE, '4')])])])]), Token(OR, 'or'), Tree(term, [Tree(atom, [Tree(comparison, [Token(VALUE, 'elements'), Token(OPERATOR, '='), Token(VALUE, '\"Si, O\"')])])])])])\n",
      "\n",
      "rawPQL:\n",
      " formula_prototype==\"AB2C3\" and nelements==4\n",
      "\n",
      "input3 {'$and': [{'formula_prototype': 'AB2C3'}, {'nelements': 4}]}\n"
     ]
    }
   ],
   "source": [
    "# sampleInput1 = 'filter=formula_prototype=\"AB2C3\" and nelements=4 and elements=\"Si, O\"'\n",
    "# sampleInput2 = \"filter=formula_prototype='AB2C3' or nelements=4 or elements='Si, O'\"\n",
    "sampleInput3 = 'filter=formula_prototype=\"AB2C3\" and nelements=4 or elements=\"Si, O\"'\n",
    "# print(\"input1:\", optimadeToMongoDBConverter(sampleInput1))\n",
    "# print(\"result:\\n\", optimadeToMongoDBConverter(sampleInput2))\n",
    "print(\"input3\", optimadeToMongoDBConverter(sampleInput3))"
   ]
  },
  {
   "cell_type": "code",
   "execution_count": null,
   "metadata": {},
   "outputs": [],
   "source": []
  },
  {
   "cell_type": "code",
   "execution_count": null,
   "metadata": {},
   "outputs": [],
   "source": []
  },
  {
   "cell_type": "code",
   "execution_count": null,
   "metadata": {},
   "outputs": [],
   "source": []
  },
  {
   "cell_type": "code",
   "execution_count": null,
   "metadata": {},
   "outputs": [],
   "source": []
  },
  {
   "cell_type": "code",
   "execution_count": null,
   "metadata": {},
   "outputs": [],
   "source": []
  },
  {
   "cell_type": "code",
   "execution_count": null,
   "metadata": {},
   "outputs": [],
   "source": []
  },
  {
   "cell_type": "code",
   "execution_count": null,
   "metadata": {},
   "outputs": [],
   "source": []
  },
  {
   "cell_type": "code",
   "execution_count": 18,
   "metadata": {},
   "outputs": [],
   "source": [
    "def removeFilter(raw):\n",
    "    if(raw.find(\"filter =\") != -1):\n",
    "        return raw[len(\"filter =\"):]\n",
    "    elif(raw.find(\"filter=\") != -1):\n",
    "        return raw[len(\"filter=\"):]\n",
    "    else:\n",
    "        return raw\n",
    "    \n",
    "def insert(original, index, insertion):\n",
    "    result = original[:index] + insertion + original[index:]\n",
    "    return result\n",
    "\n",
    "def onlyEqual(string, index):\n",
    "    return string[index] == \"=\" and not (string[index-1] == \"<\" \n",
    "                     or string[index+1] == \">\" \n",
    "                     or string[index-1] == \"=\" \n",
    "                     or string[index+1] == \"=\") \n",
    "\n",
    "\n",
    "def combineMultiple(string, index):\n",
    "    firstQuoteIndex = 0\n",
    "    for firstQuoteIndex in reversed(range(0, index)):\n",
    "        if(ord(string[firstQuoteIndex]) == 34):\n",
    "            break\n",
    "    lastQuoteIndex = index\n",
    "    for lastQuoteIndex in range(index, len(string)):\n",
    "        if(ord(string[lastQuoteIndex])== 34):\n",
    "            break\n",
    "    insertion = string[firstQuoteIndex+1:lastQuoteIndex]\n",
    "    insertion = insertion.split(\",\")\n",
    "    return string[:firstQuoteIndex] + 'all({})'.format(insertion) + string[lastQuoteIndex+1:]"
   ]
  }
 ],
 "metadata": {
  "kernelspec": {
   "display_name": "Python 3",
   "language": "python",
   "name": "python3"
  },
  "language_info": {
   "codemirror_mode": {
    "name": "ipython",
    "version": 3
   },
   "file_extension": ".py",
   "mimetype": "text/x-python",
   "name": "python",
   "nbconvert_exporter": "python",
   "pygments_lexer": "ipython3",
   "version": "3.6.6"
  }
 },
 "nbformat": 4,
 "nbformat_minor": 2
}
