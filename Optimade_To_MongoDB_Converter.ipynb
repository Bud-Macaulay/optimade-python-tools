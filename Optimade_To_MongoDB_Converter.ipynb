{
 "cells": [
  {
   "cell_type": "code",
   "execution_count": 1,
   "metadata": {
    "scrolled": true
   },
   "outputs": [],
   "source": [
    "#!pip install pql\n",
    "import pql"
   ]
  },
  {
   "cell_type": "code",
   "execution_count": 2,
   "metadata": {},
   "outputs": [],
   "source": [
    "from optimade.filter import Parser\n",
    "from lark import Transformer\n",
    "p = Parser(version=(0, 9, 6))"
   ]
  },
  {
   "cell_type": "code",
   "execution_count": 3,
   "metadata": {},
   "outputs": [],
   "source": [
    "import pql\n",
    "from optimade.filter import Parser\n",
    "from lark import Transformer\n",
    "\n",
    "\n",
    "optiMadeToPQLOperatorSwitch = {\n",
    "    \"=\":\"==\",\n",
    "    \"<=\":\"<=\",\n",
    "    \">=\":\">=\",\n",
    "    \"=>\":\">=\",\n",
    "    \"!=\": \"!=\",\n",
    "    \"<\":\"<\",\n",
    "    \">\":\">\",\n",
    "}\n",
    "\n",
    "def OptiMadeToPQLOperatorValidator(x):\n",
    "    return optiMadeToPQLOperatorSwitch[x]\n",
    "\n",
    "def combineMultiple(string, index):\n",
    "    firstQuoteIndex = 0\n",
    "    for firstQuoteIndex in reversed(range(0, index)):\n",
    "        if(ord(string[firstQuoteIndex]) == 34):\n",
    "            break\n",
    "    lastQuoteIndex = index\n",
    "    for lastQuoteIndex in range(index, len(string)):\n",
    "        if(ord(string[lastQuoteIndex])== 34):\n",
    "            break\n",
    "    insertion = string[firstQuoteIndex+1:lastQuoteIndex]\n",
    "    insertion = insertion.split(\",\")\n",
    "    return string[:firstQuoteIndex] + 'all({})'.format(insertion) + string[lastQuoteIndex+1:]\n",
    "\n",
    "def parseInput(PQL):\n",
    "    length = len(PQL)\n",
    "    i = 0\n",
    "    while(i < length):\n",
    "        if(PQL[i] == \",\"):\n",
    "            PQL = combineMultiple(PQL, i)\n",
    "        i = i + 1 \n",
    "    return PQL\n",
    "\n",
    "class OptimadeToPQLTransformer(Transformer):\n",
    "    def comparison(self, args):\n",
    "        A = str(args[0])\n",
    "        B = str(args[2])\n",
    "        operator = OptiMadeToPQLOperatorValidator(args[1])\n",
    "#         print('\"' + A +'\"' + operator + '\"' + B + '\"')\n",
    "#         return '\"' + A +'\"' + operator + '\"' + B + '\"'\n",
    "        return A + operator + '\"' + B + '\"'\n",
    "    def atom(self, args):\n",
    "#         print(\"atom:\", args, len(args))\n",
    "        return args[0]\n",
    "    def term(self, args):\n",
    "#         print(\"term:\", args, len(args))\n",
    "        result = \"\"\n",
    "        for arg in args:\n",
    "            if arg.lower() == \"and\" or arg.lower() == \"or\":\n",
    "                arg = arg.lower()\n",
    "            result = result + \" \" + arg.lower()\n",
    "        return \"(\" + result.lstrip() + \")\"\n",
    "    \n",
    "    def expression(self, args):\n",
    "#         print(\"expression:\",args)\n",
    "        result = \"\"\n",
    "        for arg in args:\n",
    "            lower = arg.lower()\n",
    "            if(lower == \"and\" or lower == \"or\"):\n",
    "                arg = lower\n",
    "            result = result + \" \" + arg\n",
    "        return result.lstrip()\n",
    "    def start(self, args):\n",
    "        return args[1]\n",
    "\n",
    "def optimadeToMongoDBConverter(optimadeQuery):\n",
    "    p = Parser(version=(0, 9, 6))\n",
    "#     print(\"optimadeQuery:\", optimadeQuery)\n",
    "#     print()\n",
    "    tree = p.parse(optimadeQuery)\n",
    "#     print(\"tree:\\n\", tree)\n",
    "#     print()\n",
    "    rawPQL = OptimadeToPQLTransformer().transform(tree)\n",
    "    cleanedPQL = parseInput(rawPQL)\n",
    "    print(\"cleanedPQL:\", cleanedPQL)\n",
    "    print()\n",
    "    rawMongoDbQuery = {}\n",
    "    try:\n",
    "        rawMongoDbQuery = pql.find(cleanedPQL)\n",
    "    except:\n",
    "        return \"ERROR: Unable to execute conversion\"\n",
    "    \n",
    "    _cleanMongo(rawMongoDbQuery)\n",
    "    return cleanedMongoDbQuery\n",
    "    "
   ]
  },
  {
   "cell_type": "code",
   "execution_count": 30,
   "metadata": {},
   "outputs": [],
   "source": [
    "def cleanMongo(rawMongoDbQuery):\n",
    "    for k in rawMongoDbQuery:\n",
    "        value = rawMongoDbQuery[k]\n",
    "        if(type(value) == list):\n",
    "            for v in value:\n",
    "                cleanMongo(v)\n",
    "        elif(type(value) == dict):\n",
    "            cleanMongo(value)\n",
    "        elif(type(value) == str):\n",
    "            try:\n",
    "                value = float(value)\n",
    "                print(float(value))\n",
    "            except:\n",
    "                f = value\n",
    "            \n",
    "        else:\n",
    "            print(\"value\", value)\n",
    "            \n",
    "\n"
   ]
  },
  {
   "cell_type": "code",
   "execution_count": 31,
   "metadata": {},
   "outputs": [
    {
     "name": "stdout",
     "output_type": "stream",
     "text": [
      "1.0\n",
      "2.0\n",
      "3.0\n"
     ]
    }
   ],
   "source": [
    "x = {'$and': [{'a': {'$lt': '1'}}, {'$or': [{'b': {'$gt': '2'}}, {'c': '3'}]}]}\n",
    "cleanMongo(x)"
   ]
  },
  {
   "cell_type": "code",
   "execution_count": 32,
   "metadata": {},
   "outputs": [
    {
     "data": {
      "text/plain": [
       "{'$and': [{'a': {'$lt': '1'}}, {'$or': [{'b': {'$gt': '2'}}, {'c': '3'}]}]}"
      ]
     },
     "execution_count": 32,
     "metadata": {},
     "output_type": "execute_result"
    }
   ],
   "source": [
    "x"
   ]
  },
  {
   "cell_type": "code",
   "execution_count": null,
   "metadata": {},
   "outputs": [],
   "source": []
  },
  {
   "cell_type": "code",
   "execution_count": null,
   "metadata": {},
   "outputs": [],
   "source": []
  },
  {
   "cell_type": "code",
   "execution_count": null,
   "metadata": {},
   "outputs": [],
   "source": []
  },
  {
   "cell_type": "code",
   "execution_count": null,
   "metadata": {},
   "outputs": [],
   "source": [
    "print(optimadeToMongoDBConverter('filter=A<1'))\n",
    "\n",
    "print(optimadeToMongoDBConverter('filter=A<1 AnD (B > 2 or C = 3)'))"
   ]
  },
  {
   "cell_type": "code",
   "execution_count": null,
   "metadata": {},
   "outputs": [],
   "source": []
  },
  {
   "cell_type": "code",
   "execution_count": null,
   "metadata": {},
   "outputs": [],
   "source": []
  },
  {
   "cell_type": "code",
   "execution_count": null,
   "metadata": {},
   "outputs": [],
   "source": []
  },
  {
   "cell_type": "code",
   "execution_count": 26,
   "metadata": {
    "scrolled": true
   },
   "outputs": [
    {
     "name": "stdout",
     "output_type": "stream",
     "text": [
      "cleanedPQL: ((delta_volume==\"-89.79884478160747\") and id==\"2\")\n",
      "\n"
     ]
    },
    {
     "data": {
      "text/plain": [
       "{'$and': [{'delta_volume': '-89.79884478160747'}, {'id': '2'}]}"
      ]
     },
     "execution_count": 26,
     "metadata": {},
     "output_type": "execute_result"
    }
   ],
   "source": [
    "query = \"delta_volume=-89.79884478160747 and id=2\"\n",
    "optimadeToMongoDBConverter(\"filter=\"+ query)"
   ]
  },
  {
   "cell_type": "markdown",
   "metadata": {},
   "source": [
    "this works: <br>\n",
    "materials_collection.find_one({'density':{'$gt':float('3')}})"
   ]
  },
  {
   "cell_type": "code",
   "execution_count": null,
   "metadata": {},
   "outputs": [],
   "source": []
  },
  {
   "cell_type": "code",
   "execution_count": 10,
   "metadata": {},
   "outputs": [],
   "source": [
    "rawPQL = 'd<1 and (a<0 or c >2)'\n"
   ]
  },
  {
   "cell_type": "code",
   "execution_count": 12,
   "metadata": {},
   "outputs": [],
   "source": [
    "import unittest\n",
    "class ConverterTest(unittest.TestCase):\n",
    "    def setup(self):\n",
    "        pass\n",
    "    def testAll(self):\n",
    "        self.test_one_input()\n",
    "        self.test_two_inputs_with_and()\n",
    "        self.test_two_inputs_with_or()\n",
    "        self.test_valid_numbers_positive()\n",
    "        \n",
    "    def test_one_input(self):\n",
    "        testCase = \"filter=a<0\" \n",
    "        answer = {'a': {'$lt': 0}}\n",
    "        message = \"test_one_input failed\"\n",
    "        self.assertEqual(optimadeToMongoDBConverter(testCase), answer, message)\n",
    "        print(\"passed: test_one_input passed\")\n",
    "    def test_two_inputs_with_and(self):\n",
    "        testCase = \"filter=a<0 and b>2\" \n",
    "        answer = {'$and': [{'a': {'$lt': 0}}, {'b': {'$gt': 2}}]}\n",
    "        message = \"test_two_inputs_with_and failed\"\n",
    "        self.assertEqual(optimadeToMongoDBConverter(testCase), answer, message)\n",
    "        print(\"passed: test_two_inputs_with_and\")\n",
    "    def test_two_inputs_with_or(self):\n",
    "        testCase = \"filter=a<0 or b>2\" \n",
    "        answer = {'$or': [{'a': {'$lt': 0}}, {'b': {'$gt': 2}}]}\n",
    "        message = \"test_two_inputs_with_or failed\"\n",
    "        self.assertEqual(optimadeToMongoDBConverter(testCase), answer, message)\n",
    "        print(\"passed: test_two_inputs_with_or\")\n",
    "    def test_valid_numbers_with_positive_sign(self):\n",
    "        testCase = \"filter= a=+1\" \n",
    "        answer = {'a': +1}\n",
    "        message = \"test_valid_numbers_positive failed\"\n",
    "        self.assertEqual(optimadeToMongoDBConverter(testCase), answer, message)\n",
    "        print(\"passed: test_valid_numbers_positive\")"
   ]
  },
  {
   "cell_type": "code",
   "execution_count": 13,
   "metadata": {},
   "outputs": [
    {
     "name": "stdout",
     "output_type": "stream",
     "text": [
      "optimadeQuery: filter=a<0\n",
      "\n",
      "cleanedPQL: (a<0)\n",
      "\n",
      "passed: test_one_input passed\n",
      "optimadeQuery: filter=a<0 and b>2\n",
      "\n",
      "cleanedPQL: ((a<0) and b>2)\n",
      "\n",
      "passed: test_two_inputs_with_and\n",
      "optimadeQuery: filter=a<0 or b>2\n",
      "\n",
      "cleanedPQL: ((a<0) or b>2)\n",
      "\n",
      "passed: test_two_inputs_with_or\n"
     ]
    },
    {
     "ename": "AttributeError",
     "evalue": "'ConverterTest' object has no attribute 'test_valid_numbers_positive'",
     "output_type": "error",
     "traceback": [
      "\u001b[0;31m---------------------------------------------------------------------------\u001b[0m",
      "\u001b[0;31mAttributeError\u001b[0m                            Traceback (most recent call last)",
      "\u001b[0;32m<ipython-input-13-fda05b9587db>\u001b[0m in \u001b[0;36m<module>\u001b[0;34m()\u001b[0m\n\u001b[0;32m----> 1\u001b[0;31m \u001b[0mConverterTest\u001b[0m\u001b[0;34m(\u001b[0m\u001b[0;34m)\u001b[0m\u001b[0;34m.\u001b[0m\u001b[0mtestAll\u001b[0m\u001b[0;34m(\u001b[0m\u001b[0;34m)\u001b[0m\u001b[0;34m\u001b[0m\u001b[0m\n\u001b[0m",
      "\u001b[0;32m<ipython-input-12-e2fc2ad45342>\u001b[0m in \u001b[0;36mtestAll\u001b[0;34m(self)\u001b[0m\n\u001b[1;32m      7\u001b[0m         \u001b[0mself\u001b[0m\u001b[0;34m.\u001b[0m\u001b[0mtest_two_inputs_with_and\u001b[0m\u001b[0;34m(\u001b[0m\u001b[0;34m)\u001b[0m\u001b[0;34m\u001b[0m\u001b[0m\n\u001b[1;32m      8\u001b[0m         \u001b[0mself\u001b[0m\u001b[0;34m.\u001b[0m\u001b[0mtest_two_inputs_with_or\u001b[0m\u001b[0;34m(\u001b[0m\u001b[0;34m)\u001b[0m\u001b[0;34m\u001b[0m\u001b[0m\n\u001b[0;32m----> 9\u001b[0;31m         \u001b[0mself\u001b[0m\u001b[0;34m.\u001b[0m\u001b[0mtest_valid_numbers_positive\u001b[0m\u001b[0;34m(\u001b[0m\u001b[0;34m)\u001b[0m\u001b[0;34m\u001b[0m\u001b[0m\n\u001b[0m\u001b[1;32m     10\u001b[0m \u001b[0;34m\u001b[0m\u001b[0m\n\u001b[1;32m     11\u001b[0m     \u001b[0;32mdef\u001b[0m \u001b[0mtest_one_input\u001b[0m\u001b[0;34m(\u001b[0m\u001b[0mself\u001b[0m\u001b[0;34m)\u001b[0m\u001b[0;34m:\u001b[0m\u001b[0;34m\u001b[0m\u001b[0m\n",
      "\u001b[0;31mAttributeError\u001b[0m: 'ConverterTest' object has no attribute 'test_valid_numbers_positive'"
     ]
    }
   ],
   "source": [
    "ConverterTest().testAll()"
   ]
  },
  {
   "cell_type": "code",
   "execution_count": null,
   "metadata": {},
   "outputs": [],
   "source": []
  },
  {
   "cell_type": "code",
   "execution_count": null,
   "metadata": {},
   "outputs": [],
   "source": []
  },
  {
   "cell_type": "code",
   "execution_count": null,
   "metadata": {},
   "outputs": [],
   "source": []
  },
  {
   "cell_type": "code",
   "execution_count": null,
   "metadata": {},
   "outputs": [],
   "source": []
  },
  {
   "cell_type": "code",
   "execution_count": null,
   "metadata": {},
   "outputs": [],
   "source": []
  },
  {
   "cell_type": "code",
   "execution_count": null,
   "metadata": {},
   "outputs": [],
   "source": []
  },
  {
   "cell_type": "code",
   "execution_count": null,
   "metadata": {},
   "outputs": [],
   "source": []
  },
  {
   "cell_type": "code",
   "execution_count": null,
   "metadata": {},
   "outputs": [],
   "source": []
  },
  {
   "cell_type": "code",
   "execution_count": null,
   "metadata": {},
   "outputs": [],
   "source": []
  },
  {
   "cell_type": "code",
   "execution_count": null,
   "metadata": {},
   "outputs": [],
   "source": []
  },
  {
   "cell_type": "code",
   "execution_count": 14,
   "metadata": {},
   "outputs": [
    {
     "name": "stdout",
     "output_type": "stream",
     "text": [
      "start\n",
      "  filter=\n",
      "  expression\n",
      "    term\n",
      "      term\n",
      "        atom\n",
      "          comparison\n",
      "            A\n",
      "            <\n",
      "            1\n",
      "      and\n",
      "      atom\n",
      "        comparison\n",
      "          b\n",
      "          <\n",
      "          2\n",
      "\n"
     ]
    }
   ],
   "source": [
    "import pql\n",
    "from optimade.filter import Parser\n",
    "from lark import Transformer\n",
    "\n",
    "p = Parser(version=(0, 9, 6))\n",
    "x = p.parse('filter= A<1 and b < 2')\n",
    "print(x.pretty())"
   ]
  },
  {
   "cell_type": "code",
   "execution_count": 15,
   "metadata": {},
   "outputs": [
    {
     "name": "stdout",
     "output_type": "stream",
     "text": [
      "start\n",
      "  filter=\n",
      "  expression\n",
      "    term\n",
      "      term\n",
      "        term\n",
      "          term\n",
      "            atom\n",
      "              comparison\n",
      "                A\n",
      "                <\n",
      "                1\n",
      "          or\n",
      "          atom\n",
      "            comparison\n",
      "              b\n",
      "              <\n",
      "              2\n",
      "        and\n",
      "        atom\n",
      "          comparison\n",
      "            c\n",
      "            <\n",
      "            1\n",
      "\n"
     ]
    }
   ],
   "source": [
    "import pql\n",
    "from optimade.filter import Parser\n",
    "from lark import Transformer\n",
    "\n",
    "p = Parser(version=(0, 9, 6))\n",
    "print(p.parse('filter= (A<1 or b < 2) and c < 1').pretty())"
   ]
  },
  {
   "cell_type": "code",
   "execution_count": 16,
   "metadata": {},
   "outputs": [
    {
     "name": "stdout",
     "output_type": "stream",
     "text": [
      "start\n",
      "  filter=\n",
      "  expression\n",
      "    expression\n",
      "      term\n",
      "        atom\n",
      "          comparison\n",
      "            A\n",
      "            <\n",
      "            1\n",
      "    or\n",
      "    term\n",
      "      term\n",
      "        term\n",
      "          atom\n",
      "            comparison\n",
      "              b\n",
      "              <\n",
      "              2\n",
      "        and\n",
      "        atom\n",
      "          comparison\n",
      "            c\n",
      "            <\n",
      "            1\n",
      "\n"
     ]
    }
   ],
   "source": [
    "print(p.parse('filter= A<1 or (b < 2 and c < 1)').pretty())"
   ]
  },
  {
   "cell_type": "code",
   "execution_count": 17,
   "metadata": {},
   "outputs": [
    {
     "data": {
      "text/plain": [
       "False"
      ]
     },
     "execution_count": 17,
     "metadata": {},
     "output_type": "execute_result"
    }
   ],
   "source": [
    "p.parse('filter= A<1 or (b < 2 and c < 1)') == p.parse('filter= (A<1 or b < 2) and c < 1')"
   ]
  },
  {
   "cell_type": "code",
   "execution_count": null,
   "metadata": {},
   "outputs": [],
   "source": []
  }
 ],
 "metadata": {
  "kernelspec": {
   "display_name": "Python 3",
   "language": "python",
   "name": "python3"
  },
  "language_info": {
   "codemirror_mode": {
    "name": "ipython",
    "version": 3
   },
   "file_extension": ".py",
   "mimetype": "text/x-python",
   "name": "python",
   "nbconvert_exporter": "python",
   "pygments_lexer": "ipython3",
   "version": "3.6.6"
  }
 },
 "nbformat": 4,
 "nbformat_minor": 2
}
