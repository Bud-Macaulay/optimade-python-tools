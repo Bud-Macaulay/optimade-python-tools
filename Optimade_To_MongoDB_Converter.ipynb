{
 "cells": [
  {
   "cell_type": "code",
   "execution_count": 5,
   "metadata": {
    "scrolled": true
   },
   "outputs": [],
   "source": [
    "#!pip install pql\n",
    "import pql\n",
    "testAll = pql.find(\"elemets == all(['Si', 'O', 3])\")"
   ]
  },
  {
   "cell_type": "code",
   "execution_count": 6,
   "metadata": {},
   "outputs": [],
   "source": [
    "from optimade.filter import Parser\n",
    "from lark import Transformer\n",
    "p = Parser(version=(0, 9, 5))"
   ]
  },
  {
   "cell_type": "code",
   "execution_count": 191,
   "metadata": {},
   "outputs": [],
   "source": [
    "import pql\n",
    "from optimade.filter import Parser\n",
    "from lark import Transformer\n",
    "\n",
    "\n",
    "optiMadeToPQLOperatorSwitch = {\n",
    "    \"=\":\"==\",\n",
    "    \"<=\":\"<=\",\n",
    "    \">=\":\">=\",\n",
    "    \"=>\":\">=\",\n",
    "    \"!=\": \"!=\",\n",
    "    \"<\":\"<\",\n",
    "    \">\":\">\",\n",
    "}\n",
    "\n",
    "def OptiMadeToPQLOperatorValidator(x):\n",
    "    return optiMadeToPQLOperatorSwitch[x]\n",
    "\n",
    "def combineMultiple(string, index):\n",
    "    firstQuoteIndex = 0\n",
    "    for firstQuoteIndex in reversed(range(0, index)):\n",
    "        if(ord(string[firstQuoteIndex]) == 34):\n",
    "            break\n",
    "    lastQuoteIndex = index\n",
    "    for lastQuoteIndex in range(index, len(string)):\n",
    "        if(ord(string[lastQuoteIndex])== 34):\n",
    "            break\n",
    "    insertion = string[firstQuoteIndex+1:lastQuoteIndex]\n",
    "    insertion = insertion.split(\",\")\n",
    "    return string[:firstQuoteIndex] + 'all({})'.format(insertion) + string[lastQuoteIndex+1:]\n",
    "\n",
    "def parseInput(PQL):\n",
    "    length = len(PQL)\n",
    "    i = 0\n",
    "    while(i < length):\n",
    "        if(PQL[i] == \",\"):\n",
    "            PQL = combineMultiple(PQL, i)\n",
    "        i = i + 1 \n",
    "    return PQL\n",
    "\n",
    "class OptimadeToPQLTransformer(Transformer):\n",
    "    def comparison(self, args):\n",
    "        A = str(args[0])\n",
    "        B = str(args[2])\n",
    "        operator = OptiMadeToPQLOperatorValidator(args[1])\n",
    "#         print('\"' + A +'\"' + operator + '\"' + B + '\"')\n",
    "        return '\"' + A +'\"' + operator + '\"' + B + '\"'\n",
    "    def atom(self, args):\n",
    "        return args[0]\n",
    "    def term(self, args):\n",
    "        result = \"\"\n",
    "        for arg in args:\n",
    "            result = result + \" \" + arg\n",
    "        return result.lstrip()\n",
    "    def expression(self, args):\n",
    "        result = \"\"\n",
    "        for arg in args:\n",
    "            result = result + \" \" + arg\n",
    "        return result.lstrip()\n",
    "    def start(self, args):\n",
    "        return args[1]\n",
    "\n",
    "def optimadeToMongoDBConverter(optimadeQuery):\n",
    "    p = Parser(version=(0, 9, 5))\n",
    "#     print(\"optimadeQuery:\", optimadeQuery)\n",
    "#     print()\n",
    "    tree = p.parse(optimadeQuery)\n",
    "#     print(\"tree:\\n\", tree)\n",
    "#     print()\n",
    "    rawPQL = OptimadeToPQLTransformer().transform(tree)\n",
    "    cleanedPQL = parseInput(rawPQL)\n",
    "#     print(cleanedPQL)\n",
    "#     print()\n",
    "    try:\n",
    "        return pql.find(cleanedPQL)\n",
    "    except:\n",
    "        return \"ERROR: Unable to execute conversion\"\n",
    "    "
   ]
  },
  {
   "cell_type": "code",
   "execution_count": 197,
   "metadata": {},
   "outputs": [],
   "source": [
    "# sampleInput1 = 'filter=formula_prototype=\"AB2C3\" and nelements=4 and elements=\"Si, O\"'\n",
    "# sampleInput2 = \"filter=formula_prototype='AB2C3' or nelements=4 or elements='Si, O'\"\n",
    "# sampleInput3 = 'filter=formula_prototype=\"AB2C3\" and nelements=4 or elements=\"Si, O\"'\n",
    "# sampleInput4 = 'filter=formula_prototype=\"AB2C3\" and (nelements=4 or elements=\"Si, O\")'\n",
    "# print(\"input1:\", optimadeToMongoDBConverter(sampleInput1))\n",
    "# print(\"result:\\n\", optimadeToMongoDBConverter(sampleInput2))\n",
    "# x = optimadeToMongoDBConverter(sampleInput3)\n",
    "x = optimadeToMongoDBConverter('filter=a<0 and b>+2')"
   ]
  },
  {
   "cell_type": "code",
   "execution_count": 201,
   "metadata": {},
   "outputs": [
    {
     "data": {
      "text/plain": [
       "{'a': {'$lt': '-1'}}"
      ]
     },
     "execution_count": 201,
     "metadata": {},
     "output_type": "execute_result"
    }
   ],
   "source": [
    "pql.find(\"a < '-1'\")"
   ]
  },
  {
   "cell_type": "code",
   "execution_count": null,
   "metadata": {},
   "outputs": [],
   "source": []
  },
  {
   "cell_type": "code",
   "execution_count": null,
   "metadata": {},
   "outputs": [],
   "source": []
  },
  {
   "cell_type": "code",
   "execution_count": null,
   "metadata": {},
   "outputs": [],
   "source": []
  },
  {
   "cell_type": "code",
   "execution_count": null,
   "metadata": {},
   "outputs": [],
   "source": []
  },
  {
   "cell_type": "code",
   "execution_count": null,
   "metadata": {},
   "outputs": [],
   "source": []
  },
  {
   "cell_type": "code",
   "execution_count": null,
   "metadata": {},
   "outputs": [],
   "source": []
  },
  {
   "cell_type": "code",
   "execution_count": null,
   "metadata": {},
   "outputs": [],
   "source": []
  },
  {
   "cell_type": "code",
   "execution_count": 184,
   "metadata": {},
   "outputs": [],
   "source": [
    "import unittest\n",
    "class ConverterTest(unittest.TestCase):\n",
    "    def setup(self):\n",
    "        pass\n",
    "    def testAll(self):\n",
    "        self.test_one_input()\n",
    "        self.test_two_inputs_with_and()\n",
    "        self.test_two_inputs_with_or()\n",
    "        self.test_valid_numbers_positive()\n",
    "        \n",
    "    def test_one_input(self):\n",
    "        testCase = \"filter=a<0\" \n",
    "        answer = {'a': {'$lt': 0}}\n",
    "        message = \"test_one_input failed\"\n",
    "        self.assertEqual(optimadeToMongoDBConverter(testCase), answer, message)\n",
    "        print(\"passed: test_one_input passed\")\n",
    "    def test_two_inputs_with_and(self):\n",
    "        testCase = \"filter=a<0 and b>2\" \n",
    "        answer = {'$and': [{'a': {'$lt': 0}}, {'b': {'$gt': 2}}]}\n",
    "        message = \"test_two_inputs_with_and failed\"\n",
    "        self.assertEqual(optimadeToMongoDBConverter(testCase), answer, message)\n",
    "        print(\"passed: test_two_inputs_with_and\")\n",
    "    def test_two_inputs_with_or(self):\n",
    "        testCase = \"filter=a<0 or b>2\" \n",
    "        answer = {'$or': [{'a': {'$lt': 0}}, {'b': {'$gt': 2}}]}\n",
    "        message = \"test_two_inputs_with_or failed\"\n",
    "        self.assertEqual(optimadeToMongoDBConverter(testCase), answer, message)\n",
    "        print(\"passed: test_two_inputs_with_or\")\n",
    "    def test_valid_numbers_with_positive_sign(self):\n",
    "        testCase = \"filter= a=+1\" \n",
    "        answer = {'a': +1}\n",
    "        message = \"test_valid_numbers_positive failed\"\n",
    "        self.assertEqual(optimadeToMongoDBConverter(testCase), answer, message)\n",
    "        print(\"passed: test_valid_numbers_positive\")"
   ]
  },
  {
   "cell_type": "code",
   "execution_count": 185,
   "metadata": {},
   "outputs": [
    {
     "name": "stdout",
     "output_type": "stream",
     "text": [
      "\"a\"<\"0\"\n",
      "\"a\"<\"0\"\n",
      "\n"
     ]
    },
    {
     "ename": "AssertionError",
     "evalue": "{'a': {'$lt': '0'}} != {'a': {'$lt': 0}}\n- {'a': {'$lt': '0'}}\n?               - -\n\n+ {'a': {'$lt': 0}} : test_one_input failed",
     "output_type": "error",
     "traceback": [
      "\u001b[0;31m---------------------------------------------------------------------------\u001b[0m",
      "\u001b[0;31mAssertionError\u001b[0m                            Traceback (most recent call last)",
      "\u001b[0;32m<ipython-input-185-fda05b9587db>\u001b[0m in \u001b[0;36m<module>\u001b[0;34m()\u001b[0m\n\u001b[0;32m----> 1\u001b[0;31m \u001b[0mConverterTest\u001b[0m\u001b[0;34m(\u001b[0m\u001b[0;34m)\u001b[0m\u001b[0;34m.\u001b[0m\u001b[0mtestAll\u001b[0m\u001b[0;34m(\u001b[0m\u001b[0;34m)\u001b[0m\u001b[0;34m\u001b[0m\u001b[0m\n\u001b[0m",
      "\u001b[0;32m<ipython-input-184-d1852171f825>\u001b[0m in \u001b[0;36mtestAll\u001b[0;34m(self)\u001b[0m\n\u001b[1;32m      4\u001b[0m         \u001b[0;32mpass\u001b[0m\u001b[0;34m\u001b[0m\u001b[0m\n\u001b[1;32m      5\u001b[0m     \u001b[0;32mdef\u001b[0m \u001b[0mtestAll\u001b[0m\u001b[0;34m(\u001b[0m\u001b[0mself\u001b[0m\u001b[0;34m)\u001b[0m\u001b[0;34m:\u001b[0m\u001b[0;34m\u001b[0m\u001b[0m\n\u001b[0;32m----> 6\u001b[0;31m         \u001b[0mself\u001b[0m\u001b[0;34m.\u001b[0m\u001b[0mtest_one_input\u001b[0m\u001b[0;34m(\u001b[0m\u001b[0;34m)\u001b[0m\u001b[0;34m\u001b[0m\u001b[0m\n\u001b[0m\u001b[1;32m      7\u001b[0m         \u001b[0mself\u001b[0m\u001b[0;34m.\u001b[0m\u001b[0mtest_two_inputs_with_and\u001b[0m\u001b[0;34m(\u001b[0m\u001b[0;34m)\u001b[0m\u001b[0;34m\u001b[0m\u001b[0m\n\u001b[1;32m      8\u001b[0m         \u001b[0mself\u001b[0m\u001b[0;34m.\u001b[0m\u001b[0mtest_two_inputs_with_or\u001b[0m\u001b[0;34m(\u001b[0m\u001b[0;34m)\u001b[0m\u001b[0;34m\u001b[0m\u001b[0m\n",
      "\u001b[0;32m<ipython-input-184-d1852171f825>\u001b[0m in \u001b[0;36mtest_one_input\u001b[0;34m(self)\u001b[0m\n\u001b[1;32m     13\u001b[0m         \u001b[0manswer\u001b[0m \u001b[0;34m=\u001b[0m \u001b[0;34m{\u001b[0m\u001b[0;34m'a'\u001b[0m\u001b[0;34m:\u001b[0m \u001b[0;34m{\u001b[0m\u001b[0;34m'$lt'\u001b[0m\u001b[0;34m:\u001b[0m \u001b[0;36m0\u001b[0m\u001b[0;34m}\u001b[0m\u001b[0;34m}\u001b[0m\u001b[0;34m\u001b[0m\u001b[0m\n\u001b[1;32m     14\u001b[0m         \u001b[0mmessage\u001b[0m \u001b[0;34m=\u001b[0m \u001b[0;34m\"test_one_input failed\"\u001b[0m\u001b[0;34m\u001b[0m\u001b[0m\n\u001b[0;32m---> 15\u001b[0;31m         \u001b[0mself\u001b[0m\u001b[0;34m.\u001b[0m\u001b[0massertEqual\u001b[0m\u001b[0;34m(\u001b[0m\u001b[0moptimadeToMongoDBConverter\u001b[0m\u001b[0;34m(\u001b[0m\u001b[0mtestCase\u001b[0m\u001b[0;34m)\u001b[0m\u001b[0;34m,\u001b[0m \u001b[0manswer\u001b[0m\u001b[0;34m,\u001b[0m \u001b[0mmessage\u001b[0m\u001b[0;34m)\u001b[0m\u001b[0;34m\u001b[0m\u001b[0m\n\u001b[0m\u001b[1;32m     16\u001b[0m         \u001b[0mprint\u001b[0m\u001b[0;34m(\u001b[0m\u001b[0;34m\"passed: test_one_input passed\"\u001b[0m\u001b[0;34m)\u001b[0m\u001b[0;34m\u001b[0m\u001b[0m\n\u001b[1;32m     17\u001b[0m     \u001b[0;32mdef\u001b[0m \u001b[0mtest_two_inputs_with_and\u001b[0m\u001b[0;34m(\u001b[0m\u001b[0mself\u001b[0m\u001b[0;34m)\u001b[0m\u001b[0;34m:\u001b[0m\u001b[0;34m\u001b[0m\u001b[0m\n",
      "\u001b[0;32m~/miniconda3/envs/optimade/lib/python3.6/unittest/case.py\u001b[0m in \u001b[0;36massertEqual\u001b[0;34m(self, first, second, msg)\u001b[0m\n\u001b[1;32m    827\u001b[0m         \"\"\"\n\u001b[1;32m    828\u001b[0m         \u001b[0massertion_func\u001b[0m \u001b[0;34m=\u001b[0m \u001b[0mself\u001b[0m\u001b[0;34m.\u001b[0m\u001b[0m_getAssertEqualityFunc\u001b[0m\u001b[0;34m(\u001b[0m\u001b[0mfirst\u001b[0m\u001b[0;34m,\u001b[0m \u001b[0msecond\u001b[0m\u001b[0;34m)\u001b[0m\u001b[0;34m\u001b[0m\u001b[0m\n\u001b[0;32m--> 829\u001b[0;31m         \u001b[0massertion_func\u001b[0m\u001b[0;34m(\u001b[0m\u001b[0mfirst\u001b[0m\u001b[0;34m,\u001b[0m \u001b[0msecond\u001b[0m\u001b[0;34m,\u001b[0m \u001b[0mmsg\u001b[0m\u001b[0;34m=\u001b[0m\u001b[0mmsg\u001b[0m\u001b[0;34m)\u001b[0m\u001b[0;34m\u001b[0m\u001b[0m\n\u001b[0m\u001b[1;32m    830\u001b[0m \u001b[0;34m\u001b[0m\u001b[0m\n\u001b[1;32m    831\u001b[0m     \u001b[0;32mdef\u001b[0m \u001b[0massertNotEqual\u001b[0m\u001b[0;34m(\u001b[0m\u001b[0mself\u001b[0m\u001b[0;34m,\u001b[0m \u001b[0mfirst\u001b[0m\u001b[0;34m,\u001b[0m \u001b[0msecond\u001b[0m\u001b[0;34m,\u001b[0m \u001b[0mmsg\u001b[0m\u001b[0;34m=\u001b[0m\u001b[0;32mNone\u001b[0m\u001b[0;34m)\u001b[0m\u001b[0;34m:\u001b[0m\u001b[0;34m\u001b[0m\u001b[0m\n",
      "\u001b[0;32m~/miniconda3/envs/optimade/lib/python3.6/unittest/case.py\u001b[0m in \u001b[0;36massertDictEqual\u001b[0;34m(self, d1, d2, msg)\u001b[0m\n\u001b[1;32m   1119\u001b[0m                            pprint.pformat(d2).splitlines())))\n\u001b[1;32m   1120\u001b[0m             \u001b[0mstandardMsg\u001b[0m \u001b[0;34m=\u001b[0m \u001b[0mself\u001b[0m\u001b[0;34m.\u001b[0m\u001b[0m_truncateMessage\u001b[0m\u001b[0;34m(\u001b[0m\u001b[0mstandardMsg\u001b[0m\u001b[0;34m,\u001b[0m \u001b[0mdiff\u001b[0m\u001b[0;34m)\u001b[0m\u001b[0;34m\u001b[0m\u001b[0m\n\u001b[0;32m-> 1121\u001b[0;31m             \u001b[0mself\u001b[0m\u001b[0;34m.\u001b[0m\u001b[0mfail\u001b[0m\u001b[0;34m(\u001b[0m\u001b[0mself\u001b[0m\u001b[0;34m.\u001b[0m\u001b[0m_formatMessage\u001b[0m\u001b[0;34m(\u001b[0m\u001b[0mmsg\u001b[0m\u001b[0;34m,\u001b[0m \u001b[0mstandardMsg\u001b[0m\u001b[0;34m)\u001b[0m\u001b[0;34m)\u001b[0m\u001b[0;34m\u001b[0m\u001b[0m\n\u001b[0m\u001b[1;32m   1122\u001b[0m \u001b[0;34m\u001b[0m\u001b[0m\n\u001b[1;32m   1123\u001b[0m     \u001b[0;32mdef\u001b[0m \u001b[0massertDictContainsSubset\u001b[0m\u001b[0;34m(\u001b[0m\u001b[0mself\u001b[0m\u001b[0;34m,\u001b[0m \u001b[0msubset\u001b[0m\u001b[0;34m,\u001b[0m \u001b[0mdictionary\u001b[0m\u001b[0;34m,\u001b[0m \u001b[0mmsg\u001b[0m\u001b[0;34m=\u001b[0m\u001b[0;32mNone\u001b[0m\u001b[0;34m)\u001b[0m\u001b[0;34m:\u001b[0m\u001b[0;34m\u001b[0m\u001b[0m\n",
      "\u001b[0;32m~/miniconda3/envs/optimade/lib/python3.6/unittest/case.py\u001b[0m in \u001b[0;36mfail\u001b[0;34m(self, msg)\u001b[0m\n\u001b[1;32m    668\u001b[0m     \u001b[0;32mdef\u001b[0m \u001b[0mfail\u001b[0m\u001b[0;34m(\u001b[0m\u001b[0mself\u001b[0m\u001b[0;34m,\u001b[0m \u001b[0mmsg\u001b[0m\u001b[0;34m=\u001b[0m\u001b[0;32mNone\u001b[0m\u001b[0;34m)\u001b[0m\u001b[0;34m:\u001b[0m\u001b[0;34m\u001b[0m\u001b[0m\n\u001b[1;32m    669\u001b[0m         \u001b[0;34m\"\"\"Fail immediately, with the given message.\"\"\"\u001b[0m\u001b[0;34m\u001b[0m\u001b[0m\n\u001b[0;32m--> 670\u001b[0;31m         \u001b[0;32mraise\u001b[0m \u001b[0mself\u001b[0m\u001b[0;34m.\u001b[0m\u001b[0mfailureException\u001b[0m\u001b[0;34m(\u001b[0m\u001b[0mmsg\u001b[0m\u001b[0;34m)\u001b[0m\u001b[0;34m\u001b[0m\u001b[0m\n\u001b[0m\u001b[1;32m    671\u001b[0m \u001b[0;34m\u001b[0m\u001b[0m\n\u001b[1;32m    672\u001b[0m     \u001b[0;32mdef\u001b[0m \u001b[0massertFalse\u001b[0m\u001b[0;34m(\u001b[0m\u001b[0mself\u001b[0m\u001b[0;34m,\u001b[0m \u001b[0mexpr\u001b[0m\u001b[0;34m,\u001b[0m \u001b[0mmsg\u001b[0m\u001b[0;34m=\u001b[0m\u001b[0;32mNone\u001b[0m\u001b[0;34m)\u001b[0m\u001b[0;34m:\u001b[0m\u001b[0;34m\u001b[0m\u001b[0m\n",
      "\u001b[0;31mAssertionError\u001b[0m: {'a': {'$lt': '0'}} != {'a': {'$lt': 0}}\n- {'a': {'$lt': '0'}}\n?               - -\n\n+ {'a': {'$lt': 0}} : test_one_input failed"
     ]
    }
   ],
   "source": [
    "ConverterTest().testAll()"
   ]
  },
  {
   "cell_type": "code",
   "execution_count": null,
   "metadata": {},
   "outputs": [],
   "source": []
  },
  {
   "cell_type": "code",
   "execution_count": null,
   "metadata": {},
   "outputs": [],
   "source": []
  },
  {
   "cell_type": "code",
   "execution_count": 18,
   "metadata": {},
   "outputs": [],
   "source": []
  }
 ],
 "metadata": {
  "kernelspec": {
   "display_name": "Python 3",
   "language": "python",
   "name": "python3"
  },
  "language_info": {
   "codemirror_mode": {
    "name": "ipython",
    "version": 3
   },
   "file_extension": ".py",
   "mimetype": "text/x-python",
   "name": "python",
   "nbconvert_exporter": "python",
   "pygments_lexer": "ipython3",
   "version": "3.6.6"
  }
 },
 "nbformat": 4,
 "nbformat_minor": 2
}
