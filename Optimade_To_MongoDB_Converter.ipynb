{
 "cells": [
  {
   "cell_type": "code",
   "execution_count": 1,
   "metadata": {
    "scrolled": true
   },
   "outputs": [],
   "source": [
    "#!pip install pql\n",
    "import pql"
   ]
  },
  {
   "cell_type": "code",
   "execution_count": 2,
   "metadata": {},
   "outputs": [
    {
     "ename": "GrammarError",
     "evalue": "Using an undefined rule: NonTerminal('start')",
     "output_type": "error",
     "traceback": [
      "\u001b[0;31m---------------------------------------------------------------------------\u001b[0m",
      "\u001b[0;31mGrammarError\u001b[0m                              Traceback (most recent call last)",
      "\u001b[0;32m<ipython-input-2-d99a5b694878>\u001b[0m in \u001b[0;36m<module>\u001b[0;34m()\u001b[0m\n\u001b[0;32m----> 1\u001b[0;31m \u001b[0;32mfrom\u001b[0m \u001b[0moptimade\u001b[0m\u001b[0;34m.\u001b[0m\u001b[0mfilter\u001b[0m \u001b[0;32mimport\u001b[0m \u001b[0mParser\u001b[0m\u001b[0;34m\u001b[0m\u001b[0m\n\u001b[0m\u001b[1;32m      2\u001b[0m \u001b[0;32mfrom\u001b[0m \u001b[0mlark\u001b[0m \u001b[0;32mimport\u001b[0m \u001b[0mTransformer\u001b[0m\u001b[0;34m\u001b[0m\u001b[0m\n\u001b[1;32m      3\u001b[0m \u001b[0mp\u001b[0m \u001b[0;34m=\u001b[0m \u001b[0mParser\u001b[0m\u001b[0;34m(\u001b[0m\u001b[0mversion\u001b[0m\u001b[0;34m=\u001b[0m\u001b[0;34m(\u001b[0m\u001b[0;36m0\u001b[0m\u001b[0;34m,\u001b[0m \u001b[0;36m9\u001b[0m\u001b[0;34m,\u001b[0m \u001b[0;36m6\u001b[0m\u001b[0;34m)\u001b[0m\u001b[0;34m)\u001b[0m\u001b[0;34m\u001b[0m\u001b[0m\n",
      "\u001b[0;32m~/Desktop/projects/lbl/optimade-python-tools/optimade/filter.py\u001b[0m in \u001b[0;36m<module>\u001b[0;34m()\u001b[0m\n\u001b[1;32m     12\u001b[0m             \u001b[0mre\u001b[0m\u001b[0;34m.\u001b[0m\u001b[0mfindall\u001b[0m\u001b[0;34m(\u001b[0m\u001b[0;34mr\"\\d+\"\u001b[0m\u001b[0;34m,\u001b[0m \u001b[0mstr\u001b[0m\u001b[0;34m(\u001b[0m\u001b[0mos\u001b[0m\u001b[0;34m.\u001b[0m\u001b[0mpath\u001b[0m\u001b[0;34m.\u001b[0m\u001b[0mbasename\u001b[0m\u001b[0;34m(\u001b[0m\u001b[0mname\u001b[0m\u001b[0;34m)\u001b[0m\u001b[0;34m.\u001b[0m\u001b[0msplit\u001b[0m\u001b[0;34m(\u001b[0m\u001b[0;34m\".g\"\u001b[0m\u001b[0;34m)\u001b[0m\u001b[0;34m[\u001b[0m\u001b[0;36m0\u001b[0m\u001b[0;34m]\u001b[0m\u001b[0;34m)\u001b[0m\u001b[0;34m)\u001b[0m\u001b[0;34m\u001b[0m\u001b[0m\n\u001b[1;32m     13\u001b[0m         )\n\u001b[0;32m---> 14\u001b[0;31m         \u001b[0mparser\u001b[0m\u001b[0;34m[\u001b[0m\u001b[0mver\u001b[0m\u001b[0;34m]\u001b[0m \u001b[0;34m=\u001b[0m \u001b[0mLark\u001b[0m\u001b[0;34m(\u001b[0m\u001b[0mf\u001b[0m\u001b[0;34m.\u001b[0m\u001b[0mread\u001b[0m\u001b[0;34m(\u001b[0m\u001b[0;34m)\u001b[0m\u001b[0;34m)\u001b[0m\u001b[0;34m\u001b[0m\u001b[0m\n\u001b[0m\u001b[1;32m     15\u001b[0m \u001b[0;34m\u001b[0m\u001b[0m\n\u001b[1;32m     16\u001b[0m \u001b[0;34m\u001b[0m\u001b[0m\n",
      "\u001b[0;32m~/miniconda3/envs/optimade/lib/python3.6/site-packages/lark/lark.py\u001b[0m in \u001b[0;36m__init__\u001b[0;34m(self, grammar, **options)\u001b[0m\n\u001b[1;32m    163\u001b[0m \u001b[0;34m\u001b[0m\u001b[0m\n\u001b[1;32m    164\u001b[0m         \u001b[0;32mif\u001b[0m \u001b[0mself\u001b[0m\u001b[0;34m.\u001b[0m\u001b[0moptions\u001b[0m\u001b[0;34m.\u001b[0m\u001b[0mparser\u001b[0m\u001b[0;34m:\u001b[0m\u001b[0;34m\u001b[0m\u001b[0m\n\u001b[0;32m--> 165\u001b[0;31m             \u001b[0mself\u001b[0m\u001b[0;34m.\u001b[0m\u001b[0mparser\u001b[0m \u001b[0;34m=\u001b[0m \u001b[0mself\u001b[0m\u001b[0;34m.\u001b[0m\u001b[0m_build_parser\u001b[0m\u001b[0;34m(\u001b[0m\u001b[0;34m)\u001b[0m\u001b[0;34m\u001b[0m\u001b[0m\n\u001b[0m\u001b[1;32m    166\u001b[0m         \u001b[0;32melif\u001b[0m \u001b[0mlexer\u001b[0m\u001b[0;34m:\u001b[0m\u001b[0;34m\u001b[0m\u001b[0m\n\u001b[1;32m    167\u001b[0m             \u001b[0mself\u001b[0m\u001b[0;34m.\u001b[0m\u001b[0mlexer\u001b[0m \u001b[0;34m=\u001b[0m \u001b[0mself\u001b[0m\u001b[0;34m.\u001b[0m\u001b[0m_build_lexer\u001b[0m\u001b[0;34m(\u001b[0m\u001b[0;34m)\u001b[0m\u001b[0;34m\u001b[0m\u001b[0m\n",
      "\u001b[0;32m~/miniconda3/envs/optimade/lib/python3.6/site-packages/lark/lark.py\u001b[0m in \u001b[0;36m_build_parser\u001b[0;34m(self)\u001b[0m\n\u001b[1;32m    186\u001b[0m         \u001b[0mparser_conf\u001b[0m \u001b[0;34m=\u001b[0m \u001b[0mParserConf\u001b[0m\u001b[0;34m(\u001b[0m\u001b[0mself\u001b[0m\u001b[0;34m.\u001b[0m\u001b[0mrules\u001b[0m\u001b[0;34m,\u001b[0m \u001b[0mcallback\u001b[0m\u001b[0;34m,\u001b[0m \u001b[0mself\u001b[0m\u001b[0;34m.\u001b[0m\u001b[0moptions\u001b[0m\u001b[0;34m.\u001b[0m\u001b[0mstart\u001b[0m\u001b[0;34m)\u001b[0m\u001b[0;34m\u001b[0m\u001b[0m\n\u001b[1;32m    187\u001b[0m \u001b[0;34m\u001b[0m\u001b[0m\n\u001b[0;32m--> 188\u001b[0;31m         \u001b[0;32mreturn\u001b[0m \u001b[0mself\u001b[0m\u001b[0;34m.\u001b[0m\u001b[0mparser_class\u001b[0m\u001b[0;34m(\u001b[0m\u001b[0mself\u001b[0m\u001b[0;34m.\u001b[0m\u001b[0mlexer_conf\u001b[0m\u001b[0;34m,\u001b[0m \u001b[0mparser_conf\u001b[0m\u001b[0;34m,\u001b[0m \u001b[0moptions\u001b[0m\u001b[0;34m=\u001b[0m\u001b[0mself\u001b[0m\u001b[0;34m.\u001b[0m\u001b[0moptions\u001b[0m\u001b[0;34m)\u001b[0m\u001b[0;34m\u001b[0m\u001b[0m\n\u001b[0m\u001b[1;32m    189\u001b[0m \u001b[0;34m\u001b[0m\u001b[0m\n\u001b[1;32m    190\u001b[0m     \u001b[0;34m@\u001b[0m\u001b[0mclassmethod\u001b[0m\u001b[0;34m\u001b[0m\u001b[0m\n",
      "\u001b[0;32m~/miniconda3/envs/optimade/lib/python3.6/site-packages/lark/parser_frontends.py\u001b[0m in \u001b[0;36m__init__\u001b[0;34m(self, lexer_conf, parser_conf, options, **kw)\u001b[0m\n\u001b[1;32m     95\u001b[0m                                     \u001b[0mignore\u001b[0m\u001b[0;34m=\u001b[0m\u001b[0mlexer_conf\u001b[0m\u001b[0;34m.\u001b[0m\u001b[0mignore\u001b[0m\u001b[0;34m,\u001b[0m\u001b[0;34m\u001b[0m\u001b[0m\n\u001b[1;32m     96\u001b[0m                                     \u001b[0mpredict_all\u001b[0m\u001b[0;34m=\u001b[0m\u001b[0moptions\u001b[0m\u001b[0;34m.\u001b[0m\u001b[0mearley__predict_all\u001b[0m\u001b[0;34m,\u001b[0m\u001b[0;34m\u001b[0m\u001b[0m\n\u001b[0;32m---> 97\u001b[0;31m                                     \u001b[0;34m**\u001b[0m\u001b[0mkw\u001b[0m\u001b[0;34m\u001b[0m\u001b[0m\n\u001b[0m\u001b[1;32m     98\u001b[0m                                     )\n\u001b[1;32m     99\u001b[0m \u001b[0;34m\u001b[0m\u001b[0m\n",
      "\u001b[0;32m~/miniconda3/envs/optimade/lib/python3.6/site-packages/lark/parsers/xearley.py\u001b[0m in \u001b[0;36m__init__\u001b[0;34m(self, parser_conf, term_matcher, resolve_ambiguity, ignore, predict_all, complete_lex)\u001b[0m\n\u001b[1;32m     32\u001b[0m \u001b[0;32mclass\u001b[0m \u001b[0mParser\u001b[0m\u001b[0;34m:\u001b[0m\u001b[0;34m\u001b[0m\u001b[0m\n\u001b[1;32m     33\u001b[0m     \u001b[0;32mdef\u001b[0m \u001b[0m__init__\u001b[0m\u001b[0;34m(\u001b[0m\u001b[0mself\u001b[0m\u001b[0;34m,\u001b[0m  \u001b[0mparser_conf\u001b[0m\u001b[0;34m,\u001b[0m \u001b[0mterm_matcher\u001b[0m\u001b[0;34m,\u001b[0m \u001b[0mresolve_ambiguity\u001b[0m\u001b[0;34m=\u001b[0m\u001b[0;32mNone\u001b[0m\u001b[0;34m,\u001b[0m \u001b[0mignore\u001b[0m\u001b[0;34m=\u001b[0m\u001b[0;34m(\u001b[0m\u001b[0;34m)\u001b[0m\u001b[0;34m,\u001b[0m \u001b[0mpredict_all\u001b[0m\u001b[0;34m=\u001b[0m\u001b[0;32mFalse\u001b[0m\u001b[0;34m,\u001b[0m \u001b[0mcomplete_lex\u001b[0m\u001b[0;34m=\u001b[0m\u001b[0;32mFalse\u001b[0m\u001b[0;34m)\u001b[0m\u001b[0;34m:\u001b[0m\u001b[0;34m\u001b[0m\u001b[0m\n\u001b[0;32m---> 34\u001b[0;31m         \u001b[0mself\u001b[0m\u001b[0;34m.\u001b[0m\u001b[0manalysis\u001b[0m \u001b[0;34m=\u001b[0m \u001b[0mGrammarAnalyzer\u001b[0m\u001b[0;34m(\u001b[0m\u001b[0mparser_conf\u001b[0m\u001b[0;34m)\u001b[0m\u001b[0;34m\u001b[0m\u001b[0m\n\u001b[0m\u001b[1;32m     35\u001b[0m         \u001b[0mself\u001b[0m\u001b[0;34m.\u001b[0m\u001b[0mparser_conf\u001b[0m \u001b[0;34m=\u001b[0m \u001b[0mparser_conf\u001b[0m\u001b[0;34m\u001b[0m\u001b[0m\n\u001b[1;32m     36\u001b[0m         \u001b[0mself\u001b[0m\u001b[0;34m.\u001b[0m\u001b[0mresolve_ambiguity\u001b[0m \u001b[0;34m=\u001b[0m \u001b[0mresolve_ambiguity\u001b[0m\u001b[0;34m\u001b[0m\u001b[0m\n",
      "\u001b[0;32m~/miniconda3/envs/optimade/lib/python3.6/site-packages/lark/parsers/grammar_analysis.py\u001b[0m in \u001b[0;36m__init__\u001b[0;34m(self, parser_conf, debug)\u001b[0m\n\u001b[1;32m    116\u001b[0m             \u001b[0;32mfor\u001b[0m \u001b[0msym\u001b[0m \u001b[0;32min\u001b[0m \u001b[0mr\u001b[0m\u001b[0;34m.\u001b[0m\u001b[0mexpansion\u001b[0m\u001b[0;34m:\u001b[0m\u001b[0;34m\u001b[0m\u001b[0m\n\u001b[1;32m    117\u001b[0m                 \u001b[0;32mif\u001b[0m \u001b[0;32mnot\u001b[0m \u001b[0;34m(\u001b[0m\u001b[0msym\u001b[0m\u001b[0;34m.\u001b[0m\u001b[0mis_term\u001b[0m \u001b[0;32mor\u001b[0m \u001b[0msym\u001b[0m \u001b[0;32min\u001b[0m \u001b[0mself\u001b[0m\u001b[0;34m.\u001b[0m\u001b[0mrules_by_origin\u001b[0m\u001b[0;34m)\u001b[0m\u001b[0;34m:\u001b[0m\u001b[0;34m\u001b[0m\u001b[0m\n\u001b[0;32m--> 118\u001b[0;31m                     \u001b[0;32mraise\u001b[0m \u001b[0mGrammarError\u001b[0m\u001b[0;34m(\u001b[0m\u001b[0;34m\"Using an undefined rule: %s\"\u001b[0m \u001b[0;34m%\u001b[0m \u001b[0msym\u001b[0m\u001b[0;34m)\u001b[0m \u001b[0;31m# TODO test validation\u001b[0m\u001b[0;34m\u001b[0m\u001b[0m\n\u001b[0m\u001b[1;32m    119\u001b[0m \u001b[0;34m\u001b[0m\u001b[0m\n\u001b[1;32m    120\u001b[0m         \u001b[0mself\u001b[0m\u001b[0;34m.\u001b[0m\u001b[0mstart_state\u001b[0m \u001b[0;34m=\u001b[0m \u001b[0mself\u001b[0m\u001b[0;34m.\u001b[0m\u001b[0mexpand_rule\u001b[0m\u001b[0;34m(\u001b[0m\u001b[0mNonTerminal\u001b[0m\u001b[0;34m(\u001b[0m\u001b[0;34m'$root'\u001b[0m\u001b[0;34m)\u001b[0m\u001b[0;34m)\u001b[0m\u001b[0;34m\u001b[0m\u001b[0m\n",
      "\u001b[0;31mGrammarError\u001b[0m: Using an undefined rule: NonTerminal('start')"
     ]
    }
   ],
   "source": [
    "from optimade.filter import Parser\n",
    "from lark import Transformer\n",
    "p = Parser(version=(0, 9, 6))"
   ]
  },
  {
   "cell_type": "code",
   "execution_count": 7,
   "metadata": {},
   "outputs": [],
   "source": [
    "import pql\n",
    "from optimade.filter import Parser\n",
    "from lark import Transformer\n",
    "\n",
    "\n",
    "optiMadeToPQLOperatorSwitch = {\n",
    "    \"=\":\"==\",\n",
    "    \"<=\":\"<=\",\n",
    "    \">=\":\">=\",\n",
    "    \"=>\":\">=\",\n",
    "    \"!=\": \"!=\",\n",
    "    \"<\":\"<\",\n",
    "    \">\":\">\",\n",
    "}\n",
    "\n",
    "def OptiMadeToPQLOperatorValidator(x):\n",
    "    return optiMadeToPQLOperatorSwitch[x]\n",
    "\n",
    "def combineMultiple(string, index):\n",
    "    firstQuoteIndex = 0\n",
    "    for firstQuoteIndex in reversed(range(0, index)):\n",
    "        if(ord(string[firstQuoteIndex]) == 34):\n",
    "            break\n",
    "    lastQuoteIndex = index\n",
    "    for lastQuoteIndex in range(index, len(string)):\n",
    "        if(ord(string[lastQuoteIndex])== 34):\n",
    "            break\n",
    "    insertion = string[firstQuoteIndex+1:lastQuoteIndex]\n",
    "    insertion = insertion.split(\",\")\n",
    "    return string[:firstQuoteIndex] + 'all({})'.format(insertion) + string[lastQuoteIndex+1:]\n",
    "\n",
    "def parseInput(PQL):\n",
    "    length = len(PQL)\n",
    "    i = 0\n",
    "    while(i < length):\n",
    "        if(PQL[i] == \",\"):\n",
    "            PQL = combineMultiple(PQL, i)\n",
    "        i = i + 1 \n",
    "    return PQL\n",
    "\n",
    "class OptimadeToPQLTransformer(Transformer):\n",
    "    def comparison(self, args):\n",
    "        A = str(args[0])\n",
    "        B = str(args[2])\n",
    "        operator = OptiMadeToPQLOperatorValidator(args[1])\n",
    "#         print('\"' + A +'\"' + operator + '\"' + B + '\"')\n",
    "#         return '\"' + A +'\"' + operator + '\"' + B + '\"'\n",
    "        return A + operator + B\n",
    "    def atom(self, args):\n",
    "#         print(\"atom:\", args, len(args))\n",
    "        return args[0]\n",
    "    def term(self, args):\n",
    "#         print(\"term:\", args, len(args))\n",
    "        result = \"\"\n",
    "        for arg in args:\n",
    "            if arg.lower() == \"and\" or arg.lower() == \"or\":\n",
    "                arg = arg.lower()\n",
    "            result = result + \" \" + arg.lower()\n",
    "        return \"(\" + result.lstrip() + \")\"\n",
    "    \n",
    "    def expression(self, args):\n",
    "#         print(\"expression:\",args)\n",
    "        result = \"\"\n",
    "        for arg in args:\n",
    "            lower = arg.lower()\n",
    "            if(lower == \"and\" or lower == \"or\"):\n",
    "                arg = lower\n",
    "            result = result + \" \" + arg\n",
    "        return result.lstrip()\n",
    "    def start(self, args):\n",
    "        return args[1]\n",
    "\n",
    "def optimadeToMongoDBConverter(optimadeQuery):\n",
    "    p = Parser(version=(0, 9, 5))\n",
    "    print(\"optimadeQuery:\", optimadeQuery)\n",
    "    print()\n",
    "    tree = p.parse(optimadeQuery)\n",
    "#     print(\"tree:\\n\", tree)\n",
    "#     print()\n",
    "    rawPQL = OptimadeToPQLTransformer().transform(tree)\n",
    "    cleanedPQL = parseInput(rawPQL)\n",
    "    print(\"cleanedPQL:\", cleanedPQL)\n",
    "    print()\n",
    "    try:\n",
    "        return pql.find(cleanedPQL)\n",
    "    except:\n",
    "        return \"ERROR: Unable to execute conversion\"\n",
    "    "
   ]
  },
  {
   "cell_type": "code",
   "execution_count": 8,
   "metadata": {
    "scrolled": true
   },
   "outputs": [
    {
     "name": "stdout",
     "output_type": "stream",
     "text": [
      "optimadeQuery: filter=(A<1 AnD B > 2) or C = 3\n",
      "\n",
      "cleanedPQL: ((((a<1) and b>2) or c==3))\n",
      "\n",
      "{'$or': [{'$and': [{'a': {'$lt': 1}}, {'b': {'$gt': 2}}]}, {'c': 3}]}\n",
      "optimadeQuery: filter=A<1 AnD (B > 2 or C = 3)\n",
      "\n",
      "cleanedPQL: (a<1) and (((b>2) or c==3))\n",
      "\n",
      "{'$and': [{'a': {'$lt': 1}}, {'$or': [{'b': {'$gt': 2}}, {'c': 3}]}]}\n"
     ]
    }
   ],
   "source": [
    "print(optimadeToMongoDBConverter('filter=(A<1 AnD B > 2) or C = 3'))\n",
    "\n",
    "print(optimadeToMongoDBConverter('filter=A<1 AnD (B > 2 or C = 3)'))"
   ]
  },
  {
   "cell_type": "code",
   "execution_count": null,
   "metadata": {},
   "outputs": [],
   "source": []
  },
  {
   "cell_type": "markdown",
   "metadata": {},
   "source": [
    "# def parseInput(PQL):\n",
    "    length = len(PQL)\n",
    "    i = 0\n",
    "    while(i < length):\n",
    "        if(PQL[i] == \",\"):\n",
    "            PQL = combineMultiple(PQL, i)\n",
    "        i = i + 1 \n",
    "    return PQL\n",
    "\n",
    "\n",
    "rawPQL = 'd<1 and (a<0 or c >2)'\n",
    "cleanedPQL = parseInput(rawPQL)\n",
    "pql.find(cleanedPQL)"
   ]
  },
  {
   "cell_type": "markdown",
   "metadata": {},
   "source": [
    "I am just going to use PQL as my processor with a pre-filter and a post-filter <br>\n",
    "pre-filter:\n",
    "1. make sure that Optimade turns into the right PQL format. Note that they are exactly the same except optimade accept = while PQL only accept ==\n",
    "2. put quote around int s.t. PQL will interpret them as string for now\n",
    "\n",
    "\n",
    "Post-filter:\n",
    "1. turn anything that is possibly a floating point turnable into a floating point\n"
   ]
  },
  {
   "cell_type": "code",
   "execution_count": 28,
   "metadata": {},
   "outputs": [],
   "source": [
    "rawPQL = 'd<1 and (a<0 or c >2)'\n"
   ]
  },
  {
   "cell_type": "code",
   "execution_count": null,
   "metadata": {},
   "outputs": [],
   "source": [
    "\"\""
   ]
  },
  {
   "cell_type": "code",
   "execution_count": null,
   "metadata": {},
   "outputs": [],
   "source": []
  },
  {
   "cell_type": "code",
   "execution_count": null,
   "metadata": {},
   "outputs": [],
   "source": [
    "import unittest\n",
    "class ConverterTest(unittest.TestCase):\n",
    "    def setup(self):\n",
    "        pass\n",
    "    def testAll(self):\n",
    "        self.test_one_input()\n",
    "        self.test_two_inputs_with_and()\n",
    "        self.test_two_inputs_with_or()\n",
    "        self.test_valid_numbers_positive()\n",
    "        \n",
    "    def test_one_input(self):\n",
    "        testCase = \"filter=a<0\" \n",
    "        answer = {'a': {'$lt': 0}}\n",
    "        message = \"test_one_input failed\"\n",
    "        self.assertEqual(optimadeToMongoDBConverter(testCase), answer, message)\n",
    "        print(\"passed: test_one_input passed\")\n",
    "    def test_two_inputs_with_and(self):\n",
    "        testCase = \"filter=a<0 and b>2\" \n",
    "        answer = {'$and': [{'a': {'$lt': 0}}, {'b': {'$gt': 2}}]}\n",
    "        message = \"test_two_inputs_with_and failed\"\n",
    "        self.assertEqual(optimadeToMongoDBConverter(testCase), answer, message)\n",
    "        print(\"passed: test_two_inputs_with_and\")\n",
    "    def test_two_inputs_with_or(self):\n",
    "        testCase = \"filter=a<0 or b>2\" \n",
    "        answer = {'$or': [{'a': {'$lt': 0}}, {'b': {'$gt': 2}}]}\n",
    "        message = \"test_two_inputs_with_or failed\"\n",
    "        self.assertEqual(optimadeToMongoDBConverter(testCase), answer, message)\n",
    "        print(\"passed: test_two_inputs_with_or\")\n",
    "    def test_valid_numbers_with_positive_sign(self):\n",
    "        testCase = \"filter= a=+1\" \n",
    "        answer = {'a': +1}\n",
    "        message = \"test_valid_numbers_positive failed\"\n",
    "        self.assertEqual(optimadeToMongoDBConverter(testCase), answer, message)\n",
    "        print(\"passed: test_valid_numbers_positive\")"
   ]
  },
  {
   "cell_type": "code",
   "execution_count": null,
   "metadata": {},
   "outputs": [],
   "source": [
    "ConverterTest().testAll()"
   ]
  },
  {
   "cell_type": "code",
   "execution_count": null,
   "metadata": {},
   "outputs": [],
   "source": []
  },
  {
   "cell_type": "code",
   "execution_count": null,
   "metadata": {},
   "outputs": [],
   "source": []
  },
  {
   "cell_type": "code",
   "execution_count": null,
   "metadata": {},
   "outputs": [],
   "source": []
  },
  {
   "cell_type": "code",
   "execution_count": null,
   "metadata": {},
   "outputs": [],
   "source": []
  },
  {
   "cell_type": "code",
   "execution_count": null,
   "metadata": {},
   "outputs": [],
   "source": []
  },
  {
   "cell_type": "code",
   "execution_count": null,
   "metadata": {},
   "outputs": [],
   "source": []
  },
  {
   "cell_type": "code",
   "execution_count": null,
   "metadata": {},
   "outputs": [],
   "source": []
  },
  {
   "cell_type": "code",
   "execution_count": null,
   "metadata": {},
   "outputs": [],
   "source": []
  },
  {
   "cell_type": "code",
   "execution_count": null,
   "metadata": {},
   "outputs": [],
   "source": []
  },
  {
   "cell_type": "code",
   "execution_count": null,
   "metadata": {},
   "outputs": [],
   "source": []
  },
  {
   "cell_type": "code",
   "execution_count": 2,
   "metadata": {},
   "outputs": [
    {
     "name": "stdout",
     "output_type": "stream",
     "text": [
      "start\n",
      "  filter=\n",
      "  expression\n",
      "    term\n",
      "      term\n",
      "        atom\n",
      "          comparison\n",
      "            A\n",
      "            <\n",
      "            1\n",
      "      and\n",
      "      atom\n",
      "        comparison\n",
      "          b\n",
      "          <\n",
      "          2\n",
      "\n"
     ]
    }
   ],
   "source": [
    "import pql\n",
    "from optimade.filter import Parser\n",
    "from lark import Transformer\n",
    "\n",
    "p = Parser(version=(0, 9, 5))\n",
    "x = p.parse('filter= A<1 and b < 2')\n",
    "print(x.pretty())"
   ]
  },
  {
   "cell_type": "code",
   "execution_count": 1,
   "metadata": {},
   "outputs": [
    {
     "name": "stdout",
     "output_type": "stream",
     "text": [
      "start\n",
      "  filter=\n",
      "  expression\n",
      "    term\n",
      "      term\n",
      "        term\n",
      "          term\n",
      "            atom\n",
      "              comparison\n",
      "                A\n",
      "                <\n",
      "                1\n",
      "          or\n",
      "          atom\n",
      "            comparison\n",
      "              b\n",
      "              <\n",
      "              2\n",
      "        and\n",
      "        atom\n",
      "          comparison\n",
      "            c\n",
      "            <\n",
      "            1\n",
      "\n"
     ]
    }
   ],
   "source": [
    "import pql\n",
    "from optimade.filter import Parser\n",
    "from lark import Transformer\n",
    "\n",
    "p = Parser(version=(0, 9, 5))\n",
    "print(p.parse('filter= (A<1 or b < 2) and c < 1').pretty())"
   ]
  },
  {
   "cell_type": "code",
   "execution_count": 2,
   "metadata": {},
   "outputs": [
    {
     "name": "stdout",
     "output_type": "stream",
     "text": [
      "start\n",
      "  filter=\n",
      "  expression\n",
      "    expression\n",
      "      term\n",
      "        atom\n",
      "          comparison\n",
      "            A\n",
      "            <\n",
      "            1\n",
      "    or\n",
      "    term\n",
      "      term\n",
      "        term\n",
      "          atom\n",
      "            comparison\n",
      "              b\n",
      "              <\n",
      "              2\n",
      "        and\n",
      "        atom\n",
      "          comparison\n",
      "            c\n",
      "            <\n",
      "            1\n",
      "\n"
     ]
    }
   ],
   "source": [
    "print(p.parse('filter= A<1 or (b < 2 and c < 1)').pretty())"
   ]
  },
  {
   "cell_type": "code",
   "execution_count": 3,
   "metadata": {},
   "outputs": [
    {
     "data": {
      "text/plain": [
       "False"
      ]
     },
     "execution_count": 3,
     "metadata": {},
     "output_type": "execute_result"
    }
   ],
   "source": [
    "p.parse('filter= A<1 or (b < 2 and c < 1)') == p.parse('filter= (A<1 or b < 2) and c < 1')"
   ]
  },
  {
   "cell_type": "code",
   "execution_count": null,
   "metadata": {},
   "outputs": [],
   "source": []
  }
 ],
 "metadata": {
  "kernelspec": {
   "display_name": "Python 3",
   "language": "python",
   "name": "python3"
  },
  "language_info": {
   "codemirror_mode": {
    "name": "ipython",
    "version": 3
   },
   "file_extension": ".py",
   "mimetype": "text/x-python",
   "name": "python",
   "nbconvert_exporter": "python",
   "pygments_lexer": "ipython3",
   "version": "3.6.6"
  }
 },
 "nbformat": 4,
 "nbformat_minor": 2
}
