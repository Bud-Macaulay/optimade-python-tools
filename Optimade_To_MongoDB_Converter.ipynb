{
 "cells": [
  {
   "cell_type": "code",
   "execution_count": 9,
   "metadata": {
    "scrolled": true
   },
   "outputs": [],
   "source": [
    "#!pip install pql\n",
    "import pql"
   ]
  },
  {
   "cell_type": "code",
   "execution_count": 10,
   "metadata": {},
   "outputs": [],
   "source": [
    "from optimade.filter import Parser\n",
    "from lark import Transformer\n",
    "p = Parser(version=(0, 9, 6))"
   ]
  },
  {
   "cell_type": "code",
   "execution_count": 11,
   "metadata": {},
   "outputs": [],
   "source": [
    "import pql\n",
    "from optimade.filter import Parser\n",
    "from lark import Transformer\n",
    "\n",
    "\n",
    "optiMadeToPQLOperatorSwitch = {\n",
    "    \"=\":\"==\",\n",
    "    \"<=\":\"<=\",\n",
    "    \">=\":\">=\",\n",
    "    \"=>\":\">=\",\n",
    "    \"!=\": \"!=\",\n",
    "    \"<\":\"<\",\n",
    "    \">\":\">\",\n",
    "}\n",
    "\n",
    "def OptiMadeToPQLOperatorValidator(x):\n",
    "    return optiMadeToPQLOperatorSwitch[x]\n",
    "\n",
    "def combineMultiple(string, index):\n",
    "    firstQuoteIndex = 0\n",
    "    for firstQuoteIndex in reversed(range(0, index)):\n",
    "        if(ord(string[firstQuoteIndex]) == 34):\n",
    "            firstQuoteIndex = firstQuoteIndex + 1\n",
    "            break\n",
    "    lastQuoteIndex = index\n",
    "    for lastQuoteIndex in range(index, len(string)):\n",
    "        if(ord(string[lastQuoteIndex])== 34):\n",
    "            break\n",
    "    insertion = string[firstQuoteIndex:lastQuoteIndex]\n",
    "    insertion = insertion.split(\",\")\n",
    "    return string[:firstQuoteIndex - 1] + 'all({})'.format(insertion) + string[lastQuoteIndex + 1:], lastQuoteIndex + 1\n",
    "\n",
    "def parseInput(PQL):\n",
    "    length = len(PQL)\n",
    "    i = 0\n",
    "    while(i < length):\n",
    "        if(PQL[i] == \",\"):\n",
    "            PQL, newIndex = combineMultiple(PQL, i)\n",
    "            i = newIndex \n",
    "        i = i + 1 \n",
    "    return PQL\n",
    "\n",
    "def cleanMongo(rawMongoDbQuery):\n",
    "    if(type(rawMongoDbQuery) != dict):\n",
    "        return\n",
    "    for k in rawMongoDbQuery:\n",
    "        value = rawMongoDbQuery[k]\n",
    "        if(type(value) == list):\n",
    "            for v in value:\n",
    "                cleanMongo(v)\n",
    "        elif(type(value) == dict):\n",
    "            cleanMongo(value)\n",
    "        elif(type(value) == str):\n",
    "            try:\n",
    "                value = float(value)\n",
    "                rawMongoDbQuery[k] = float(value)\n",
    "            except:\n",
    "                f = value\n",
    "            \n",
    "        else:\n",
    "            print(\"value\", value)\n",
    "\n",
    "\n",
    "class OptimadeToPQLTransformer(Transformer):\n",
    "    def comparison(self, args):\n",
    "        A = str(args[0])\n",
    "        B = \"\"\n",
    "        for b in args[2:]:\n",
    "            if B == \"\":\n",
    "                B = b\n",
    "            else:\n",
    "                B = B + \", \" + b \n",
    "        operator = OptiMadeToPQLOperatorValidator(args[1])\n",
    "        return A + operator + '\"' + B + '\"'\n",
    "    def atom(self, args):\n",
    "        return args[0]\n",
    "    def term(self, args):\n",
    "        result = \"\"\n",
    "        for arg in args:\n",
    "            if arg.lower() == \"and\" or arg.lower() == \"or\":\n",
    "                arg = arg.lower()\n",
    "            result = result + \" \" + arg.lower()\n",
    "        return \"(\" + result.lstrip() + \")\"\n",
    "    \n",
    "    def expression(self, args):\n",
    "        result = \"\"\n",
    "        for arg in args:\n",
    "            lower = arg.lower()\n",
    "            if(lower == \"and\" or lower == \"or\"):\n",
    "                arg = lower\n",
    "            result = result + \" \" + arg\n",
    "        return result.lstrip()\n",
    "    def start(self, args):\n",
    "        return args[1]\n",
    "    def combined(self, args):\n",
    "        return args[0]\n",
    "    \n",
    "\n",
    "            \n",
    "def optimadeToMongoDBConverter(optimadeQuery):\n",
    "    p = Parser(version=(0, 9, 6))\n",
    "    \n",
    "    tree = p.parse(optimadeQuery)\n",
    "    \n",
    "    rawPQL = OptimadeToPQLTransformer().transform(tree)\n",
    "    cleanedPQL = parseInput(rawPQL)\n",
    "\n",
    "    mongoDbQuery = {}\n",
    "    try:\n",
    "        mongoDbQuery = pql.find(cleanedPQL)\n",
    "    except:\n",
    "        return \"ERROR: Unable to PQL to MongoDB execute conversion\"\n",
    "    \n",
    "    cleanMongo(mongoDbQuery)\n",
    "    return mongoDbQuery\n",
    "    "
   ]
  },
  {
   "cell_type": "code",
   "execution_count": 12,
   "metadata": {},
   "outputs": [],
   "source": [
    "import unittest\n",
    "class ConverterTest(unittest.TestCase):\n",
    "    def setup(self):\n",
    "        pass\n",
    "    def testAll(self):\n",
    "        self.test_one_input()\n",
    "        self.test_two_inputs_with_and()\n",
    "        self.test_two_inputs_with_or()\n",
    "        self.test_valid_numbers_with_positive_sign()\n",
    "        \n",
    "    def test_one_input(self):\n",
    "        testCase = \"filter=a<0\" \n",
    "        answer = {'a': {'$lt': 0}}\n",
    "        message = \"test_one_input failed\"\n",
    "        self.assertEqual(optimadeToMongoDBConverter(testCase), answer, message)\n",
    "        print(\"passed: test_one_input passed\")\n",
    "    def test_two_inputs_with_and(self):\n",
    "        testCase = \"filter=a<0 and b>2\" \n",
    "        answer = {'$and': [{'a': {'$lt': 0}}, {'b': {'$gt': 2}}]}\n",
    "        message = \"test_two_inputs_with_and failed\"\n",
    "        self.assertEqual(optimadeToMongoDBConverter(testCase), answer, message)\n",
    "        print(\"passed: test_two_inputs_with_and\")\n",
    "    def test_two_inputs_with_or(self):\n",
    "        testCase = \"filter=a<0 or b>2\" \n",
    "        answer = {'$or': [{'a': {'$lt': 0}}, {'b': {'$gt': 2}}]}\n",
    "        message = \"test_two_inputs_with_or failed\"\n",
    "        self.assertEqual(optimadeToMongoDBConverter(testCase), answer, message)\n",
    "        print(\"passed: test_two_inputs_with_or\")\n",
    "    def test_valid_numbers_with_positive_sign(self):\n",
    "        testCase = \"filter= a=+1\" \n",
    "        answer = {'a': +1}\n",
    "        message = \"test_valid_numbers_positive failed\"\n",
    "        self.assertEqual(optimadeToMongoDBConverter(testCase), answer, message)\n",
    "        print(\"passed: test_valid_numbers_positive\")"
   ]
  },
  {
   "cell_type": "code",
   "execution_count": 13,
   "metadata": {
    "scrolled": false
   },
   "outputs": [
    {
     "name": "stdout",
     "output_type": "stream",
     "text": [
      "passed: test_one_input passed\n",
      "passed: test_two_inputs_with_and\n",
      "passed: test_two_inputs_with_or\n",
      "passed: test_valid_numbers_positive\n"
     ]
    }
   ],
   "source": [
    "ConverterTest().testAll()"
   ]
  },
  {
   "cell_type": "code",
   "execution_count": 15,
   "metadata": {
    "scrolled": false
   },
   "outputs": [
    {
     "data": {
      "text/plain": [
       "{'elements': {'$all': ['si', ' o']}}"
      ]
     },
     "execution_count": 15,
     "metadata": {},
     "output_type": "execute_result"
    }
   ],
   "source": [
    "optimadeToMongoDBConverter(\"filter = elements='Si,O'\")"
   ]
  },
  {
   "cell_type": "code",
   "execution_count": null,
   "metadata": {},
   "outputs": [],
   "source": []
  },
  {
   "cell_type": "code",
   "execution_count": null,
   "metadata": {},
   "outputs": [],
   "source": []
  }
 ],
 "metadata": {
  "kernelspec": {
   "display_name": "Python 3",
   "language": "python",
   "name": "python3"
  },
  "language_info": {
   "codemirror_mode": {
    "name": "ipython",
    "version": 3
   },
   "file_extension": ".py",
   "mimetype": "text/x-python",
   "name": "python",
   "nbconvert_exporter": "python",
   "pygments_lexer": "ipython3",
   "version": "3.6.6"
  }
 },
 "nbformat": 4,
 "nbformat_minor": 2
}
