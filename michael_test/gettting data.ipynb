{
 "cells": [
  {
   "cell_type": "code",
   "execution_count": 3,
   "metadata": {},
   "outputs": [],
   "source": [
    "from pymatgen import MPRester\n",
    "mpr = MPRester(\"BsTwIdAypx0Far6t\")"
   ]
  },
  {
   "cell_type": "code",
   "execution_count": 9,
   "metadata": {},
   "outputs": [],
   "source": [
    "docs = mpr.query({\"chemsys\":\"O-Ti\"}, [\"elements\", \"nelements\", \"pretty_formula\", \"formula_anonymous\",\"material_id\"])\n",
    "filter_ = {\"chemsys\":\"O-Ti\"}\n",
    "#sort_="
   ]
  },
  {
   "cell_type": "code",
   "execution_count": 13,
   "metadata": {},
   "outputs": [
    {
     "data": {
      "text/plain": [
       "[{'elements': ['O', 'Ti'],\n",
       "  'nelements': 2,\n",
       "  'pretty_formula': 'TiO2',\n",
       "  'formula_anonymous': 'AB2',\n",
       "  'material_id': 'mp-775938'},\n",
       " {'elements': ['O', 'Ti'],\n",
       "  'nelements': 2,\n",
       "  'pretty_formula': 'TiO2',\n",
       "  'formula_anonymous': 'AB2',\n",
       "  'material_id': 'mp-766454'},\n",
       " {'elements': ['O', 'Ti'],\n",
       "  'nelements': 2,\n",
       "  'pretty_formula': 'TiO2',\n",
       "  'formula_anonymous': 'AB2',\n",
       "  'material_id': 'mp-9173'}]"
      ]
     },
     "execution_count": 13,
     "metadata": {},
     "output_type": "execute_result"
    }
   ],
   "source": [
    "docs[:3]"
   ]
  },
  {
   "cell_type": "code",
   "execution_count": 31,
   "metadata": {},
   "outputs": [],
   "source": [
    "import pymongo\n",
    "from pymongo import MongoClient\n",
    "client = MongoClient()"
   ]
  },
  {
   "cell_type": "code",
   "execution_count": 32,
   "metadata": {},
   "outputs": [
    {
     "data": {
      "text/plain": [
       "Collection(Database(MongoClient(host=['localhost:27017'], document_class=dict, tz_aware=False, connect=True), 'test_database'), 'test_collection')"
      ]
     },
     "execution_count": 32,
     "metadata": {},
     "output_type": "execute_result"
    }
   ],
   "source": [
    "db=client.test_database\n",
    "test_collection = db.test_collection\n",
    "test_collection"
   ]
  },
  {
   "cell_type": "code",
   "execution_count": 33,
   "metadata": {},
   "outputs": [
    {
     "data": {
      "text/plain": [
       "<pymongo.results.InsertManyResult at 0x11461fc48>"
      ]
     },
     "execution_count": 33,
     "metadata": {},
     "output_type": "execute_result"
    }
   ],
   "source": [
    "test_collection.insert_many(docs)"
   ]
  },
  {
   "cell_type": "code",
   "execution_count": 40,
   "metadata": {},
   "outputs": [
    {
     "name": "stdout",
     "output_type": "stream",
     "text": [
      "{'_id': ObjectId('5c4ddc4448c81a99e54c9ec0'), 'elements': ['O', 'Ti'], 'nelements': 2, 'pretty_formula': 'TiO2', 'formula_anonymous': 'AB2', 'material_id': 'mp-775938'}\n",
      "{'_id': ObjectId('5c4ddc4448c81a99e54c9ec1'), 'elements': ['O', 'Ti'], 'nelements': 2, 'pretty_formula': 'TiO2', 'formula_anonymous': 'AB2', 'material_id': 'mp-766454'}\n",
      "{'_id': ObjectId('5c4ddc4448c81a99e54c9ec2'), 'elements': ['O', 'Ti'], 'nelements': 2, 'pretty_formula': 'TiO2', 'formula_anonymous': 'AB2', 'material_id': 'mp-9173'}\n",
      "{'_id': ObjectId('5c4ddc4448c81a99e54c9ec3'), 'elements': ['O', 'Ti'], 'nelements': 2, 'pretty_formula': 'Ti6O', 'formula_anonymous': 'AB6', 'material_id': 'mp-882'}\n",
      "{'_id': ObjectId('5c4ddc4448c81a99e54c9ec4'), 'elements': ['O', 'Ti'], 'nelements': 2, 'pretty_formula': 'TiO2', 'formula_anonymous': 'AB2', 'material_id': 'mvc-13391'}\n",
      "{'_id': ObjectId('5c4ddc4448c81a99e54c9ec5'), 'elements': ['O', 'Ti'], 'nelements': 2, 'pretty_formula': 'TiO2', 'formula_anonymous': 'AB2', 'material_id': 'mvc-12404'}\n",
      "{'_id': ObjectId('5c4ddc4448c81a99e54c9ec6'), 'elements': ['O', 'Ti'], 'nelements': 2, 'pretty_formula': 'TiO2', 'formula_anonymous': 'AB2', 'material_id': 'mp-636827'}\n",
      "{'_id': ObjectId('5c4ddc4448c81a99e54c9ec7'), 'elements': ['O', 'Ti'], 'nelements': 2, 'pretty_formula': 'Ti3O2', 'formula_anonymous': 'A2B3', 'material_id': 'mp-978968'}\n",
      "{'_id': ObjectId('5c4ddc4448c81a99e54c9ec8'), 'elements': ['O', 'Ti'], 'nelements': 2, 'pretty_formula': 'Ti10O11', 'formula_anonymous': 'A10B11', 'material_id': 'mp-684733'}\n",
      "{'_id': ObjectId('5c4ddc4448c81a99e54c9ec9'), 'elements': ['O', 'Ti'], 'nelements': 2, 'pretty_formula': 'TiO2', 'formula_anonymous': 'AB2', 'material_id': 'mvc-4715'}\n",
      "{'_id': ObjectId('5c4ddc4448c81a99e54c9eca'), 'elements': ['O', 'Ti'], 'nelements': 2, 'pretty_formula': 'Ti10O13', 'formula_anonymous': 'A10B13', 'material_id': 'mp-753593'}\n",
      "{'_id': ObjectId('5c4ddc4448c81a99e54c9ecb'), 'elements': ['O', 'Ti'], 'nelements': 2, 'pretty_formula': 'Ti3O5', 'formula_anonymous': 'A3B5', 'material_id': 'mp-8057'}\n",
      "{'_id': ObjectId('5c4ddc4448c81a99e54c9ecc'), 'elements': ['O', 'Ti'], 'nelements': 2, 'pretty_formula': 'Ti7O8', 'formula_anonymous': 'A7B8', 'material_id': 'mp-779692'}\n",
      "{'_id': ObjectId('5c4ddc4448c81a99e54c9ecd'), 'elements': ['O', 'Ti'], 'nelements': 2, 'pretty_formula': 'Ti11O18', 'formula_anonymous': 'A11B18', 'material_id': 'mp-760747'}\n",
      "{'_id': ObjectId('5c4ddc4448c81a99e54c9ece'), 'elements': ['O', 'Ti'], 'nelements': 2, 'pretty_formula': 'Ti4O7', 'formula_anonymous': 'A4B7', 'material_id': 'mp-778663'}\n",
      "{'_id': ObjectId('5c4ddc4448c81a99e54c9ecf'), 'elements': ['O', 'Ti'], 'nelements': 2, 'pretty_formula': 'Ti11O14', 'formula_anonymous': 'A11B14', 'material_id': 'mp-759754'}\n",
      "{'_id': ObjectId('5c4ddc4448c81a99e54c9ed0'), 'elements': ['O', 'Ti'], 'nelements': 2, 'pretty_formula': 'TiO', 'formula_anonymous': 'AB', 'material_id': 'mp-673667'}\n",
      "{'_id': ObjectId('5c4ddc4448c81a99e54c9ed1'), 'elements': ['O', 'Ti'], 'nelements': 2, 'pretty_formula': 'TiO', 'formula_anonymous': 'AB', 'material_id': 'mp-685151'}\n",
      "{'_id': ObjectId('5c4ddc4448c81a99e54c9ed2'), 'elements': ['O', 'Ti'], 'nelements': 2, 'pretty_formula': 'Ti8O13', 'formula_anonymous': 'A8B13', 'material_id': 'mp-752989'}\n",
      "{'_id': ObjectId('5c4ddc4448c81a99e54c9ed3'), 'elements': ['O', 'Ti'], 'nelements': 2, 'pretty_formula': 'TiO2', 'formula_anonymous': 'AB2', 'material_id': 'mvc-11423'}\n",
      "{'_id': ObjectId('5c4ddc4448c81a99e54c9ed4'), 'elements': ['O', 'Ti'], 'nelements': 2, 'pretty_formula': 'Ti9O17', 'formula_anonymous': 'A9B17', 'material_id': 'mp-27273'}\n",
      "{'_id': ObjectId('5c4ddc4448c81a99e54c9ed5'), 'elements': ['O', 'Ti'], 'nelements': 2, 'pretty_formula': 'Ti6O11', 'formula_anonymous': 'A6B11', 'material_id': 'mp-30524'}\n",
      "{'_id': ObjectId('5c4ddc4448c81a99e54c9ed6'), 'elements': ['O', 'Ti'], 'nelements': 2, 'pretty_formula': 'TiO2', 'formula_anonymous': 'AB2', 'material_id': 'mp-756587'}\n",
      "{'_id': ObjectId('5c4ddc4448c81a99e54c9ed7'), 'elements': ['O', 'Ti'], 'nelements': 2, 'pretty_formula': 'TiO2', 'formula_anonymous': 'AB2', 'material_id': 'mp-754769'}\n",
      "{'_id': ObjectId('5c4ddc4448c81a99e54c9ed8'), 'elements': ['O', 'Ti'], 'nelements': 2, 'pretty_formula': 'TiO2', 'formula_anonymous': 'AB2', 'material_id': 'mp-754672'}\n",
      "{'_id': ObjectId('5c4ddc4448c81a99e54c9ed9'), 'elements': ['O', 'Ti'], 'nelements': 2, 'pretty_formula': 'TiO2', 'formula_anonymous': 'AB2', 'material_id': 'mvc-11115'}\n",
      "{'_id': ObjectId('5c4ddc4448c81a99e54c9eda'), 'elements': ['O', 'Ti'], 'nelements': 2, 'pretty_formula': 'Ti3O4', 'formula_anonymous': 'A3B4', 'material_id': 'mp-755875'}\n",
      "{'_id': ObjectId('5c4ddc4448c81a99e54c9edb'), 'elements': ['O', 'Ti'], 'nelements': 2, 'pretty_formula': 'Ti2O3', 'formula_anonymous': 'A2B3', 'material_id': 'mp-776655'}\n",
      "{'_id': ObjectId('5c4ddc4448c81a99e54c9edc'), 'elements': ['O', 'Ti'], 'nelements': 2, 'pretty_formula': 'Ti19O30', 'formula_anonymous': 'A19B30', 'material_id': 'mp-760075'}\n",
      "{'_id': ObjectId('5c4ddc4448c81a99e54c9edd'), 'elements': ['O', 'Ti'], 'nelements': 2, 'pretty_formula': 'TiO2', 'formula_anonymous': 'AB2', 'material_id': 'mp-553432'}\n",
      "{'_id': ObjectId('5c4ddc4448c81a99e54c9ede'), 'elements': ['O', 'Ti'], 'nelements': 2, 'pretty_formula': 'Ti3O', 'formula_anonymous': 'AB3', 'material_id': 'mp-554032'}\n",
      "{'_id': ObjectId('5c4ddc4448c81a99e54c9edf'), 'elements': ['O', 'Ti'], 'nelements': 2, 'pretty_formula': 'Ti6O', 'formula_anonymous': 'AB6', 'material_id': 'mp-554098'}\n",
      "{'_id': ObjectId('5c4ddc4448c81a99e54c9ee0'), 'elements': ['O', 'Ti'], 'nelements': 2, 'pretty_formula': 'TiO2', 'formula_anonymous': 'AB2', 'material_id': 'mp-554278'}\n",
      "{'_id': ObjectId('5c4ddc4448c81a99e54c9ee1'), 'elements': ['O', 'Ti'], 'nelements': 2, 'pretty_formula': 'Ti3O', 'formula_anonymous': 'AB3', 'material_id': 'mp-557812'}\n",
      "{'_id': ObjectId('5c4ddc4448c81a99e54c9ee2'), 'elements': ['O', 'Ti'], 'nelements': 2, 'pretty_formula': 'Ti2O3', 'formula_anonymous': 'A2B3', 'material_id': 'mp-776456'}\n",
      "{'_id': ObjectId('5c4ddc4448c81a99e54c9ee3'), 'elements': ['O', 'Ti'], 'nelements': 2, 'pretty_formula': 'TiO', 'formula_anonymous': 'AB', 'material_id': 'mp-755300'}\n",
      "{'_id': ObjectId('5c4ddc4448c81a99e54c9ee4'), 'elements': ['O', 'Ti'], 'nelements': 2, 'pretty_formula': 'TiO', 'formula_anonymous': 'AB', 'material_id': 'mp-755264'}\n",
      "{'_id': ObjectId('5c4ddc4448c81a99e54c9ee5'), 'elements': ['O', 'Ti'], 'nelements': 2, 'pretty_formula': 'TiO2', 'formula_anonymous': 'AB2', 'material_id': 'mp-849533'}\n",
      "{'_id': ObjectId('5c4ddc4448c81a99e54c9ee6'), 'elements': ['O', 'Ti'], 'nelements': 2, 'pretty_formula': 'Ti6O11', 'formula_anonymous': 'A6B11', 'material_id': 'mp-559964'}\n",
      "{'_id': ObjectId('5c4ddc4448c81a99e54c9ee7'), 'elements': ['O', 'Ti'], 'nelements': 2, 'pretty_formula': 'Ti5O9', 'formula_anonymous': 'A5B9', 'material_id': 'mp-748'}\n",
      "{'_id': ObjectId('5c4ddc4448c81a99e54c9ee8'), 'elements': ['O', 'Ti'], 'nelements': 2, 'pretty_formula': 'TiO2', 'formula_anonymous': 'AB2', 'material_id': 'mvc-11600'}\n",
      "{'_id': ObjectId('5c4ddc4448c81a99e54c9ee9'), 'elements': ['O', 'Ti'], 'nelements': 2, 'pretty_formula': 'Ti8O15', 'formula_anonymous': 'A8B15', 'material_id': 'mp-565700'}\n",
      "{'_id': ObjectId('5c4ddc4448c81a99e54c9eea'), 'elements': ['O', 'Ti'], 'nelements': 2, 'pretty_formula': 'TiO2', 'formula_anonymous': 'AB2', 'material_id': 'mvc-5171'}\n",
      "{'_id': ObjectId('5c4ddc4448c81a99e54c9eeb'), 'elements': ['O', 'Ti'], 'nelements': 2, 'pretty_formula': 'Ti3O5', 'formula_anonymous': 'A3B5', 'material_id': 'mp-556480'}\n",
      "{'_id': ObjectId('5c4ddc4448c81a99e54c9eec'), 'elements': ['O', 'Ti'], 'nelements': 2, 'pretty_formula': 'Ti7O13', 'formula_anonymous': 'A7B13', 'material_id': 'mp-556724'}\n",
      "{'_id': ObjectId('5c4ddc4448c81a99e54c9eed'), 'elements': ['O', 'Ti'], 'nelements': 2, 'pretty_formula': 'Ti3O5', 'formula_anonymous': 'A3B5', 'material_id': 'mp-556754'}\n",
      "{'_id': ObjectId('5c4ddc4448c81a99e54c9eee'), 'elements': ['O', 'Ti'], 'nelements': 2, 'pretty_formula': 'TiO', 'formula_anonymous': 'AB', 'material_id': 'mp-754333'}\n",
      "{'_id': ObjectId('5c4ddc4448c81a99e54c9eef'), 'elements': ['O', 'Ti'], 'nelements': 2, 'pretty_formula': 'TiO2', 'formula_anonymous': 'AB2', 'material_id': 'mp-777129'}\n",
      "{'_id': ObjectId('5c4ddc4448c81a99e54c9ef0'), 'elements': ['O', 'Ti'], 'nelements': 2, 'pretty_formula': 'Ti13O22', 'formula_anonymous': 'A13B22', 'material_id': 'mp-656852'}\n",
      "{'_id': ObjectId('5c4ddc4448c81a99e54c9ef1'), 'elements': ['O', 'Ti'], 'nelements': 2, 'pretty_formula': 'Ti2O7', 'formula_anonymous': 'A2B7', 'material_id': 'mp-656850'}\n",
      "{'_id': ObjectId('5c4ddc4448c81a99e54c9ef2'), 'elements': ['O', 'Ti'], 'nelements': 2, 'pretty_formula': 'Ti4O7', 'formula_anonymous': 'A4B7', 'material_id': 'mp-12205'}\n",
      "{'_id': ObjectId('5c4ddc4448c81a99e54c9ef3'), 'elements': ['O', 'Ti'], 'nelements': 2, 'pretty_formula': 'TiO', 'formula_anonymous': 'AB', 'material_id': 'mp-2664'}\n",
      "{'_id': ObjectId('5c4ddc4448c81a99e54c9ef4'), 'elements': ['O', 'Ti'], 'nelements': 2, 'pretty_formula': 'Ti9O13', 'formula_anonymous': 'A9B13', 'material_id': 'mvc-1923'}\n",
      "{'_id': ObjectId('5c4ddc4448c81a99e54c9ef5'), 'elements': ['O', 'Ti'], 'nelements': 2, 'pretty_formula': 'Ti2O3', 'formula_anonymous': 'A2B3', 'material_id': 'mvc-379'}\n",
      "{'_id': ObjectId('5c4ddc4448c81a99e54c9ef6'), 'elements': ['O', 'Ti'], 'nelements': 2, 'pretty_formula': 'TiO2', 'formula_anonymous': 'AB2', 'material_id': 'mp-25433'}\n",
      "{'_id': ObjectId('5c4ddc4448c81a99e54c9ef7'), 'elements': ['O', 'Ti'], 'nelements': 2, 'pretty_formula': 'TiO', 'formula_anonymous': 'AB', 'material_id': 'mp-1071163'}\n",
      "{'_id': ObjectId('5c4ddc4448c81a99e54c9ef8'), 'elements': ['O', 'Ti'], 'nelements': 2, 'pretty_formula': 'TiO2', 'formula_anonymous': 'AB2', 'material_id': 'mp-1097860'}\n",
      "{'_id': ObjectId('5c4ddc4448c81a99e54c9ef9'), 'elements': ['O', 'Ti'], 'nelements': 2, 'pretty_formula': 'TiO2', 'formula_anonymous': 'AB2', 'material_id': 'mp-1840'}\n",
      "{'_id': ObjectId('5c4ddc4448c81a99e54c9efa'), 'elements': ['O', 'Ti'], 'nelements': 2, 'pretty_formula': 'TiO', 'formula_anonymous': 'AB', 'material_id': 'mp-1203'}\n",
      "{'_id': ObjectId('5c4ddc4448c81a99e54c9efb'), 'elements': ['O', 'Ti'], 'nelements': 2, 'pretty_formula': 'Ti2O', 'formula_anonymous': 'AB2', 'material_id': 'mp-1215'}\n",
      "{'_id': ObjectId('5c4ddc4448c81a99e54c9efc'), 'elements': ['O', 'Ti'], 'nelements': 2, 'pretty_formula': 'Ti4O5', 'formula_anonymous': 'A4B5', 'material_id': 'mp-10734'}\n",
      "{'_id': ObjectId('5c4ddc4448c81a99e54c9efd'), 'elements': ['O', 'Ti'], 'nelements': 2, 'pretty_formula': 'Ti3O', 'formula_anonymous': 'AB3', 'material_id': 'mp-2591'}\n",
      "{'_id': ObjectId('5c4ddc4448c81a99e54c9efe'), 'elements': ['O', 'Ti'], 'nelements': 2, 'pretty_formula': 'Ti3O5', 'formula_anonymous': 'A3B5', 'material_id': 'mp-1147'}\n",
      "{'_id': ObjectId('5c4ddc4448c81a99e54c9eff'), 'elements': ['O', 'Ti'], 'nelements': 2, 'pretty_formula': 'TiO2', 'formula_anonymous': 'AB2', 'material_id': 'mp-430'}\n",
      "{'_id': ObjectId('5c4ddc4448c81a99e54c9f00'), 'elements': ['O', 'Ti'], 'nelements': 2, 'pretty_formula': 'Ti9O8', 'formula_anonymous': 'A8B9', 'material_id': 'mp-32544'}\n",
      "{'_id': ObjectId('5c4ddc4448c81a99e54c9f01'), 'elements': ['O', 'Ti'], 'nelements': 2, 'pretty_formula': 'TiO2', 'formula_anonymous': 'AB2', 'material_id': 'mp-390'}\n",
      "{'_id': ObjectId('5c4ddc4448c81a99e54c9f02'), 'elements': ['O', 'Ti'], 'nelements': 2, 'pretty_formula': 'TiO2', 'formula_anonymous': 'AB2', 'material_id': 'mp-1079207'}\n",
      "{'_id': ObjectId('5c4ddc4448c81a99e54c9f03'), 'elements': ['O', 'Ti'], 'nelements': 2, 'pretty_formula': 'TiO2', 'formula_anonymous': 'AB2', 'material_id': 'mp-25262'}\n",
      "{'_id': ObjectId('5c4ddc4448c81a99e54c9f04'), 'elements': ['O', 'Ti'], 'nelements': 2, 'pretty_formula': 'Ti2O3', 'formula_anonymous': 'A2B3', 'material_id': 'mp-458'}\n",
      "{'_id': ObjectId('5c4ddc4448c81a99e54c9f05'), 'elements': ['O', 'Ti'], 'nelements': 2, 'pretty_formula': 'TiO2', 'formula_anonymous': 'AB2', 'material_id': 'mp-34688'}\n",
      "{'_id': ObjectId('5c4ddc4448c81a99e54c9f06'), 'elements': ['O', 'Ti'], 'nelements': 2, 'pretty_formula': 'TiO2', 'formula_anonymous': 'AB2', 'material_id': 'mp-572822'}\n",
      "{'_id': ObjectId('5c4ddc4448c81a99e54c9f07'), 'elements': ['O', 'Ti'], 'nelements': 2, 'pretty_formula': 'TiO2', 'formula_anonymous': 'AB2', 'material_id': 'mp-1439'}\n",
      "{'_id': ObjectId('5c4ddc4448c81a99e54c9f08'), 'elements': ['O', 'Ti'], 'nelements': 2, 'pretty_formula': 'Ti5O7', 'formula_anonymous': 'A5B7', 'material_id': 'mvc-2169'}\n",
      "{'_id': ObjectId('5c4ddc4448c81a99e54c9f09'), 'elements': ['O', 'Ti'], 'nelements': 2, 'pretty_formula': 'TiO2', 'formula_anonymous': 'AB2', 'material_id': 'mp-756655'}\n",
      "{'_id': ObjectId('5c4ddc4448c81a99e54c9f0a'), 'elements': ['O', 'Ti'], 'nelements': 2, 'pretty_formula': 'TiO2', 'formula_anonymous': 'AB2', 'material_id': 'mvc-12466'}\n",
      "{'_id': ObjectId('5c4ddc4448c81a99e54c9f0b'), 'elements': ['O', 'Ti'], 'nelements': 2, 'pretty_formula': 'Ti9O10', 'formula_anonymous': 'A9B10', 'material_id': 'mp-32813'}\n",
      "{'_id': ObjectId('5c4ddc4448c81a99e54c9f0c'), 'elements': ['O', 'Ti'], 'nelements': 2, 'pretty_formula': 'TiO2', 'formula_anonymous': 'AB2', 'material_id': 'mvc-9726'}\n",
      "{'_id': ObjectId('5c4ddc4448c81a99e54c9f0d'), 'elements': ['O', 'Ti'], 'nelements': 2, 'pretty_formula': 'Ti5O8', 'formula_anonymous': 'A5B8', 'material_id': 'mp-759920'}\n",
      "{'_id': ObjectId('5c4ddc4448c81a99e54c9f0e'), 'elements': ['O', 'Ti'], 'nelements': 2, 'pretty_formula': 'TiO2', 'formula_anonymous': 'AB2', 'material_id': 'mp-655656'}\n",
      "{'_id': ObjectId('5c4ddc4448c81a99e54c9f0f'), 'elements': ['O', 'Ti'], 'nelements': 2, 'pretty_formula': 'TiO2', 'formula_anonymous': 'AB2', 'material_id': 'mp-2657'}\n",
      "{'_id': ObjectId('5c4ddc4448c81a99e54c9f10'), 'elements': ['O', 'Ti'], 'nelements': 2, 'pretty_formula': 'Ti3O7', 'formula_anonymous': 'A3B7', 'material_id': 'mp-1105338'}\n",
      "{'_id': ObjectId('5c4ddc4448c81a99e54c9f11'), 'elements': ['O', 'Ti'], 'nelements': 2, 'pretty_formula': 'Ti2O3', 'formula_anonymous': 'A2B3', 'material_id': 'mp-1101295'}\n",
      "{'_id': ObjectId('5c4ddc4448c81a99e54c9f12'), 'elements': ['O', 'Ti'], 'nelements': 2, 'pretty_formula': 'TiO2', 'formula_anonymous': 'AB2', 'material_id': 'mp-1102591'}\n",
      "{'_id': ObjectId('5c4ddc4448c81a99e54c9f13'), 'elements': ['O', 'Ti'], 'nelements': 2, 'pretty_formula': 'TiO2', 'formula_anonymous': 'AB2', 'material_id': 'mp-1101022'}\n",
      "{'_id': ObjectId('5c4ddc4448c81a99e54c9f14'), 'elements': ['O', 'Ti'], 'nelements': 2, 'pretty_formula': 'TiO2', 'formula_anonymous': 'AB2', 'material_id': 'mp-1102255'}\n",
      "{'_id': ObjectId('5c4ddc4448c81a99e54c9f15'), 'elements': ['O', 'Ti'], 'nelements': 2, 'pretty_formula': 'TiO2', 'formula_anonymous': 'AB2', 'material_id': 'mp-1008677'}\n",
      "{'_id': ObjectId('5c4ddc4448c81a99e54c9f16'), 'elements': ['O', 'Ti'], 'nelements': 2, 'pretty_formula': 'Ti11O14', 'formula_anonymous': 'A11B14', 'material_id': 'mp-1101463'}\n"
     ]
    }
   ],
   "source": [
    "cursor = test_collection.find({})\n",
    "for document in cursor:\n",
    "    print(document)"
   ]
  },
  {
   "cell_type": "code",
   "execution_count": null,
   "metadata": {},
   "outputs": [],
   "source": []
  }
 ],
 "metadata": {
  "kernelspec": {
   "display_name": "Python 3",
   "language": "python",
   "name": "python3"
  },
  "language_info": {
   "codemirror_mode": {
    "name": "ipython",
    "version": 3
   },
   "file_extension": ".py",
   "mimetype": "text/x-python",
   "name": "python",
   "nbconvert_exporter": "python",
   "pygments_lexer": "ipython3",
   "version": "3.7.2"
  }
 },
 "nbformat": 4,
 "nbformat_minor": 2
}
