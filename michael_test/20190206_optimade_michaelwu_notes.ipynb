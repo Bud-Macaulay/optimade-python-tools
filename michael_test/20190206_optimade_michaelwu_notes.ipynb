{
 "cells": [
  {
   "cell_type": "markdown",
   "metadata": {},
   "source": [
    "- http://www.optimade.org/optimade\n",
    "- https://jsonapi.org/format/#fetching-resources-responses"
   ]
  },
  {
   "cell_type": "code",
   "execution_count": 1,
   "metadata": {},
   "outputs": [],
   "source": [
    "from urllib.parse import urlparse, quote_plus, urlencode, parse_qs\n",
    "\n",
    "url = (\n",
    "    \"https://materialsproject.org/optimade/0.9.6/structures\"\n",
    "    \"?filter=nelements<3&response_format=json&email_address=dwinston@lbl.gov&response_limit=10\"\n",
    "    \"&response_fields=id,nelements,chemical_formula&sort=-nelements\"\n",
    ")"
   ]
  },
  {
   "cell_type": "code",
   "execution_count": 10,
   "metadata": {},
   "outputs": [],
   "source": [
    "params = {\n",
    "    \"filter\": \"nelements<3\",\n",
    "    \"response_format\": \"json\",\n",
    "    \"email_address\": \"dwinston@lbl.gov\",\n",
    "    \"response_limit\": \"10\",\n",
    "    \"response_fields\": \"id,nelements,chemical_formula\",\n",
    "    \"sort\": \"-nelements\",\n",
    "}"
   ]
  },
  {
   "cell_type": "code",
   "execution_count": 3,
   "metadata": {},
   "outputs": [],
   "source": [
    "params = {\n",
    "    \"filter\": \"nelements<3\",\n",
    "}"
   ]
  },
  {
   "cell_type": "code",
   "execution_count": 11,
   "metadata": {},
   "outputs": [
    {
     "name": "stdout",
     "output_type": "stream",
     "text": [
      "https://materialsproject.org/optimade/0.9.6/structures?filter=nelements%3C3&response_format=json&email_address=dwinston%40lbl.gov&response_limit=10&response_fields=id%2Cnelements%2Cchemical_formula&sort=-nelements\n"
     ]
    }
   ],
   "source": [
    "endpoint = \"https://materialsproject.org/optimade/0.9.6/structures\"\n",
    "url = f\"{endpoint}?{urlencode(params)}\"\n",
    "print(url)"
   ]
  },
  {
   "cell_type": "code",
   "execution_count": 12,
   "metadata": {},
   "outputs": [
    {
     "name": "stdout",
     "output_type": "stream",
     "text": [
      "ParseResult(scheme='https', netloc='materialsproject.org', path='/optimade/0.9.6/structures', params='', query='filter=nelements%3C3&response_format=json&email_address=dwinston%40lbl.gov&response_limit=10&response_fields=id%2Cnelements%2Cchemical_formula&sort=-nelements', fragment='')\n"
     ]
    }
   ],
   "source": [
    "parsed = urlparse(url)\n",
    "print(parsed)"
   ]
  },
  {
   "cell_type": "code",
   "execution_count": 14,
   "metadata": {},
   "outputs": [],
   "source": [
    "out = parse_qs(parsed.query)"
   ]
  },
  {
   "cell_type": "code",
   "execution_count": 9,
   "metadata": {},
   "outputs": [
    {
     "ename": "SyntaxError",
     "evalue": "can't assign to function call (<ipython-input-9-63719e714699>, line 1)",
     "output_type": "error",
     "traceback": [
      "\u001b[0;36m  File \u001b[0;32m\"<ipython-input-9-63719e714699>\"\u001b[0;36m, line \u001b[0;32m1\u001b[0m\n\u001b[0;31m    db.collection.find(filter=filter_parse(out['filter'][0])), projection=out['response_fields'][0].split(\",\"),sort=..., limit=int(out['response_limit'][0], skip=...)\u001b[0m\n\u001b[0m                                                                                                                                                                      ^\u001b[0m\n\u001b[0;31mSyntaxError\u001b[0m\u001b[0;31m:\u001b[0m can't assign to function call\n"
     ]
    }
   ],
   "source": [
    "db.collection.find(filter=filter_parse(out['filter'][0])), projection=out['response_fields'][0].split(\",\"),\n",
    "sort=..., limit=int(out['response_limit'][0], skip=...)"
   ]
  },
  {
   "cell_type": "code",
   "execution_count": 8,
   "metadata": {},
   "outputs": [],
   "source": [
    "# sort \"-nelements\" --> [(\"nelements\", -1)]"
   ]
  },
  {
   "cell_type": "code",
   "execution_count": null,
   "metadata": {},
   "outputs": [],
   "source": []
  }
 ],
 "metadata": {
  "kernelspec": {
   "display_name": "Python 3",
   "language": "python",
   "name": "python3"
  },
  "language_info": {
   "codemirror_mode": {
    "name": "ipython",
    "version": 3
   },
   "file_extension": ".py",
   "mimetype": "text/x-python",
   "name": "python",
   "nbconvert_exporter": "python",
   "pygments_lexer": "ipython3",
   "version": "3.7.1"
  }
 },
 "nbformat": 4,
 "nbformat_minor": 2
}
