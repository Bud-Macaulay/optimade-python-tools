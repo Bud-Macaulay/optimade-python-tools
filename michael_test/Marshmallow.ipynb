{
 "cells": [
  {
   "cell_type": "code",
   "execution_count": 1,
   "metadata": {},
   "outputs": [
    {
     "name": "stdout",
     "output_type": "stream",
     "text": [
      "Collecting marshmallow-jsonapi\n",
      "  Downloading https://files.pythonhosted.org/packages/81/f6/36c1c0b9e5dedef8faef45adf3582ecc8f2ce2da365875f1fadf333da842/marshmallow_jsonapi-0.21.0-py2.py3-none-any.whl\n",
      "Collecting marshmallow>=2.8.0 (from marshmallow-jsonapi)\n",
      "\u001b[?25l  Downloading https://files.pythonhosted.org/packages/9a/3c/4cc463c53136dc503f9ee234c4a6592e1c7411cb362f844e80df70361f29/marshmallow-2.18.0-py2.py3-none-any.whl (50kB)\n",
      "\u001b[K    100% |████████████████████████████████| 51kB 8.5MB/s ta 0:00:01\n",
      "\u001b[?25hInstalling collected packages: marshmallow, marshmallow-jsonapi\n",
      "Successfully installed marshmallow-2.18.0 marshmallow-jsonapi-0.21.0\n"
     ]
    }
   ],
   "source": [
    "!pip install marshmallow-jsonapi"
   ]
  },
  {
   "cell_type": "code",
   "execution_count": 17,
   "metadata": {},
   "outputs": [],
   "source": [
    "from marshmallow_jsonapi import Schema, fields\n",
    "class Compound():\n",
    "    def __init__(self, objectId, chemsys, elements, nelements, pretty_formula, formula_anonymous, material_id):\n",
    "        self.chemsys = chemsys\n",
    "        self.elements = elements\n",
    "        self.nelements = nelements\n",
    "        self.pretty_formula = pretty_formula\n",
    "        self.formula_anonymous = formula_anonymous\n",
    "        self.material_id = material_id\n",
    "        self.id = objectId\n",
    "\n",
    "class CompoundSchema(Schema):\n",
    "    chemsys = fields.Str()\n",
    "    elements = fields.List(fields.String)\n",
    "    nelements = fields.Int()\n",
    "    pretty_formula = fields.Str()\n",
    "    formula_anonymous = fields.Str()\n",
    "    material_id = fields.Str()\n",
    "    id = fields.Str()\n",
    "    \n",
    "    class Meta:\n",
    "        type_ = \"compound\"\n",
    "        strict = True\n",
    "\n",
    "compound_schema = CompoundSchema()"
   ]
  },
  {
   "cell_type": "code",
   "execution_count": 18,
   "metadata": {},
   "outputs": [],
   "source": [
    "compound = Compound(\"5c4ddc4448c81a99e54c9ec0\", \"O-Ti\",['O', 'Ti'],3,\"asdf\",\"gh\",\"134adsf\")"
   ]
  },
  {
   "cell_type": "code",
   "execution_count": 19,
   "metadata": {},
   "outputs": [
    {
     "data": {
      "text/plain": [
       "MarshalResult(data={'data': {'type': 'compound', 'attributes': {'material_id': '134adsf', 'chemsys': 'O-Ti', 'nelements': 3, 'elements': ['O', 'Ti'], 'formula_anonymous': 'gh', 'pretty_formula': 'asdf'}, 'id': '5c4ddc4448c81a99e54c9ec0'}}, errors={})"
      ]
     },
     "execution_count": 19,
     "metadata": {},
     "output_type": "execute_result"
    }
   ],
   "source": [
    "CompoundSchema().dump(compound)"
   ]
  },
  {
   "cell_type": "code",
   "execution_count": null,
   "metadata": {},
   "outputs": [],
   "source": []
  }
 ],
 "metadata": {
  "kernelspec": {
   "display_name": "Python 3",
   "language": "python",
   "name": "python3"
  },
  "language_info": {
   "codemirror_mode": {
    "name": "ipython",
    "version": 3
   },
   "file_extension": ".py",
   "mimetype": "text/x-python",
   "name": "python",
   "nbconvert_exporter": "python",
   "pygments_lexer": "ipython3",
   "version": "3.7.1"
  }
 },
 "nbformat": 4,
 "nbformat_minor": 2
}
