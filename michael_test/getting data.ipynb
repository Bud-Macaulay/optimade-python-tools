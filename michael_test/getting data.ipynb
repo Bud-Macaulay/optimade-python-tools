{
 "cells": [
  {
   "cell_type": "code",
   "execution_count": 9,
   "metadata": {},
   "outputs": [
    {
     "name": "stdout",
     "output_type": "stream",
     "text": [
      "Collecting pymongo\n",
      "\u001b[?25l  Downloading https://files.pythonhosted.org/packages/d7/ac/d2e324c1f9bcf653fa106785371a16b4709506a35b04948655de8b961a85/pymongo-3.7.2-cp37-cp37m-macosx_10_9_x86_64.whl (307kB)\n",
      "\u001b[K    100% |████████████████████████████████| 317kB 3.5MB/s ta 0:00:01\n",
      "\u001b[?25hInstalling collected packages: pymongo\n",
      "Successfully installed pymongo-3.7.2\n"
     ]
    }
   ],
   "source": [
    "!pip install pymongo"
   ]
  },
  {
   "cell_type": "code",
   "execution_count": 5,
   "metadata": {},
   "outputs": [],
   "source": [
    "from pymatgen import MPRester\n",
    "mpr = MPRester(\"BsTwIdAypx0Far6t\")"
   ]
  },
  {
   "cell_type": "code",
   "execution_count": 21,
   "metadata": {},
   "outputs": [],
   "source": [
    "docs = mpr.query({\"chemsys\":\"O-Ti\"}, [\"elements\", \"nelements\", \"pretty_formula\", \"formula_anonymous\",\"material_id\"])\n",
    "# filter_ = {\"chemsys\":\"O-Ti\"}\n",
    "#sort_="
   ]
  },
  {
   "cell_type": "code",
   "execution_count": 27,
   "metadata": {},
   "outputs": [
    {
     "data": {
      "text/plain": [
       "87"
      ]
     },
     "execution_count": 27,
     "metadata": {},
     "output_type": "execute_result"
    }
   ],
   "source": [
    "len(docs)"
   ]
  },
  {
   "cell_type": "code",
   "execution_count": 23,
   "metadata": {},
   "outputs": [],
   "source": [
    "import pymongo\n",
    "from pymongo import MongoClient\n",
    "client = MongoClient()"
   ]
  },
  {
   "cell_type": "code",
   "execution_count": 24,
   "metadata": {},
   "outputs": [
    {
     "data": {
      "text/plain": [
       "Collection(Database(MongoClient(host=['localhost:27017'], document_class=dict, tz_aware=False, connect=True), 'test_database'), 'test_collection')"
      ]
     },
     "execution_count": 24,
     "metadata": {},
     "output_type": "execute_result"
    }
   ],
   "source": [
    "db=client.test_database\n",
    "test_collection = db.test_collection\n",
    "test_collection"
   ]
  },
  {
   "cell_type": "code",
   "execution_count": 25,
   "metadata": {},
   "outputs": [
    {
     "data": {
      "text/plain": [
       "<pymongo.results.InsertManyResult at 0x6163ba2c8>"
      ]
     },
     "execution_count": 25,
     "metadata": {},
     "output_type": "execute_result"
    }
   ],
   "source": [
    "test_collection.insert_many(docs)"
   ]
  },
  {
   "cell_type": "code",
   "execution_count": 26,
   "metadata": {},
   "outputs": [
    {
     "name": "stdout",
     "output_type": "stream",
     "text": [
      "{'_id': ObjectId('5c4ddc4448c81a99e54c9ec0'), 'elements': ['O', 'Ti'], 'nelements': 2, 'pretty_formula': 'TiO2', 'formula_anonymous': 'AB2', 'material_id': 'mp-775938'}\n",
      "{'_id': ObjectId('5c4ddc4448c81a99e54c9ec1'), 'elements': ['O', 'Ti'], 'nelements': 2, 'pretty_formula': 'TiO2', 'formula_anonymous': 'AB2', 'material_id': 'mp-766454'}\n",
      "{'_id': ObjectId('5c4ddc4448c81a99e54c9ec2'), 'elements': ['O', 'Ti'], 'nelements': 2, 'pretty_formula': 'TiO2', 'formula_anonymous': 'AB2', 'material_id': 'mp-9173'}\n",
      "{'_id': ObjectId('5c4ddc4448c81a99e54c9ec3'), 'elements': ['O', 'Ti'], 'nelements': 2, 'pretty_formula': 'Ti6O', 'formula_anonymous': 'AB6', 'material_id': 'mp-882'}\n",
      "{'_id': ObjectId('5c4ddc4448c81a99e54c9ec4'), 'elements': ['O', 'Ti'], 'nelements': 2, 'pretty_formula': 'TiO2', 'formula_anonymous': 'AB2', 'material_id': 'mvc-13391'}\n",
      "{'_id': ObjectId('5c4ddc4448c81a99e54c9ec5'), 'elements': ['O', 'Ti'], 'nelements': 2, 'pretty_formula': 'TiO2', 'formula_anonymous': 'AB2', 'material_id': 'mvc-12404'}\n",
      "{'_id': ObjectId('5c4ddc4448c81a99e54c9ec6'), 'elements': ['O', 'Ti'], 'nelements': 2, 'pretty_formula': 'TiO2', 'formula_anonymous': 'AB2', 'material_id': 'mp-636827'}\n",
      "{'_id': ObjectId('5c4ddc4448c81a99e54c9ec7'), 'elements': ['O', 'Ti'], 'nelements': 2, 'pretty_formula': 'Ti3O2', 'formula_anonymous': 'A2B3', 'material_id': 'mp-978968'}\n",
      "{'_id': ObjectId('5c4ddc4448c81a99e54c9ec8'), 'elements': ['O', 'Ti'], 'nelements': 2, 'pretty_formula': 'Ti10O11', 'formula_anonymous': 'A10B11', 'material_id': 'mp-684733'}\n",
      "{'_id': ObjectId('5c4ddc4448c81a99e54c9ec9'), 'elements': ['O', 'Ti'], 'nelements': 2, 'pretty_formula': 'TiO2', 'formula_anonymous': 'AB2', 'material_id': 'mvc-4715'}\n",
      "{'_id': ObjectId('5c4ddc4448c81a99e54c9eca'), 'elements': ['O', 'Ti'], 'nelements': 2, 'pretty_formula': 'Ti10O13', 'formula_anonymous': 'A10B13', 'material_id': 'mp-753593'}\n",
      "{'_id': ObjectId('5c4ddc4448c81a99e54c9ecb'), 'elements': ['O', 'Ti'], 'nelements': 2, 'pretty_formula': 'Ti3O5', 'formula_anonymous': 'A3B5', 'material_id': 'mp-8057'}\n",
      "{'_id': ObjectId('5c4ddc4448c81a99e54c9ecc'), 'elements': ['O', 'Ti'], 'nelements': 2, 'pretty_formula': 'Ti7O8', 'formula_anonymous': 'A7B8', 'material_id': 'mp-779692'}\n",
      "{'_id': ObjectId('5c4ddc4448c81a99e54c9ecd'), 'elements': ['O', 'Ti'], 'nelements': 2, 'pretty_formula': 'Ti11O18', 'formula_anonymous': 'A11B18', 'material_id': 'mp-760747'}\n",
      "{'_id': ObjectId('5c4ddc4448c81a99e54c9ece'), 'elements': ['O', 'Ti'], 'nelements': 2, 'pretty_formula': 'Ti4O7', 'formula_anonymous': 'A4B7', 'material_id': 'mp-778663'}\n",
      "{'_id': ObjectId('5c4ddc4448c81a99e54c9ecf'), 'elements': ['O', 'Ti'], 'nelements': 2, 'pretty_formula': 'Ti11O14', 'formula_anonymous': 'A11B14', 'material_id': 'mp-759754'}\n",
      "{'_id': ObjectId('5c4ddc4448c81a99e54c9ed0'), 'elements': ['O', 'Ti'], 'nelements': 2, 'pretty_formula': 'TiO', 'formula_anonymous': 'AB', 'material_id': 'mp-673667'}\n",
      "{'_id': ObjectId('5c4ddc4448c81a99e54c9ed1'), 'elements': ['O', 'Ti'], 'nelements': 2, 'pretty_formula': 'TiO', 'formula_anonymous': 'AB', 'material_id': 'mp-685151'}\n",
      "{'_id': ObjectId('5c4ddc4448c81a99e54c9ed2'), 'elements': ['O', 'Ti'], 'nelements': 2, 'pretty_formula': 'Ti8O13', 'formula_anonymous': 'A8B13', 'material_id': 'mp-752989'}\n",
      "{'_id': ObjectId('5c4ddc4448c81a99e54c9ed3'), 'elements': ['O', 'Ti'], 'nelements': 2, 'pretty_formula': 'TiO2', 'formula_anonymous': 'AB2', 'material_id': 'mvc-11423'}\n",
      "{'_id': ObjectId('5c4ddc4448c81a99e54c9ed4'), 'elements': ['O', 'Ti'], 'nelements': 2, 'pretty_formula': 'Ti9O17', 'formula_anonymous': 'A9B17', 'material_id': 'mp-27273'}\n",
      "{'_id': ObjectId('5c4ddc4448c81a99e54c9ed5'), 'elements': ['O', 'Ti'], 'nelements': 2, 'pretty_formula': 'Ti6O11', 'formula_anonymous': 'A6B11', 'material_id': 'mp-30524'}\n",
      "{'_id': ObjectId('5c4ddc4448c81a99e54c9ed6'), 'elements': ['O', 'Ti'], 'nelements': 2, 'pretty_formula': 'TiO2', 'formula_anonymous': 'AB2', 'material_id': 'mp-756587'}\n",
      "{'_id': ObjectId('5c4ddc4448c81a99e54c9ed7'), 'elements': ['O', 'Ti'], 'nelements': 2, 'pretty_formula': 'TiO2', 'formula_anonymous': 'AB2', 'material_id': 'mp-754769'}\n",
      "{'_id': ObjectId('5c4ddc4448c81a99e54c9ed8'), 'elements': ['O', 'Ti'], 'nelements': 2, 'pretty_formula': 'TiO2', 'formula_anonymous': 'AB2', 'material_id': 'mp-754672'}\n",
      "{'_id': ObjectId('5c4ddc4448c81a99e54c9ed9'), 'elements': ['O', 'Ti'], 'nelements': 2, 'pretty_formula': 'TiO2', 'formula_anonymous': 'AB2', 'material_id': 'mvc-11115'}\n",
      "{'_id': ObjectId('5c4ddc4448c81a99e54c9eda'), 'elements': ['O', 'Ti'], 'nelements': 2, 'pretty_formula': 'Ti3O4', 'formula_anonymous': 'A3B4', 'material_id': 'mp-755875'}\n",
      "{'_id': ObjectId('5c4ddc4448c81a99e54c9edb'), 'elements': ['O', 'Ti'], 'nelements': 2, 'pretty_formula': 'Ti2O3', 'formula_anonymous': 'A2B3', 'material_id': 'mp-776655'}\n",
      "{'_id': ObjectId('5c4ddc4448c81a99e54c9edc'), 'elements': ['O', 'Ti'], 'nelements': 2, 'pretty_formula': 'Ti19O30', 'formula_anonymous': 'A19B30', 'material_id': 'mp-760075'}\n",
      "{'_id': ObjectId('5c4ddc4448c81a99e54c9edd'), 'elements': ['O', 'Ti'], 'nelements': 2, 'pretty_formula': 'TiO2', 'formula_anonymous': 'AB2', 'material_id': 'mp-553432'}\n",
      "{'_id': ObjectId('5c4ddc4448c81a99e54c9ede'), 'elements': ['O', 'Ti'], 'nelements': 2, 'pretty_formula': 'Ti3O', 'formula_anonymous': 'AB3', 'material_id': 'mp-554032'}\n",
      "{'_id': ObjectId('5c4ddc4448c81a99e54c9edf'), 'elements': ['O', 'Ti'], 'nelements': 2, 'pretty_formula': 'Ti6O', 'formula_anonymous': 'AB6', 'material_id': 'mp-554098'}\n",
      "{'_id': ObjectId('5c4ddc4448c81a99e54c9ee0'), 'elements': ['O', 'Ti'], 'nelements': 2, 'pretty_formula': 'TiO2', 'formula_anonymous': 'AB2', 'material_id': 'mp-554278'}\n",
      "{'_id': ObjectId('5c4ddc4448c81a99e54c9ee1'), 'elements': ['O', 'Ti'], 'nelements': 2, 'pretty_formula': 'Ti3O', 'formula_anonymous': 'AB3', 'material_id': 'mp-557812'}\n",
      "{'_id': ObjectId('5c4ddc4448c81a99e54c9ee2'), 'elements': ['O', 'Ti'], 'nelements': 2, 'pretty_formula': 'Ti2O3', 'formula_anonymous': 'A2B3', 'material_id': 'mp-776456'}\n",
      "{'_id': ObjectId('5c4ddc4448c81a99e54c9ee3'), 'elements': ['O', 'Ti'], 'nelements': 2, 'pretty_formula': 'TiO', 'formula_anonymous': 'AB', 'material_id': 'mp-755300'}\n",
      "{'_id': ObjectId('5c4ddc4448c81a99e54c9ee4'), 'elements': ['O', 'Ti'], 'nelements': 2, 'pretty_formula': 'TiO', 'formula_anonymous': 'AB', 'material_id': 'mp-755264'}\n",
      "{'_id': ObjectId('5c4ddc4448c81a99e54c9ee5'), 'elements': ['O', 'Ti'], 'nelements': 2, 'pretty_formula': 'TiO2', 'formula_anonymous': 'AB2', 'material_id': 'mp-849533'}\n",
      "{'_id': ObjectId('5c4ddc4448c81a99e54c9ee6'), 'elements': ['O', 'Ti'], 'nelements': 2, 'pretty_formula': 'Ti6O11', 'formula_anonymous': 'A6B11', 'material_id': 'mp-559964'}\n",
      "{'_id': ObjectId('5c4ddc4448c81a99e54c9ee7'), 'elements': ['O', 'Ti'], 'nelements': 2, 'pretty_formula': 'Ti5O9', 'formula_anonymous': 'A5B9', 'material_id': 'mp-748'}\n",
      "{'_id': ObjectId('5c4ddc4448c81a99e54c9ee8'), 'elements': ['O', 'Ti'], 'nelements': 2, 'pretty_formula': 'TiO2', 'formula_anonymous': 'AB2', 'material_id': 'mvc-11600'}\n",
      "{'_id': ObjectId('5c4ddc4448c81a99e54c9ee9'), 'elements': ['O', 'Ti'], 'nelements': 2, 'pretty_formula': 'Ti8O15', 'formula_anonymous': 'A8B15', 'material_id': 'mp-565700'}\n",
      "{'_id': ObjectId('5c4ddc4448c81a99e54c9eea'), 'elements': ['O', 'Ti'], 'nelements': 2, 'pretty_formula': 'TiO2', 'formula_anonymous': 'AB2', 'material_id': 'mvc-5171'}\n",
      "{'_id': ObjectId('5c4ddc4448c81a99e54c9eeb'), 'elements': ['O', 'Ti'], 'nelements': 2, 'pretty_formula': 'Ti3O5', 'formula_anonymous': 'A3B5', 'material_id': 'mp-556480'}\n",
      "{'_id': ObjectId('5c4ddc4448c81a99e54c9eec'), 'elements': ['O', 'Ti'], 'nelements': 2, 'pretty_formula': 'Ti7O13', 'formula_anonymous': 'A7B13', 'material_id': 'mp-556724'}\n",
      "{'_id': ObjectId('5c4ddc4448c81a99e54c9eed'), 'elements': ['O', 'Ti'], 'nelements': 2, 'pretty_formula': 'Ti3O5', 'formula_anonymous': 'A3B5', 'material_id': 'mp-556754'}\n",
      "{'_id': ObjectId('5c4ddc4448c81a99e54c9eee'), 'elements': ['O', 'Ti'], 'nelements': 2, 'pretty_formula': 'TiO', 'formula_anonymous': 'AB', 'material_id': 'mp-754333'}\n",
      "{'_id': ObjectId('5c4ddc4448c81a99e54c9eef'), 'elements': ['O', 'Ti'], 'nelements': 2, 'pretty_formula': 'TiO2', 'formula_anonymous': 'AB2', 'material_id': 'mp-777129'}\n",
      "{'_id': ObjectId('5c4ddc4448c81a99e54c9ef0'), 'elements': ['O', 'Ti'], 'nelements': 2, 'pretty_formula': 'Ti13O22', 'formula_anonymous': 'A13B22', 'material_id': 'mp-656852'}\n",
      "{'_id': ObjectId('5c4ddc4448c81a99e54c9ef1'), 'elements': ['O', 'Ti'], 'nelements': 2, 'pretty_formula': 'Ti2O7', 'formula_anonymous': 'A2B7', 'material_id': 'mp-656850'}\n",
      "{'_id': ObjectId('5c4ddc4448c81a99e54c9ef2'), 'elements': ['O', 'Ti'], 'nelements': 2, 'pretty_formula': 'Ti4O7', 'formula_anonymous': 'A4B7', 'material_id': 'mp-12205'}\n",
      "{'_id': ObjectId('5c4ddc4448c81a99e54c9ef3'), 'elements': ['O', 'Ti'], 'nelements': 2, 'pretty_formula': 'TiO', 'formula_anonymous': 'AB', 'material_id': 'mp-2664'}\n",
      "{'_id': ObjectId('5c4ddc4448c81a99e54c9ef4'), 'elements': ['O', 'Ti'], 'nelements': 2, 'pretty_formula': 'Ti9O13', 'formula_anonymous': 'A9B13', 'material_id': 'mvc-1923'}\n",
      "{'_id': ObjectId('5c4ddc4448c81a99e54c9ef5'), 'elements': ['O', 'Ti'], 'nelements': 2, 'pretty_formula': 'Ti2O3', 'formula_anonymous': 'A2B3', 'material_id': 'mvc-379'}\n",
      "{'_id': ObjectId('5c4ddc4448c81a99e54c9ef6'), 'elements': ['O', 'Ti'], 'nelements': 2, 'pretty_formula': 'TiO2', 'formula_anonymous': 'AB2', 'material_id': 'mp-25433'}\n",
      "{'_id': ObjectId('5c4ddc4448c81a99e54c9ef7'), 'elements': ['O', 'Ti'], 'nelements': 2, 'pretty_formula': 'TiO', 'formula_anonymous': 'AB', 'material_id': 'mp-1071163'}\n",
      "{'_id': ObjectId('5c4ddc4448c81a99e54c9ef8'), 'elements': ['O', 'Ti'], 'nelements': 2, 'pretty_formula': 'TiO2', 'formula_anonymous': 'AB2', 'material_id': 'mp-1097860'}\n",
      "{'_id': ObjectId('5c4ddc4448c81a99e54c9ef9'), 'elements': ['O', 'Ti'], 'nelements': 2, 'pretty_formula': 'TiO2', 'formula_anonymous': 'AB2', 'material_id': 'mp-1840'}\n",
      "{'_id': ObjectId('5c4ddc4448c81a99e54c9efa'), 'elements': ['O', 'Ti'], 'nelements': 2, 'pretty_formula': 'TiO', 'formula_anonymous': 'AB', 'material_id': 'mp-1203'}\n",
      "{'_id': ObjectId('5c4ddc4448c81a99e54c9efb'), 'elements': ['O', 'Ti'], 'nelements': 2, 'pretty_formula': 'Ti2O', 'formula_anonymous': 'AB2', 'material_id': 'mp-1215'}\n",
      "{'_id': ObjectId('5c4ddc4448c81a99e54c9efc'), 'elements': ['O', 'Ti'], 'nelements': 2, 'pretty_formula': 'Ti4O5', 'formula_anonymous': 'A4B5', 'material_id': 'mp-10734'}\n",
      "{'_id': ObjectId('5c4ddc4448c81a99e54c9efd'), 'elements': ['O', 'Ti'], 'nelements': 2, 'pretty_formula': 'Ti3O', 'formula_anonymous': 'AB3', 'material_id': 'mp-2591'}\n",
      "{'_id': ObjectId('5c4ddc4448c81a99e54c9efe'), 'elements': ['O', 'Ti'], 'nelements': 2, 'pretty_formula': 'Ti3O5', 'formula_anonymous': 'A3B5', 'material_id': 'mp-1147'}\n",
      "{'_id': ObjectId('5c4ddc4448c81a99e54c9eff'), 'elements': ['O', 'Ti'], 'nelements': 2, 'pretty_formula': 'TiO2', 'formula_anonymous': 'AB2', 'material_id': 'mp-430'}\n",
      "{'_id': ObjectId('5c4ddc4448c81a99e54c9f00'), 'elements': ['O', 'Ti'], 'nelements': 2, 'pretty_formula': 'Ti9O8', 'formula_anonymous': 'A8B9', 'material_id': 'mp-32544'}\n",
      "{'_id': ObjectId('5c4ddc4448c81a99e54c9f01'), 'elements': ['O', 'Ti'], 'nelements': 2, 'pretty_formula': 'TiO2', 'formula_anonymous': 'AB2', 'material_id': 'mp-390'}\n",
      "{'_id': ObjectId('5c4ddc4448c81a99e54c9f02'), 'elements': ['O', 'Ti'], 'nelements': 2, 'pretty_formula': 'TiO2', 'formula_anonymous': 'AB2', 'material_id': 'mp-1079207'}\n",
      "{'_id': ObjectId('5c4ddc4448c81a99e54c9f03'), 'elements': ['O', 'Ti'], 'nelements': 2, 'pretty_formula': 'TiO2', 'formula_anonymous': 'AB2', 'material_id': 'mp-25262'}\n",
      "{'_id': ObjectId('5c4ddc4448c81a99e54c9f04'), 'elements': ['O', 'Ti'], 'nelements': 2, 'pretty_formula': 'Ti2O3', 'formula_anonymous': 'A2B3', 'material_id': 'mp-458'}\n",
      "{'_id': ObjectId('5c4ddc4448c81a99e54c9f05'), 'elements': ['O', 'Ti'], 'nelements': 2, 'pretty_formula': 'TiO2', 'formula_anonymous': 'AB2', 'material_id': 'mp-34688'}\n",
      "{'_id': ObjectId('5c4ddc4448c81a99e54c9f06'), 'elements': ['O', 'Ti'], 'nelements': 2, 'pretty_formula': 'TiO2', 'formula_anonymous': 'AB2', 'material_id': 'mp-572822'}\n",
      "{'_id': ObjectId('5c4ddc4448c81a99e54c9f07'), 'elements': ['O', 'Ti'], 'nelements': 2, 'pretty_formula': 'TiO2', 'formula_anonymous': 'AB2', 'material_id': 'mp-1439'}\n",
      "{'_id': ObjectId('5c4ddc4448c81a99e54c9f08'), 'elements': ['O', 'Ti'], 'nelements': 2, 'pretty_formula': 'Ti5O7', 'formula_anonymous': 'A5B7', 'material_id': 'mvc-2169'}\n",
      "{'_id': ObjectId('5c4ddc4448c81a99e54c9f09'), 'elements': ['O', 'Ti'], 'nelements': 2, 'pretty_formula': 'TiO2', 'formula_anonymous': 'AB2', 'material_id': 'mp-756655'}\n",
      "{'_id': ObjectId('5c4ddc4448c81a99e54c9f0a'), 'elements': ['O', 'Ti'], 'nelements': 2, 'pretty_formula': 'TiO2', 'formula_anonymous': 'AB2', 'material_id': 'mvc-12466'}\n",
      "{'_id': ObjectId('5c4ddc4448c81a99e54c9f0b'), 'elements': ['O', 'Ti'], 'nelements': 2, 'pretty_formula': 'Ti9O10', 'formula_anonymous': 'A9B10', 'material_id': 'mp-32813'}\n",
      "{'_id': ObjectId('5c4ddc4448c81a99e54c9f0c'), 'elements': ['O', 'Ti'], 'nelements': 2, 'pretty_formula': 'TiO2', 'formula_anonymous': 'AB2', 'material_id': 'mvc-9726'}\n",
      "{'_id': ObjectId('5c4ddc4448c81a99e54c9f0d'), 'elements': ['O', 'Ti'], 'nelements': 2, 'pretty_formula': 'Ti5O8', 'formula_anonymous': 'A5B8', 'material_id': 'mp-759920'}\n",
      "{'_id': ObjectId('5c4ddc4448c81a99e54c9f0e'), 'elements': ['O', 'Ti'], 'nelements': 2, 'pretty_formula': 'TiO2', 'formula_anonymous': 'AB2', 'material_id': 'mp-655656'}\n",
      "{'_id': ObjectId('5c4ddc4448c81a99e54c9f0f'), 'elements': ['O', 'Ti'], 'nelements': 2, 'pretty_formula': 'TiO2', 'formula_anonymous': 'AB2', 'material_id': 'mp-2657'}\n",
      "{'_id': ObjectId('5c4ddc4448c81a99e54c9f10'), 'elements': ['O', 'Ti'], 'nelements': 2, 'pretty_formula': 'Ti3O7', 'formula_anonymous': 'A3B7', 'material_id': 'mp-1105338'}\n",
      "{'_id': ObjectId('5c4ddc4448c81a99e54c9f11'), 'elements': ['O', 'Ti'], 'nelements': 2, 'pretty_formula': 'Ti2O3', 'formula_anonymous': 'A2B3', 'material_id': 'mp-1101295'}\n",
      "{'_id': ObjectId('5c4ddc4448c81a99e54c9f12'), 'elements': ['O', 'Ti'], 'nelements': 2, 'pretty_formula': 'TiO2', 'formula_anonymous': 'AB2', 'material_id': 'mp-1102591'}\n",
      "{'_id': ObjectId('5c4ddc4448c81a99e54c9f13'), 'elements': ['O', 'Ti'], 'nelements': 2, 'pretty_formula': 'TiO2', 'formula_anonymous': 'AB2', 'material_id': 'mp-1101022'}\n",
      "{'_id': ObjectId('5c4ddc4448c81a99e54c9f14'), 'elements': ['O', 'Ti'], 'nelements': 2, 'pretty_formula': 'TiO2', 'formula_anonymous': 'AB2', 'material_id': 'mp-1102255'}\n",
      "{'_id': ObjectId('5c4ddc4448c81a99e54c9f15'), 'elements': ['O', 'Ti'], 'nelements': 2, 'pretty_formula': 'TiO2', 'formula_anonymous': 'AB2', 'material_id': 'mp-1008677'}\n",
      "{'_id': ObjectId('5c4ddc4448c81a99e54c9f16'), 'elements': ['O', 'Ti'], 'nelements': 2, 'pretty_formula': 'Ti11O14', 'formula_anonymous': 'A11B14', 'material_id': 'mp-1101463'}\n",
      "{'_id': ObjectId('5c51034ec93a5616d3c085b1'), 'elements': ['O', 'Ti'], 'nelements': 2, 'pretty_formula': 'TiO2', 'formula_anonymous': 'AB2', 'material_id': 'mp-775938'}\n",
      "{'_id': ObjectId('5c51034ec93a5616d3c085b2'), 'elements': ['O', 'Ti'], 'nelements': 2, 'pretty_formula': 'TiO2', 'formula_anonymous': 'AB2', 'material_id': 'mp-766454'}\n",
      "{'_id': ObjectId('5c51034ec93a5616d3c085b3'), 'elements': ['O', 'Ti'], 'nelements': 2, 'pretty_formula': 'TiO2', 'formula_anonymous': 'AB2', 'material_id': 'mp-9173'}\n",
      "{'_id': ObjectId('5c51034ec93a5616d3c085b4'), 'elements': ['O', 'Ti'], 'nelements': 2, 'pretty_formula': 'Ti6O', 'formula_anonymous': 'AB6', 'material_id': 'mp-882'}\n",
      "{'_id': ObjectId('5c51034ec93a5616d3c085b5'), 'elements': ['O', 'Ti'], 'nelements': 2, 'pretty_formula': 'TiO2', 'formula_anonymous': 'AB2', 'material_id': 'mvc-13391'}\n",
      "{'_id': ObjectId('5c51034ec93a5616d3c085b6'), 'elements': ['O', 'Ti'], 'nelements': 2, 'pretty_formula': 'TiO2', 'formula_anonymous': 'AB2', 'material_id': 'mvc-12404'}\n",
      "{'_id': ObjectId('5c51034ec93a5616d3c085b7'), 'elements': ['O', 'Ti'], 'nelements': 2, 'pretty_formula': 'TiO2', 'formula_anonymous': 'AB2', 'material_id': 'mp-636827'}\n",
      "{'_id': ObjectId('5c51034ec93a5616d3c085b8'), 'elements': ['O', 'Ti'], 'nelements': 2, 'pretty_formula': 'Ti3O2', 'formula_anonymous': 'A2B3', 'material_id': 'mp-978968'}\n",
      "{'_id': ObjectId('5c51034ec93a5616d3c085b9'), 'elements': ['O', 'Ti'], 'nelements': 2, 'pretty_formula': 'Ti10O11', 'formula_anonymous': 'A10B11', 'material_id': 'mp-684733'}\n",
      "{'_id': ObjectId('5c51034ec93a5616d3c085ba'), 'elements': ['O', 'Ti'], 'nelements': 2, 'pretty_formula': 'TiO2', 'formula_anonymous': 'AB2', 'material_id': 'mvc-4715'}\n",
      "{'_id': ObjectId('5c51034ec93a5616d3c085bb'), 'elements': ['O', 'Ti'], 'nelements': 2, 'pretty_formula': 'Ti10O13', 'formula_anonymous': 'A10B13', 'material_id': 'mp-753593'}\n",
      "{'_id': ObjectId('5c51034ec93a5616d3c085bc'), 'elements': ['O', 'Ti'], 'nelements': 2, 'pretty_formula': 'Ti3O5', 'formula_anonymous': 'A3B5', 'material_id': 'mp-8057'}\n",
      "{'_id': ObjectId('5c51034ec93a5616d3c085bd'), 'elements': ['O', 'Ti'], 'nelements': 2, 'pretty_formula': 'Ti7O8', 'formula_anonymous': 'A7B8', 'material_id': 'mp-779692'}\n",
      "{'_id': ObjectId('5c51034ec93a5616d3c085be'), 'elements': ['O', 'Ti'], 'nelements': 2, 'pretty_formula': 'Ti11O18', 'formula_anonymous': 'A11B18', 'material_id': 'mp-760747'}\n",
      "{'_id': ObjectId('5c51034ec93a5616d3c085bf'), 'elements': ['O', 'Ti'], 'nelements': 2, 'pretty_formula': 'Ti4O7', 'formula_anonymous': 'A4B7', 'material_id': 'mp-778663'}\n",
      "{'_id': ObjectId('5c51034ec93a5616d3c085c0'), 'elements': ['O', 'Ti'], 'nelements': 2, 'pretty_formula': 'Ti11O14', 'formula_anonymous': 'A11B14', 'material_id': 'mp-759754'}\n",
      "{'_id': ObjectId('5c51034ec93a5616d3c085c1'), 'elements': ['O', 'Ti'], 'nelements': 2, 'pretty_formula': 'TiO', 'formula_anonymous': 'AB', 'material_id': 'mp-673667'}\n",
      "{'_id': ObjectId('5c51034ec93a5616d3c085c2'), 'elements': ['O', 'Ti'], 'nelements': 2, 'pretty_formula': 'TiO', 'formula_anonymous': 'AB', 'material_id': 'mp-685151'}\n",
      "{'_id': ObjectId('5c51034ec93a5616d3c085c3'), 'elements': ['O', 'Ti'], 'nelements': 2, 'pretty_formula': 'Ti8O13', 'formula_anonymous': 'A8B13', 'material_id': 'mp-752989'}\n",
      "{'_id': ObjectId('5c51034ec93a5616d3c085c4'), 'elements': ['O', 'Ti'], 'nelements': 2, 'pretty_formula': 'TiO2', 'formula_anonymous': 'AB2', 'material_id': 'mvc-11423'}\n",
      "{'_id': ObjectId('5c51034ec93a5616d3c085c5'), 'elements': ['O', 'Ti'], 'nelements': 2, 'pretty_formula': 'Ti9O17', 'formula_anonymous': 'A9B17', 'material_id': 'mp-27273'}\n",
      "{'_id': ObjectId('5c51034ec93a5616d3c085c6'), 'elements': ['O', 'Ti'], 'nelements': 2, 'pretty_formula': 'Ti6O11', 'formula_anonymous': 'A6B11', 'material_id': 'mp-30524'}\n",
      "{'_id': ObjectId('5c51034ec93a5616d3c085c7'), 'elements': ['O', 'Ti'], 'nelements': 2, 'pretty_formula': 'TiO2', 'formula_anonymous': 'AB2', 'material_id': 'mp-756587'}\n",
      "{'_id': ObjectId('5c51034ec93a5616d3c085c8'), 'elements': ['O', 'Ti'], 'nelements': 2, 'pretty_formula': 'TiO2', 'formula_anonymous': 'AB2', 'material_id': 'mp-754769'}\n",
      "{'_id': ObjectId('5c51034ec93a5616d3c085c9'), 'elements': ['O', 'Ti'], 'nelements': 2, 'pretty_formula': 'TiO2', 'formula_anonymous': 'AB2', 'material_id': 'mp-754672'}\n",
      "{'_id': ObjectId('5c51034ec93a5616d3c085ca'), 'elements': ['O', 'Ti'], 'nelements': 2, 'pretty_formula': 'TiO2', 'formula_anonymous': 'AB2', 'material_id': 'mvc-11115'}\n",
      "{'_id': ObjectId('5c51034ec93a5616d3c085cb'), 'elements': ['O', 'Ti'], 'nelements': 2, 'pretty_formula': 'Ti3O4', 'formula_anonymous': 'A3B4', 'material_id': 'mp-755875'}\n",
      "{'_id': ObjectId('5c51034ec93a5616d3c085cc'), 'elements': ['O', 'Ti'], 'nelements': 2, 'pretty_formula': 'Ti2O3', 'formula_anonymous': 'A2B3', 'material_id': 'mp-776655'}\n",
      "{'_id': ObjectId('5c51034ec93a5616d3c085cd'), 'elements': ['O', 'Ti'], 'nelements': 2, 'pretty_formula': 'Ti19O30', 'formula_anonymous': 'A19B30', 'material_id': 'mp-760075'}\n",
      "{'_id': ObjectId('5c51034ec93a5616d3c085ce'), 'elements': ['O', 'Ti'], 'nelements': 2, 'pretty_formula': 'TiO2', 'formula_anonymous': 'AB2', 'material_id': 'mp-553432'}\n",
      "{'_id': ObjectId('5c51034ec93a5616d3c085cf'), 'elements': ['O', 'Ti'], 'nelements': 2, 'pretty_formula': 'Ti3O', 'formula_anonymous': 'AB3', 'material_id': 'mp-554032'}\n",
      "{'_id': ObjectId('5c51034ec93a5616d3c085d0'), 'elements': ['O', 'Ti'], 'nelements': 2, 'pretty_formula': 'Ti6O', 'formula_anonymous': 'AB6', 'material_id': 'mp-554098'}\n",
      "{'_id': ObjectId('5c51034ec93a5616d3c085d1'), 'elements': ['O', 'Ti'], 'nelements': 2, 'pretty_formula': 'TiO2', 'formula_anonymous': 'AB2', 'material_id': 'mp-554278'}\n",
      "{'_id': ObjectId('5c51034ec93a5616d3c085d2'), 'elements': ['O', 'Ti'], 'nelements': 2, 'pretty_formula': 'Ti3O', 'formula_anonymous': 'AB3', 'material_id': 'mp-557812'}\n",
      "{'_id': ObjectId('5c51034ec93a5616d3c085d3'), 'elements': ['O', 'Ti'], 'nelements': 2, 'pretty_formula': 'Ti2O3', 'formula_anonymous': 'A2B3', 'material_id': 'mp-776456'}\n",
      "{'_id': ObjectId('5c51034ec93a5616d3c085d4'), 'elements': ['O', 'Ti'], 'nelements': 2, 'pretty_formula': 'TiO', 'formula_anonymous': 'AB', 'material_id': 'mp-755300'}\n",
      "{'_id': ObjectId('5c51034ec93a5616d3c085d5'), 'elements': ['O', 'Ti'], 'nelements': 2, 'pretty_formula': 'TiO', 'formula_anonymous': 'AB', 'material_id': 'mp-755264'}\n",
      "{'_id': ObjectId('5c51034ec93a5616d3c085d6'), 'elements': ['O', 'Ti'], 'nelements': 2, 'pretty_formula': 'TiO2', 'formula_anonymous': 'AB2', 'material_id': 'mp-849533'}\n",
      "{'_id': ObjectId('5c51034ec93a5616d3c085d7'), 'elements': ['O', 'Ti'], 'nelements': 2, 'pretty_formula': 'Ti6O11', 'formula_anonymous': 'A6B11', 'material_id': 'mp-559964'}\n",
      "{'_id': ObjectId('5c51034ec93a5616d3c085d8'), 'elements': ['O', 'Ti'], 'nelements': 2, 'pretty_formula': 'Ti5O9', 'formula_anonymous': 'A5B9', 'material_id': 'mp-748'}\n",
      "{'_id': ObjectId('5c51034ec93a5616d3c085d9'), 'elements': ['O', 'Ti'], 'nelements': 2, 'pretty_formula': 'TiO2', 'formula_anonymous': 'AB2', 'material_id': 'mvc-11600'}\n",
      "{'_id': ObjectId('5c51034ec93a5616d3c085da'), 'elements': ['O', 'Ti'], 'nelements': 2, 'pretty_formula': 'Ti8O15', 'formula_anonymous': 'A8B15', 'material_id': 'mp-565700'}\n",
      "{'_id': ObjectId('5c51034ec93a5616d3c085db'), 'elements': ['O', 'Ti'], 'nelements': 2, 'pretty_formula': 'TiO2', 'formula_anonymous': 'AB2', 'material_id': 'mvc-5171'}\n",
      "{'_id': ObjectId('5c51034ec93a5616d3c085dc'), 'elements': ['O', 'Ti'], 'nelements': 2, 'pretty_formula': 'Ti3O5', 'formula_anonymous': 'A3B5', 'material_id': 'mp-556480'}\n",
      "{'_id': ObjectId('5c51034ec93a5616d3c085dd'), 'elements': ['O', 'Ti'], 'nelements': 2, 'pretty_formula': 'Ti7O13', 'formula_anonymous': 'A7B13', 'material_id': 'mp-556724'}\n",
      "{'_id': ObjectId('5c51034ec93a5616d3c085de'), 'elements': ['O', 'Ti'], 'nelements': 2, 'pretty_formula': 'Ti3O5', 'formula_anonymous': 'A3B5', 'material_id': 'mp-556754'}\n",
      "{'_id': ObjectId('5c51034ec93a5616d3c085df'), 'elements': ['O', 'Ti'], 'nelements': 2, 'pretty_formula': 'TiO', 'formula_anonymous': 'AB', 'material_id': 'mp-754333'}\n",
      "{'_id': ObjectId('5c51034ec93a5616d3c085e0'), 'elements': ['O', 'Ti'], 'nelements': 2, 'pretty_formula': 'TiO2', 'formula_anonymous': 'AB2', 'material_id': 'mp-777129'}\n",
      "{'_id': ObjectId('5c51034ec93a5616d3c085e1'), 'elements': ['O', 'Ti'], 'nelements': 2, 'pretty_formula': 'Ti13O22', 'formula_anonymous': 'A13B22', 'material_id': 'mp-656852'}\n",
      "{'_id': ObjectId('5c51034ec93a5616d3c085e2'), 'elements': ['O', 'Ti'], 'nelements': 2, 'pretty_formula': 'Ti2O7', 'formula_anonymous': 'A2B7', 'material_id': 'mp-656850'}\n",
      "{'_id': ObjectId('5c51034ec93a5616d3c085e3'), 'elements': ['O', 'Ti'], 'nelements': 2, 'pretty_formula': 'Ti4O7', 'formula_anonymous': 'A4B7', 'material_id': 'mp-12205'}\n",
      "{'_id': ObjectId('5c51034ec93a5616d3c085e4'), 'elements': ['O', 'Ti'], 'nelements': 2, 'pretty_formula': 'TiO', 'formula_anonymous': 'AB', 'material_id': 'mp-2664'}\n",
      "{'_id': ObjectId('5c51034ec93a5616d3c085e5'), 'elements': ['O', 'Ti'], 'nelements': 2, 'pretty_formula': 'Ti9O13', 'formula_anonymous': 'A9B13', 'material_id': 'mvc-1923'}\n",
      "{'_id': ObjectId('5c51034ec93a5616d3c085e6'), 'elements': ['O', 'Ti'], 'nelements': 2, 'pretty_formula': 'Ti2O3', 'formula_anonymous': 'A2B3', 'material_id': 'mvc-379'}\n",
      "{'_id': ObjectId('5c51034ec93a5616d3c085e7'), 'elements': ['O', 'Ti'], 'nelements': 2, 'pretty_formula': 'TiO2', 'formula_anonymous': 'AB2', 'material_id': 'mp-25433'}\n",
      "{'_id': ObjectId('5c51034ec93a5616d3c085e8'), 'elements': ['O', 'Ti'], 'nelements': 2, 'pretty_formula': 'TiO', 'formula_anonymous': 'AB', 'material_id': 'mp-1071163'}\n",
      "{'_id': ObjectId('5c51034ec93a5616d3c085e9'), 'elements': ['O', 'Ti'], 'nelements': 2, 'pretty_formula': 'TiO2', 'formula_anonymous': 'AB2', 'material_id': 'mp-1097860'}\n",
      "{'_id': ObjectId('5c51034ec93a5616d3c085ea'), 'elements': ['O', 'Ti'], 'nelements': 2, 'pretty_formula': 'TiO2', 'formula_anonymous': 'AB2', 'material_id': 'mp-1840'}\n",
      "{'_id': ObjectId('5c51034ec93a5616d3c085eb'), 'elements': ['O', 'Ti'], 'nelements': 2, 'pretty_formula': 'TiO', 'formula_anonymous': 'AB', 'material_id': 'mp-1203'}\n",
      "{'_id': ObjectId('5c51034ec93a5616d3c085ec'), 'elements': ['O', 'Ti'], 'nelements': 2, 'pretty_formula': 'Ti2O', 'formula_anonymous': 'AB2', 'material_id': 'mp-1215'}\n",
      "{'_id': ObjectId('5c51034ec93a5616d3c085ed'), 'elements': ['O', 'Ti'], 'nelements': 2, 'pretty_formula': 'Ti4O5', 'formula_anonymous': 'A4B5', 'material_id': 'mp-10734'}\n",
      "{'_id': ObjectId('5c51034ec93a5616d3c085ee'), 'elements': ['O', 'Ti'], 'nelements': 2, 'pretty_formula': 'Ti3O', 'formula_anonymous': 'AB3', 'material_id': 'mp-2591'}\n",
      "{'_id': ObjectId('5c51034ec93a5616d3c085ef'), 'elements': ['O', 'Ti'], 'nelements': 2, 'pretty_formula': 'Ti3O5', 'formula_anonymous': 'A3B5', 'material_id': 'mp-1147'}\n",
      "{'_id': ObjectId('5c51034ec93a5616d3c085f0'), 'elements': ['O', 'Ti'], 'nelements': 2, 'pretty_formula': 'TiO2', 'formula_anonymous': 'AB2', 'material_id': 'mp-430'}\n",
      "{'_id': ObjectId('5c51034ec93a5616d3c085f1'), 'elements': ['O', 'Ti'], 'nelements': 2, 'pretty_formula': 'Ti9O8', 'formula_anonymous': 'A8B9', 'material_id': 'mp-32544'}\n",
      "{'_id': ObjectId('5c51034ec93a5616d3c085f2'), 'elements': ['O', 'Ti'], 'nelements': 2, 'pretty_formula': 'TiO2', 'formula_anonymous': 'AB2', 'material_id': 'mp-390'}\n",
      "{'_id': ObjectId('5c51034ec93a5616d3c085f3'), 'elements': ['O', 'Ti'], 'nelements': 2, 'pretty_formula': 'TiO2', 'formula_anonymous': 'AB2', 'material_id': 'mp-1079207'}\n",
      "{'_id': ObjectId('5c51034ec93a5616d3c085f4'), 'elements': ['O', 'Ti'], 'nelements': 2, 'pretty_formula': 'TiO2', 'formula_anonymous': 'AB2', 'material_id': 'mp-25262'}\n",
      "{'_id': ObjectId('5c51034ec93a5616d3c085f5'), 'elements': ['O', 'Ti'], 'nelements': 2, 'pretty_formula': 'Ti2O3', 'formula_anonymous': 'A2B3', 'material_id': 'mp-458'}\n",
      "{'_id': ObjectId('5c51034ec93a5616d3c085f6'), 'elements': ['O', 'Ti'], 'nelements': 2, 'pretty_formula': 'TiO2', 'formula_anonymous': 'AB2', 'material_id': 'mp-34688'}\n",
      "{'_id': ObjectId('5c51034ec93a5616d3c085f7'), 'elements': ['O', 'Ti'], 'nelements': 2, 'pretty_formula': 'TiO2', 'formula_anonymous': 'AB2', 'material_id': 'mp-572822'}\n",
      "{'_id': ObjectId('5c51034ec93a5616d3c085f8'), 'elements': ['O', 'Ti'], 'nelements': 2, 'pretty_formula': 'TiO2', 'formula_anonymous': 'AB2', 'material_id': 'mp-1439'}\n",
      "{'_id': ObjectId('5c51034ec93a5616d3c085f9'), 'elements': ['O', 'Ti'], 'nelements': 2, 'pretty_formula': 'Ti5O7', 'formula_anonymous': 'A5B7', 'material_id': 'mvc-2169'}\n",
      "{'_id': ObjectId('5c51034ec93a5616d3c085fa'), 'elements': ['O', 'Ti'], 'nelements': 2, 'pretty_formula': 'TiO2', 'formula_anonymous': 'AB2', 'material_id': 'mp-756655'}\n",
      "{'_id': ObjectId('5c51034ec93a5616d3c085fb'), 'elements': ['O', 'Ti'], 'nelements': 2, 'pretty_formula': 'TiO2', 'formula_anonymous': 'AB2', 'material_id': 'mvc-12466'}\n",
      "{'_id': ObjectId('5c51034ec93a5616d3c085fc'), 'elements': ['O', 'Ti'], 'nelements': 2, 'pretty_formula': 'Ti9O10', 'formula_anonymous': 'A9B10', 'material_id': 'mp-32813'}\n",
      "{'_id': ObjectId('5c51034ec93a5616d3c085fd'), 'elements': ['O', 'Ti'], 'nelements': 2, 'pretty_formula': 'TiO2', 'formula_anonymous': 'AB2', 'material_id': 'mvc-9726'}\n",
      "{'_id': ObjectId('5c51034ec93a5616d3c085fe'), 'elements': ['O', 'Ti'], 'nelements': 2, 'pretty_formula': 'Ti5O8', 'formula_anonymous': 'A5B8', 'material_id': 'mp-759920'}\n",
      "{'_id': ObjectId('5c51034ec93a5616d3c085ff'), 'elements': ['O', 'Ti'], 'nelements': 2, 'pretty_formula': 'TiO2', 'formula_anonymous': 'AB2', 'material_id': 'mp-655656'}\n",
      "{'_id': ObjectId('5c51034ec93a5616d3c08600'), 'elements': ['O', 'Ti'], 'nelements': 2, 'pretty_formula': 'TiO2', 'formula_anonymous': 'AB2', 'material_id': 'mp-2657'}\n",
      "{'_id': ObjectId('5c51034ec93a5616d3c08601'), 'elements': ['O', 'Ti'], 'nelements': 2, 'pretty_formula': 'Ti3O7', 'formula_anonymous': 'A3B7', 'material_id': 'mp-1105338'}\n",
      "{'_id': ObjectId('5c51034ec93a5616d3c08602'), 'elements': ['O', 'Ti'], 'nelements': 2, 'pretty_formula': 'Ti2O3', 'formula_anonymous': 'A2B3', 'material_id': 'mp-1101295'}\n",
      "{'_id': ObjectId('5c51034ec93a5616d3c08603'), 'elements': ['O', 'Ti'], 'nelements': 2, 'pretty_formula': 'TiO2', 'formula_anonymous': 'AB2', 'material_id': 'mp-1102591'}\n",
      "{'_id': ObjectId('5c51034ec93a5616d3c08604'), 'elements': ['O', 'Ti'], 'nelements': 2, 'pretty_formula': 'TiO2', 'formula_anonymous': 'AB2', 'material_id': 'mp-1101022'}\n",
      "{'_id': ObjectId('5c51034ec93a5616d3c08605'), 'elements': ['O', 'Ti'], 'nelements': 2, 'pretty_formula': 'TiO2', 'formula_anonymous': 'AB2', 'material_id': 'mp-1102255'}\n",
      "{'_id': ObjectId('5c51034ec93a5616d3c08606'), 'elements': ['O', 'Ti'], 'nelements': 2, 'pretty_formula': 'TiO2', 'formula_anonymous': 'AB2', 'material_id': 'mp-1008677'}\n",
      "{'_id': ObjectId('5c51034ec93a5616d3c08607'), 'elements': ['O', 'Ti'], 'nelements': 2, 'pretty_formula': 'Ti11O14', 'formula_anonymous': 'A11B14', 'material_id': 'mp-1101463'}\n",
      "{'_id': ObjectId('5c51048bc93a5616d3c08609'), 'elements': ['O', 'Ti'], 'nelements': 2, 'pretty_formula': 'TiO2', 'formula_anonymous': 'AB2', 'material_id': 'mp-775938'}\n",
      "{'_id': ObjectId('5c51048bc93a5616d3c0860a'), 'elements': ['O', 'Ti'], 'nelements': 2, 'pretty_formula': 'TiO2', 'formula_anonymous': 'AB2', 'material_id': 'mp-766454'}\n",
      "{'_id': ObjectId('5c51048bc93a5616d3c0860b'), 'elements': ['O', 'Ti'], 'nelements': 2, 'pretty_formula': 'TiO2', 'formula_anonymous': 'AB2', 'material_id': 'mp-9173'}\n",
      "{'_id': ObjectId('5c51048bc93a5616d3c0860c'), 'elements': ['O', 'Ti'], 'nelements': 2, 'pretty_formula': 'Ti6O', 'formula_anonymous': 'AB6', 'material_id': 'mp-882'}\n",
      "{'_id': ObjectId('5c51048bc93a5616d3c0860d'), 'elements': ['O', 'Ti'], 'nelements': 2, 'pretty_formula': 'TiO2', 'formula_anonymous': 'AB2', 'material_id': 'mvc-13391'}\n",
      "{'_id': ObjectId('5c51048bc93a5616d3c0860e'), 'elements': ['O', 'Ti'], 'nelements': 2, 'pretty_formula': 'TiO2', 'formula_anonymous': 'AB2', 'material_id': 'mvc-12404'}\n",
      "{'_id': ObjectId('5c51048bc93a5616d3c0860f'), 'elements': ['O', 'Ti'], 'nelements': 2, 'pretty_formula': 'TiO2', 'formula_anonymous': 'AB2', 'material_id': 'mp-636827'}\n",
      "{'_id': ObjectId('5c51048bc93a5616d3c08610'), 'elements': ['O', 'Ti'], 'nelements': 2, 'pretty_formula': 'Ti3O2', 'formula_anonymous': 'A2B3', 'material_id': 'mp-978968'}\n",
      "{'_id': ObjectId('5c51048bc93a5616d3c08611'), 'elements': ['O', 'Ti'], 'nelements': 2, 'pretty_formula': 'Ti10O11', 'formula_anonymous': 'A10B11', 'material_id': 'mp-684733'}\n",
      "{'_id': ObjectId('5c51048bc93a5616d3c08612'), 'elements': ['O', 'Ti'], 'nelements': 2, 'pretty_formula': 'TiO2', 'formula_anonymous': 'AB2', 'material_id': 'mvc-4715'}\n",
      "{'_id': ObjectId('5c51048bc93a5616d3c08613'), 'elements': ['O', 'Ti'], 'nelements': 2, 'pretty_formula': 'Ti10O13', 'formula_anonymous': 'A10B13', 'material_id': 'mp-753593'}\n",
      "{'_id': ObjectId('5c51048bc93a5616d3c08614'), 'elements': ['O', 'Ti'], 'nelements': 2, 'pretty_formula': 'Ti3O5', 'formula_anonymous': 'A3B5', 'material_id': 'mp-8057'}\n",
      "{'_id': ObjectId('5c51048bc93a5616d3c08615'), 'elements': ['O', 'Ti'], 'nelements': 2, 'pretty_formula': 'Ti7O8', 'formula_anonymous': 'A7B8', 'material_id': 'mp-779692'}\n",
      "{'_id': ObjectId('5c51048bc93a5616d3c08616'), 'elements': ['O', 'Ti'], 'nelements': 2, 'pretty_formula': 'Ti11O18', 'formula_anonymous': 'A11B18', 'material_id': 'mp-760747'}\n",
      "{'_id': ObjectId('5c51048bc93a5616d3c08617'), 'elements': ['O', 'Ti'], 'nelements': 2, 'pretty_formula': 'Ti4O7', 'formula_anonymous': 'A4B7', 'material_id': 'mp-778663'}\n",
      "{'_id': ObjectId('5c51048bc93a5616d3c08618'), 'elements': ['O', 'Ti'], 'nelements': 2, 'pretty_formula': 'Ti11O14', 'formula_anonymous': 'A11B14', 'material_id': 'mp-759754'}\n",
      "{'_id': ObjectId('5c51048bc93a5616d3c08619'), 'elements': ['O', 'Ti'], 'nelements': 2, 'pretty_formula': 'TiO', 'formula_anonymous': 'AB', 'material_id': 'mp-673667'}\n",
      "{'_id': ObjectId('5c51048bc93a5616d3c0861a'), 'elements': ['O', 'Ti'], 'nelements': 2, 'pretty_formula': 'TiO', 'formula_anonymous': 'AB', 'material_id': 'mp-685151'}\n",
      "{'_id': ObjectId('5c51048bc93a5616d3c0861b'), 'elements': ['O', 'Ti'], 'nelements': 2, 'pretty_formula': 'Ti8O13', 'formula_anonymous': 'A8B13', 'material_id': 'mp-752989'}\n",
      "{'_id': ObjectId('5c51048bc93a5616d3c0861c'), 'elements': ['O', 'Ti'], 'nelements': 2, 'pretty_formula': 'TiO2', 'formula_anonymous': 'AB2', 'material_id': 'mvc-11423'}\n",
      "{'_id': ObjectId('5c51048bc93a5616d3c0861d'), 'elements': ['O', 'Ti'], 'nelements': 2, 'pretty_formula': 'Ti9O17', 'formula_anonymous': 'A9B17', 'material_id': 'mp-27273'}\n",
      "{'_id': ObjectId('5c51048bc93a5616d3c0861e'), 'elements': ['O', 'Ti'], 'nelements': 2, 'pretty_formula': 'Ti6O11', 'formula_anonymous': 'A6B11', 'material_id': 'mp-30524'}\n",
      "{'_id': ObjectId('5c51048bc93a5616d3c0861f'), 'elements': ['O', 'Ti'], 'nelements': 2, 'pretty_formula': 'TiO2', 'formula_anonymous': 'AB2', 'material_id': 'mp-756587'}\n",
      "{'_id': ObjectId('5c51048bc93a5616d3c08620'), 'elements': ['O', 'Ti'], 'nelements': 2, 'pretty_formula': 'TiO2', 'formula_anonymous': 'AB2', 'material_id': 'mp-754769'}\n",
      "{'_id': ObjectId('5c51048bc93a5616d3c08621'), 'elements': ['O', 'Ti'], 'nelements': 2, 'pretty_formula': 'TiO2', 'formula_anonymous': 'AB2', 'material_id': 'mp-754672'}\n",
      "{'_id': ObjectId('5c51048bc93a5616d3c08622'), 'elements': ['O', 'Ti'], 'nelements': 2, 'pretty_formula': 'TiO2', 'formula_anonymous': 'AB2', 'material_id': 'mvc-11115'}\n",
      "{'_id': ObjectId('5c51048bc93a5616d3c08623'), 'elements': ['O', 'Ti'], 'nelements': 2, 'pretty_formula': 'Ti3O4', 'formula_anonymous': 'A3B4', 'material_id': 'mp-755875'}\n",
      "{'_id': ObjectId('5c51048bc93a5616d3c08624'), 'elements': ['O', 'Ti'], 'nelements': 2, 'pretty_formula': 'Ti2O3', 'formula_anonymous': 'A2B3', 'material_id': 'mp-776655'}\n",
      "{'_id': ObjectId('5c51048bc93a5616d3c08625'), 'elements': ['O', 'Ti'], 'nelements': 2, 'pretty_formula': 'Ti19O30', 'formula_anonymous': 'A19B30', 'material_id': 'mp-760075'}\n",
      "{'_id': ObjectId('5c51048bc93a5616d3c08626'), 'elements': ['O', 'Ti'], 'nelements': 2, 'pretty_formula': 'TiO2', 'formula_anonymous': 'AB2', 'material_id': 'mp-553432'}\n",
      "{'_id': ObjectId('5c51048bc93a5616d3c08627'), 'elements': ['O', 'Ti'], 'nelements': 2, 'pretty_formula': 'Ti3O', 'formula_anonymous': 'AB3', 'material_id': 'mp-554032'}\n",
      "{'_id': ObjectId('5c51048bc93a5616d3c08628'), 'elements': ['O', 'Ti'], 'nelements': 2, 'pretty_formula': 'Ti6O', 'formula_anonymous': 'AB6', 'material_id': 'mp-554098'}\n",
      "{'_id': ObjectId('5c51048bc93a5616d3c08629'), 'elements': ['O', 'Ti'], 'nelements': 2, 'pretty_formula': 'TiO2', 'formula_anonymous': 'AB2', 'material_id': 'mp-554278'}\n",
      "{'_id': ObjectId('5c51048bc93a5616d3c0862a'), 'elements': ['O', 'Ti'], 'nelements': 2, 'pretty_formula': 'Ti3O', 'formula_anonymous': 'AB3', 'material_id': 'mp-557812'}\n",
      "{'_id': ObjectId('5c51048bc93a5616d3c0862b'), 'elements': ['O', 'Ti'], 'nelements': 2, 'pretty_formula': 'Ti2O3', 'formula_anonymous': 'A2B3', 'material_id': 'mp-776456'}\n",
      "{'_id': ObjectId('5c51048bc93a5616d3c0862c'), 'elements': ['O', 'Ti'], 'nelements': 2, 'pretty_formula': 'TiO', 'formula_anonymous': 'AB', 'material_id': 'mp-755300'}\n",
      "{'_id': ObjectId('5c51048bc93a5616d3c0862d'), 'elements': ['O', 'Ti'], 'nelements': 2, 'pretty_formula': 'TiO', 'formula_anonymous': 'AB', 'material_id': 'mp-755264'}\n",
      "{'_id': ObjectId('5c51048bc93a5616d3c0862e'), 'elements': ['O', 'Ti'], 'nelements': 2, 'pretty_formula': 'TiO2', 'formula_anonymous': 'AB2', 'material_id': 'mp-849533'}\n",
      "{'_id': ObjectId('5c51048bc93a5616d3c0862f'), 'elements': ['O', 'Ti'], 'nelements': 2, 'pretty_formula': 'Ti6O11', 'formula_anonymous': 'A6B11', 'material_id': 'mp-559964'}\n",
      "{'_id': ObjectId('5c51048bc93a5616d3c08630'), 'elements': ['O', 'Ti'], 'nelements': 2, 'pretty_formula': 'Ti5O9', 'formula_anonymous': 'A5B9', 'material_id': 'mp-748'}\n",
      "{'_id': ObjectId('5c51048bc93a5616d3c08631'), 'elements': ['O', 'Ti'], 'nelements': 2, 'pretty_formula': 'TiO2', 'formula_anonymous': 'AB2', 'material_id': 'mvc-11600'}\n",
      "{'_id': ObjectId('5c51048bc93a5616d3c08632'), 'elements': ['O', 'Ti'], 'nelements': 2, 'pretty_formula': 'Ti8O15', 'formula_anonymous': 'A8B15', 'material_id': 'mp-565700'}\n",
      "{'_id': ObjectId('5c51048bc93a5616d3c08633'), 'elements': ['O', 'Ti'], 'nelements': 2, 'pretty_formula': 'TiO2', 'formula_anonymous': 'AB2', 'material_id': 'mvc-5171'}\n",
      "{'_id': ObjectId('5c51048bc93a5616d3c08634'), 'elements': ['O', 'Ti'], 'nelements': 2, 'pretty_formula': 'Ti3O5', 'formula_anonymous': 'A3B5', 'material_id': 'mp-556480'}\n",
      "{'_id': ObjectId('5c51048bc93a5616d3c08635'), 'elements': ['O', 'Ti'], 'nelements': 2, 'pretty_formula': 'Ti7O13', 'formula_anonymous': 'A7B13', 'material_id': 'mp-556724'}\n",
      "{'_id': ObjectId('5c51048bc93a5616d3c08636'), 'elements': ['O', 'Ti'], 'nelements': 2, 'pretty_formula': 'Ti3O5', 'formula_anonymous': 'A3B5', 'material_id': 'mp-556754'}\n",
      "{'_id': ObjectId('5c51048bc93a5616d3c08637'), 'elements': ['O', 'Ti'], 'nelements': 2, 'pretty_formula': 'TiO', 'formula_anonymous': 'AB', 'material_id': 'mp-754333'}\n",
      "{'_id': ObjectId('5c51048bc93a5616d3c08638'), 'elements': ['O', 'Ti'], 'nelements': 2, 'pretty_formula': 'TiO2', 'formula_anonymous': 'AB2', 'material_id': 'mp-777129'}\n",
      "{'_id': ObjectId('5c51048bc93a5616d3c08639'), 'elements': ['O', 'Ti'], 'nelements': 2, 'pretty_formula': 'Ti13O22', 'formula_anonymous': 'A13B22', 'material_id': 'mp-656852'}\n",
      "{'_id': ObjectId('5c51048bc93a5616d3c0863a'), 'elements': ['O', 'Ti'], 'nelements': 2, 'pretty_formula': 'Ti2O7', 'formula_anonymous': 'A2B7', 'material_id': 'mp-656850'}\n",
      "{'_id': ObjectId('5c51048bc93a5616d3c0863b'), 'elements': ['O', 'Ti'], 'nelements': 2, 'pretty_formula': 'Ti4O7', 'formula_anonymous': 'A4B7', 'material_id': 'mp-12205'}\n",
      "{'_id': ObjectId('5c51048bc93a5616d3c0863c'), 'elements': ['O', 'Ti'], 'nelements': 2, 'pretty_formula': 'TiO', 'formula_anonymous': 'AB', 'material_id': 'mp-2664'}\n",
      "{'_id': ObjectId('5c51048bc93a5616d3c0863d'), 'elements': ['O', 'Ti'], 'nelements': 2, 'pretty_formula': 'Ti9O13', 'formula_anonymous': 'A9B13', 'material_id': 'mvc-1923'}\n",
      "{'_id': ObjectId('5c51048bc93a5616d3c0863e'), 'elements': ['O', 'Ti'], 'nelements': 2, 'pretty_formula': 'Ti2O3', 'formula_anonymous': 'A2B3', 'material_id': 'mvc-379'}\n",
      "{'_id': ObjectId('5c51048bc93a5616d3c0863f'), 'elements': ['O', 'Ti'], 'nelements': 2, 'pretty_formula': 'TiO2', 'formula_anonymous': 'AB2', 'material_id': 'mp-25433'}\n",
      "{'_id': ObjectId('5c51048bc93a5616d3c08640'), 'elements': ['O', 'Ti'], 'nelements': 2, 'pretty_formula': 'TiO', 'formula_anonymous': 'AB', 'material_id': 'mp-1071163'}\n",
      "{'_id': ObjectId('5c51048bc93a5616d3c08641'), 'elements': ['O', 'Ti'], 'nelements': 2, 'pretty_formula': 'TiO2', 'formula_anonymous': 'AB2', 'material_id': 'mp-1097860'}\n",
      "{'_id': ObjectId('5c51048bc93a5616d3c08642'), 'elements': ['O', 'Ti'], 'nelements': 2, 'pretty_formula': 'TiO2', 'formula_anonymous': 'AB2', 'material_id': 'mp-1840'}\n",
      "{'_id': ObjectId('5c51048bc93a5616d3c08643'), 'elements': ['O', 'Ti'], 'nelements': 2, 'pretty_formula': 'TiO', 'formula_anonymous': 'AB', 'material_id': 'mp-1203'}\n",
      "{'_id': ObjectId('5c51048bc93a5616d3c08644'), 'elements': ['O', 'Ti'], 'nelements': 2, 'pretty_formula': 'Ti2O', 'formula_anonymous': 'AB2', 'material_id': 'mp-1215'}\n",
      "{'_id': ObjectId('5c51048bc93a5616d3c08645'), 'elements': ['O', 'Ti'], 'nelements': 2, 'pretty_formula': 'Ti4O5', 'formula_anonymous': 'A4B5', 'material_id': 'mp-10734'}\n",
      "{'_id': ObjectId('5c51048bc93a5616d3c08646'), 'elements': ['O', 'Ti'], 'nelements': 2, 'pretty_formula': 'Ti3O', 'formula_anonymous': 'AB3', 'material_id': 'mp-2591'}\n",
      "{'_id': ObjectId('5c51048bc93a5616d3c08647'), 'elements': ['O', 'Ti'], 'nelements': 2, 'pretty_formula': 'Ti3O5', 'formula_anonymous': 'A3B5', 'material_id': 'mp-1147'}\n",
      "{'_id': ObjectId('5c51048bc93a5616d3c08648'), 'elements': ['O', 'Ti'], 'nelements': 2, 'pretty_formula': 'TiO2', 'formula_anonymous': 'AB2', 'material_id': 'mp-430'}\n",
      "{'_id': ObjectId('5c51048bc93a5616d3c08649'), 'elements': ['O', 'Ti'], 'nelements': 2, 'pretty_formula': 'Ti9O8', 'formula_anonymous': 'A8B9', 'material_id': 'mp-32544'}\n",
      "{'_id': ObjectId('5c51048bc93a5616d3c0864a'), 'elements': ['O', 'Ti'], 'nelements': 2, 'pretty_formula': 'TiO2', 'formula_anonymous': 'AB2', 'material_id': 'mp-390'}\n",
      "{'_id': ObjectId('5c51048bc93a5616d3c0864b'), 'elements': ['O', 'Ti'], 'nelements': 2, 'pretty_formula': 'TiO2', 'formula_anonymous': 'AB2', 'material_id': 'mp-1079207'}\n",
      "{'_id': ObjectId('5c51048bc93a5616d3c0864c'), 'elements': ['O', 'Ti'], 'nelements': 2, 'pretty_formula': 'TiO2', 'formula_anonymous': 'AB2', 'material_id': 'mp-25262'}\n",
      "{'_id': ObjectId('5c51048bc93a5616d3c0864d'), 'elements': ['O', 'Ti'], 'nelements': 2, 'pretty_formula': 'Ti2O3', 'formula_anonymous': 'A2B3', 'material_id': 'mp-458'}\n",
      "{'_id': ObjectId('5c51048bc93a5616d3c0864e'), 'elements': ['O', 'Ti'], 'nelements': 2, 'pretty_formula': 'TiO2', 'formula_anonymous': 'AB2', 'material_id': 'mp-34688'}\n",
      "{'_id': ObjectId('5c51048bc93a5616d3c0864f'), 'elements': ['O', 'Ti'], 'nelements': 2, 'pretty_formula': 'TiO2', 'formula_anonymous': 'AB2', 'material_id': 'mp-572822'}\n",
      "{'_id': ObjectId('5c51048bc93a5616d3c08650'), 'elements': ['O', 'Ti'], 'nelements': 2, 'pretty_formula': 'TiO2', 'formula_anonymous': 'AB2', 'material_id': 'mp-1439'}\n",
      "{'_id': ObjectId('5c51048bc93a5616d3c08651'), 'elements': ['O', 'Ti'], 'nelements': 2, 'pretty_formula': 'Ti5O7', 'formula_anonymous': 'A5B7', 'material_id': 'mvc-2169'}\n",
      "{'_id': ObjectId('5c51048bc93a5616d3c08652'), 'elements': ['O', 'Ti'], 'nelements': 2, 'pretty_formula': 'TiO2', 'formula_anonymous': 'AB2', 'material_id': 'mp-756655'}\n",
      "{'_id': ObjectId('5c51048bc93a5616d3c08653'), 'elements': ['O', 'Ti'], 'nelements': 2, 'pretty_formula': 'TiO2', 'formula_anonymous': 'AB2', 'material_id': 'mvc-12466'}\n",
      "{'_id': ObjectId('5c51048bc93a5616d3c08654'), 'elements': ['O', 'Ti'], 'nelements': 2, 'pretty_formula': 'Ti9O10', 'formula_anonymous': 'A9B10', 'material_id': 'mp-32813'}\n",
      "{'_id': ObjectId('5c51048bc93a5616d3c08655'), 'elements': ['O', 'Ti'], 'nelements': 2, 'pretty_formula': 'TiO2', 'formula_anonymous': 'AB2', 'material_id': 'mvc-9726'}\n",
      "{'_id': ObjectId('5c51048bc93a5616d3c08656'), 'elements': ['O', 'Ti'], 'nelements': 2, 'pretty_formula': 'Ti5O8', 'formula_anonymous': 'A5B8', 'material_id': 'mp-759920'}\n",
      "{'_id': ObjectId('5c51048bc93a5616d3c08657'), 'elements': ['O', 'Ti'], 'nelements': 2, 'pretty_formula': 'TiO2', 'formula_anonymous': 'AB2', 'material_id': 'mp-655656'}\n",
      "{'_id': ObjectId('5c51048bc93a5616d3c08658'), 'elements': ['O', 'Ti'], 'nelements': 2, 'pretty_formula': 'TiO2', 'formula_anonymous': 'AB2', 'material_id': 'mp-2657'}\n",
      "{'_id': ObjectId('5c51048bc93a5616d3c08659'), 'elements': ['O', 'Ti'], 'nelements': 2, 'pretty_formula': 'Ti3O7', 'formula_anonymous': 'A3B7', 'material_id': 'mp-1105338'}\n",
      "{'_id': ObjectId('5c51048bc93a5616d3c0865a'), 'elements': ['O', 'Ti'], 'nelements': 2, 'pretty_formula': 'Ti2O3', 'formula_anonymous': 'A2B3', 'material_id': 'mp-1101295'}\n",
      "{'_id': ObjectId('5c51048bc93a5616d3c0865b'), 'elements': ['O', 'Ti'], 'nelements': 2, 'pretty_formula': 'TiO2', 'formula_anonymous': 'AB2', 'material_id': 'mp-1102591'}\n",
      "{'_id': ObjectId('5c51048bc93a5616d3c0865c'), 'elements': ['O', 'Ti'], 'nelements': 2, 'pretty_formula': 'TiO2', 'formula_anonymous': 'AB2', 'material_id': 'mp-1101022'}\n",
      "{'_id': ObjectId('5c51048bc93a5616d3c0865d'), 'elements': ['O', 'Ti'], 'nelements': 2, 'pretty_formula': 'TiO2', 'formula_anonymous': 'AB2', 'material_id': 'mp-1102255'}\n",
      "{'_id': ObjectId('5c51048bc93a5616d3c0865e'), 'elements': ['O', 'Ti'], 'nelements': 2, 'pretty_formula': 'TiO2', 'formula_anonymous': 'AB2', 'material_id': 'mp-1008677'}\n",
      "{'_id': ObjectId('5c51048bc93a5616d3c0865f'), 'elements': ['O', 'Ti'], 'nelements': 2, 'pretty_formula': 'Ti11O14', 'formula_anonymous': 'A11B14', 'material_id': 'mp-1101463'}\n"
     ]
    }
   ],
   "source": [
    "cursor = test_collection.find()\n",
    "for document in cursor:\n",
    "    print(document)"
   ]
  },
  {
   "cell_type": "code",
   "execution_count": 20,
   "metadata": {},
   "outputs": [
    {
     "data": {
      "text/plain": [
       "{}"
      ]
     },
     "execution_count": 20,
     "metadata": {},
     "output_type": "execute_result"
    }
   ],
   "source": []
  },
  {
   "cell_type": "code",
   "execution_count": null,
   "metadata": {},
   "outputs": [],
   "source": []
  }
 ],
 "metadata": {
  "kernelspec": {
   "display_name": "Python 3",
   "language": "python",
   "name": "python3"
  },
  "language_info": {
   "codemirror_mode": {
    "name": "ipython",
    "version": 3
   },
   "file_extension": ".py",
   "mimetype": "text/x-python",
   "name": "python",
   "nbconvert_exporter": "python",
   "pygments_lexer": "ipython3",
   "version": "3.7.1"
  }
 },
 "nbformat": 4,
 "nbformat_minor": 2
}
