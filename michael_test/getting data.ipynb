{
 "cells": [
  {
   "cell_type": "code",
   "execution_count": 9,
   "metadata": {},
   "outputs": [
    {
     "name": "stdout",
     "output_type": "stream",
     "text": [
      "Collecting pymongo\n",
      "\u001b[?25l  Downloading https://files.pythonhosted.org/packages/d7/ac/d2e324c1f9bcf653fa106785371a16b4709506a35b04948655de8b961a85/pymongo-3.7.2-cp37-cp37m-macosx_10_9_x86_64.whl (307kB)\n",
      "\u001b[K    100% |████████████████████████████████| 317kB 3.5MB/s ta 0:00:01\n",
      "\u001b[?25hInstalling collected packages: pymongo\n",
      "Successfully installed pymongo-3.7.2\n"
     ]
    }
   ],
   "source": [
    "!pip install pymongo"
   ]
  },
  {
   "cell_type": "code",
   "execution_count": 17,
   "metadata": {},
   "outputs": [],
   "source": [
    "from pymatgen import MPRester\n",
    "mpr = MPRester(\"BsTwIdAypx0Far6t\")"
   ]
  },
  {
   "cell_type": "code",
   "execution_count": 18,
   "metadata": {},
   "outputs": [],
   "source": [
    "docs = mpr.query({\"chemsys\":\"O-Ti\"}, [\"elements\", \"nelements\", \"pretty_formula\", \"formula_anonymous\",\"material_id\"])\n",
    "# filter_ = {\"chemsys\":\"O-Ti\"}\n",
    "#sort_="
   ]
  },
  {
   "cell_type": "code",
   "execution_count": 19,
   "metadata": {},
   "outputs": [
    {
     "data": {
      "text/plain": [
       "87"
      ]
     },
     "execution_count": 19,
     "metadata": {},
     "output_type": "execute_result"
    }
   ],
   "source": [
    "len(docs)"
   ]
  },
  {
   "cell_type": "code",
   "execution_count": 20,
   "metadata": {},
   "outputs": [],
   "source": [
    "import pymongo\n",
    "from pymongo import MongoClient\n",
    "client = MongoClient()"
   ]
  },
  {
   "cell_type": "code",
   "execution_count": 21,
   "metadata": {},
   "outputs": [
    {
     "data": {
      "text/plain": [
       "Collection(Database(MongoClient(host=['localhost:27017'], document_class=dict, tz_aware=False, connect=True), 'test_database'), 'test_collection')"
      ]
     },
     "execution_count": 21,
     "metadata": {},
     "output_type": "execute_result"
    }
   ],
   "source": [
    "db=client.test_database\n",
    "test_collection = db.test_collection\n",
    "test_collection"
   ]
  },
  {
   "cell_type": "code",
   "execution_count": 22,
   "metadata": {},
   "outputs": [
    {
     "data": {
      "text/plain": [
       "<pymongo.results.InsertManyResult at 0x620228c48>"
      ]
     },
     "execution_count": 22,
     "metadata": {},
     "output_type": "execute_result"
    }
   ],
   "source": [
    "test_collection.insert_many(docs)"
   ]
  },
  {
   "cell_type": "code",
   "execution_count": 23,
   "metadata": {},
   "outputs": [
    {
     "name": "stdout",
     "output_type": "stream",
     "text": [
      "{'_id': ObjectId('5c577f2026ef0c4c2bf9326a'), 'elements': ['O', 'Ti'], 'nelements': 2, 'pretty_formula': 'TiO2', 'formula_anonymous': 'AB2', 'material_id': 'mp-775938'}\n",
      "{'_id': ObjectId('5c577f2026ef0c4c2bf9326b'), 'elements': ['O', 'Ti'], 'nelements': 2, 'pretty_formula': 'TiO2', 'formula_anonymous': 'AB2', 'material_id': 'mp-766454'}\n",
      "{'_id': ObjectId('5c577f2026ef0c4c2bf9326c'), 'elements': ['O', 'Ti'], 'nelements': 2, 'pretty_formula': 'TiO2', 'formula_anonymous': 'AB2', 'material_id': 'mp-9173'}\n",
      "{'_id': ObjectId('5c577f2026ef0c4c2bf9326d'), 'elements': ['O', 'Ti'], 'nelements': 2, 'pretty_formula': 'Ti6O', 'formula_anonymous': 'AB6', 'material_id': 'mp-882'}\n",
      "{'_id': ObjectId('5c577f2026ef0c4c2bf9326e'), 'elements': ['O', 'Ti'], 'nelements': 2, 'pretty_formula': 'TiO2', 'formula_anonymous': 'AB2', 'material_id': 'mvc-13391'}\n",
      "{'_id': ObjectId('5c577f2026ef0c4c2bf9326f'), 'elements': ['O', 'Ti'], 'nelements': 2, 'pretty_formula': 'TiO2', 'formula_anonymous': 'AB2', 'material_id': 'mvc-12404'}\n",
      "{'_id': ObjectId('5c577f2026ef0c4c2bf93270'), 'elements': ['O', 'Ti'], 'nelements': 2, 'pretty_formula': 'TiO2', 'formula_anonymous': 'AB2', 'material_id': 'mp-636827'}\n",
      "{'_id': ObjectId('5c577f2026ef0c4c2bf93271'), 'elements': ['O', 'Ti'], 'nelements': 2, 'pretty_formula': 'Ti3O2', 'formula_anonymous': 'A2B3', 'material_id': 'mp-978968'}\n",
      "{'_id': ObjectId('5c577f2026ef0c4c2bf93272'), 'elements': ['O', 'Ti'], 'nelements': 2, 'pretty_formula': 'Ti10O11', 'formula_anonymous': 'A10B11', 'material_id': 'mp-684733'}\n",
      "{'_id': ObjectId('5c577f2026ef0c4c2bf93273'), 'elements': ['O', 'Ti'], 'nelements': 2, 'pretty_formula': 'TiO2', 'formula_anonymous': 'AB2', 'material_id': 'mvc-4715'}\n",
      "{'_id': ObjectId('5c577f2026ef0c4c2bf93274'), 'elements': ['O', 'Ti'], 'nelements': 2, 'pretty_formula': 'Ti10O13', 'formula_anonymous': 'A10B13', 'material_id': 'mp-753593'}\n",
      "{'_id': ObjectId('5c577f2026ef0c4c2bf93275'), 'elements': ['O', 'Ti'], 'nelements': 2, 'pretty_formula': 'Ti3O5', 'formula_anonymous': 'A3B5', 'material_id': 'mp-8057'}\n",
      "{'_id': ObjectId('5c577f2026ef0c4c2bf93276'), 'elements': ['O', 'Ti'], 'nelements': 2, 'pretty_formula': 'Ti7O8', 'formula_anonymous': 'A7B8', 'material_id': 'mp-779692'}\n",
      "{'_id': ObjectId('5c577f2026ef0c4c2bf93277'), 'elements': ['O', 'Ti'], 'nelements': 2, 'pretty_formula': 'Ti11O18', 'formula_anonymous': 'A11B18', 'material_id': 'mp-760747'}\n",
      "{'_id': ObjectId('5c577f2026ef0c4c2bf93278'), 'elements': ['O', 'Ti'], 'nelements': 2, 'pretty_formula': 'Ti4O7', 'formula_anonymous': 'A4B7', 'material_id': 'mp-778663'}\n",
      "{'_id': ObjectId('5c577f2026ef0c4c2bf93279'), 'elements': ['O', 'Ti'], 'nelements': 2, 'pretty_formula': 'Ti11O14', 'formula_anonymous': 'A11B14', 'material_id': 'mp-759754'}\n",
      "{'_id': ObjectId('5c577f2026ef0c4c2bf9327a'), 'elements': ['O', 'Ti'], 'nelements': 2, 'pretty_formula': 'TiO', 'formula_anonymous': 'AB', 'material_id': 'mp-673667'}\n",
      "{'_id': ObjectId('5c577f2026ef0c4c2bf9327b'), 'elements': ['O', 'Ti'], 'nelements': 2, 'pretty_formula': 'TiO', 'formula_anonymous': 'AB', 'material_id': 'mp-685151'}\n",
      "{'_id': ObjectId('5c577f2026ef0c4c2bf9327c'), 'elements': ['O', 'Ti'], 'nelements': 2, 'pretty_formula': 'Ti8O13', 'formula_anonymous': 'A8B13', 'material_id': 'mp-752989'}\n",
      "{'_id': ObjectId('5c577f2026ef0c4c2bf9327d'), 'elements': ['O', 'Ti'], 'nelements': 2, 'pretty_formula': 'TiO2', 'formula_anonymous': 'AB2', 'material_id': 'mvc-11423'}\n",
      "{'_id': ObjectId('5c577f2026ef0c4c2bf9327e'), 'elements': ['O', 'Ti'], 'nelements': 2, 'pretty_formula': 'Ti9O17', 'formula_anonymous': 'A9B17', 'material_id': 'mp-27273'}\n",
      "{'_id': ObjectId('5c577f2026ef0c4c2bf9327f'), 'elements': ['O', 'Ti'], 'nelements': 2, 'pretty_formula': 'Ti6O11', 'formula_anonymous': 'A6B11', 'material_id': 'mp-30524'}\n",
      "{'_id': ObjectId('5c577f2026ef0c4c2bf93280'), 'elements': ['O', 'Ti'], 'nelements': 2, 'pretty_formula': 'TiO2', 'formula_anonymous': 'AB2', 'material_id': 'mp-756587'}\n",
      "{'_id': ObjectId('5c577f2026ef0c4c2bf93281'), 'elements': ['O', 'Ti'], 'nelements': 2, 'pretty_formula': 'TiO2', 'formula_anonymous': 'AB2', 'material_id': 'mp-754769'}\n",
      "{'_id': ObjectId('5c577f2026ef0c4c2bf93282'), 'elements': ['O', 'Ti'], 'nelements': 2, 'pretty_formula': 'TiO2', 'formula_anonymous': 'AB2', 'material_id': 'mp-754672'}\n",
      "{'_id': ObjectId('5c577f2026ef0c4c2bf93283'), 'elements': ['O', 'Ti'], 'nelements': 2, 'pretty_formula': 'TiO2', 'formula_anonymous': 'AB2', 'material_id': 'mvc-11115'}\n",
      "{'_id': ObjectId('5c577f2026ef0c4c2bf93284'), 'elements': ['O', 'Ti'], 'nelements': 2, 'pretty_formula': 'Ti3O4', 'formula_anonymous': 'A3B4', 'material_id': 'mp-755875'}\n",
      "{'_id': ObjectId('5c577f2026ef0c4c2bf93285'), 'elements': ['O', 'Ti'], 'nelements': 2, 'pretty_formula': 'Ti2O3', 'formula_anonymous': 'A2B3', 'material_id': 'mp-776655'}\n",
      "{'_id': ObjectId('5c577f2026ef0c4c2bf93286'), 'elements': ['O', 'Ti'], 'nelements': 2, 'pretty_formula': 'Ti19O30', 'formula_anonymous': 'A19B30', 'material_id': 'mp-760075'}\n",
      "{'_id': ObjectId('5c577f2026ef0c4c2bf93287'), 'elements': ['O', 'Ti'], 'nelements': 2, 'pretty_formula': 'TiO2', 'formula_anonymous': 'AB2', 'material_id': 'mp-553432'}\n",
      "{'_id': ObjectId('5c577f2026ef0c4c2bf93288'), 'elements': ['O', 'Ti'], 'nelements': 2, 'pretty_formula': 'Ti3O', 'formula_anonymous': 'AB3', 'material_id': 'mp-554032'}\n",
      "{'_id': ObjectId('5c577f2026ef0c4c2bf93289'), 'elements': ['O', 'Ti'], 'nelements': 2, 'pretty_formula': 'Ti6O', 'formula_anonymous': 'AB6', 'material_id': 'mp-554098'}\n",
      "{'_id': ObjectId('5c577f2026ef0c4c2bf9328a'), 'elements': ['O', 'Ti'], 'nelements': 2, 'pretty_formula': 'TiO2', 'formula_anonymous': 'AB2', 'material_id': 'mp-554278'}\n",
      "{'_id': ObjectId('5c577f2026ef0c4c2bf9328b'), 'elements': ['O', 'Ti'], 'nelements': 2, 'pretty_formula': 'Ti3O', 'formula_anonymous': 'AB3', 'material_id': 'mp-557812'}\n",
      "{'_id': ObjectId('5c577f2026ef0c4c2bf9328c'), 'elements': ['O', 'Ti'], 'nelements': 2, 'pretty_formula': 'Ti2O3', 'formula_anonymous': 'A2B3', 'material_id': 'mp-776456'}\n",
      "{'_id': ObjectId('5c577f2026ef0c4c2bf9328d'), 'elements': ['O', 'Ti'], 'nelements': 2, 'pretty_formula': 'TiO', 'formula_anonymous': 'AB', 'material_id': 'mp-755300'}\n",
      "{'_id': ObjectId('5c577f2026ef0c4c2bf9328e'), 'elements': ['O', 'Ti'], 'nelements': 2, 'pretty_formula': 'TiO', 'formula_anonymous': 'AB', 'material_id': 'mp-755264'}\n",
      "{'_id': ObjectId('5c577f2026ef0c4c2bf9328f'), 'elements': ['O', 'Ti'], 'nelements': 2, 'pretty_formula': 'TiO2', 'formula_anonymous': 'AB2', 'material_id': 'mp-849533'}\n",
      "{'_id': ObjectId('5c577f2026ef0c4c2bf93290'), 'elements': ['O', 'Ti'], 'nelements': 2, 'pretty_formula': 'Ti6O11', 'formula_anonymous': 'A6B11', 'material_id': 'mp-559964'}\n",
      "{'_id': ObjectId('5c577f2026ef0c4c2bf93291'), 'elements': ['O', 'Ti'], 'nelements': 2, 'pretty_formula': 'Ti5O9', 'formula_anonymous': 'A5B9', 'material_id': 'mp-748'}\n",
      "{'_id': ObjectId('5c577f2026ef0c4c2bf93292'), 'elements': ['O', 'Ti'], 'nelements': 2, 'pretty_formula': 'TiO2', 'formula_anonymous': 'AB2', 'material_id': 'mvc-11600'}\n",
      "{'_id': ObjectId('5c577f2026ef0c4c2bf93293'), 'elements': ['O', 'Ti'], 'nelements': 2, 'pretty_formula': 'Ti8O15', 'formula_anonymous': 'A8B15', 'material_id': 'mp-565700'}\n",
      "{'_id': ObjectId('5c577f2026ef0c4c2bf93294'), 'elements': ['O', 'Ti'], 'nelements': 2, 'pretty_formula': 'TiO2', 'formula_anonymous': 'AB2', 'material_id': 'mvc-5171'}\n",
      "{'_id': ObjectId('5c577f2026ef0c4c2bf93295'), 'elements': ['O', 'Ti'], 'nelements': 2, 'pretty_formula': 'Ti3O5', 'formula_anonymous': 'A3B5', 'material_id': 'mp-556480'}\n",
      "{'_id': ObjectId('5c577f2026ef0c4c2bf93296'), 'elements': ['O', 'Ti'], 'nelements': 2, 'pretty_formula': 'Ti7O13', 'formula_anonymous': 'A7B13', 'material_id': 'mp-556724'}\n",
      "{'_id': ObjectId('5c577f2026ef0c4c2bf93297'), 'elements': ['O', 'Ti'], 'nelements': 2, 'pretty_formula': 'Ti3O5', 'formula_anonymous': 'A3B5', 'material_id': 'mp-556754'}\n",
      "{'_id': ObjectId('5c577f2026ef0c4c2bf93298'), 'elements': ['O', 'Ti'], 'nelements': 2, 'pretty_formula': 'TiO', 'formula_anonymous': 'AB', 'material_id': 'mp-754333'}\n",
      "{'_id': ObjectId('5c577f2026ef0c4c2bf93299'), 'elements': ['O', 'Ti'], 'nelements': 2, 'pretty_formula': 'TiO2', 'formula_anonymous': 'AB2', 'material_id': 'mp-777129'}\n",
      "{'_id': ObjectId('5c577f2026ef0c4c2bf9329a'), 'elements': ['O', 'Ti'], 'nelements': 2, 'pretty_formula': 'Ti13O22', 'formula_anonymous': 'A13B22', 'material_id': 'mp-656852'}\n",
      "{'_id': ObjectId('5c577f2026ef0c4c2bf9329b'), 'elements': ['O', 'Ti'], 'nelements': 2, 'pretty_formula': 'Ti2O7', 'formula_anonymous': 'A2B7', 'material_id': 'mp-656850'}\n",
      "{'_id': ObjectId('5c577f2026ef0c4c2bf9329c'), 'elements': ['O', 'Ti'], 'nelements': 2, 'pretty_formula': 'Ti4O7', 'formula_anonymous': 'A4B7', 'material_id': 'mp-12205'}\n",
      "{'_id': ObjectId('5c577f2026ef0c4c2bf9329d'), 'elements': ['O', 'Ti'], 'nelements': 2, 'pretty_formula': 'TiO', 'formula_anonymous': 'AB', 'material_id': 'mp-2664'}\n",
      "{'_id': ObjectId('5c577f2026ef0c4c2bf9329e'), 'elements': ['O', 'Ti'], 'nelements': 2, 'pretty_formula': 'Ti9O13', 'formula_anonymous': 'A9B13', 'material_id': 'mvc-1923'}\n",
      "{'_id': ObjectId('5c577f2026ef0c4c2bf9329f'), 'elements': ['O', 'Ti'], 'nelements': 2, 'pretty_formula': 'Ti2O3', 'formula_anonymous': 'A2B3', 'material_id': 'mvc-379'}\n",
      "{'_id': ObjectId('5c577f2026ef0c4c2bf932a0'), 'elements': ['O', 'Ti'], 'nelements': 2, 'pretty_formula': 'TiO2', 'formula_anonymous': 'AB2', 'material_id': 'mp-25433'}\n",
      "{'_id': ObjectId('5c577f2026ef0c4c2bf932a1'), 'elements': ['O', 'Ti'], 'nelements': 2, 'pretty_formula': 'TiO', 'formula_anonymous': 'AB', 'material_id': 'mp-1071163'}\n",
      "{'_id': ObjectId('5c577f2026ef0c4c2bf932a2'), 'elements': ['O', 'Ti'], 'nelements': 2, 'pretty_formula': 'TiO2', 'formula_anonymous': 'AB2', 'material_id': 'mp-1097860'}\n",
      "{'_id': ObjectId('5c577f2026ef0c4c2bf932a3'), 'elements': ['O', 'Ti'], 'nelements': 2, 'pretty_formula': 'TiO2', 'formula_anonymous': 'AB2', 'material_id': 'mp-1840'}\n",
      "{'_id': ObjectId('5c577f2026ef0c4c2bf932a4'), 'elements': ['O', 'Ti'], 'nelements': 2, 'pretty_formula': 'TiO', 'formula_anonymous': 'AB', 'material_id': 'mp-1203'}\n",
      "{'_id': ObjectId('5c577f2026ef0c4c2bf932a5'), 'elements': ['O', 'Ti'], 'nelements': 2, 'pretty_formula': 'Ti2O', 'formula_anonymous': 'AB2', 'material_id': 'mp-1215'}\n",
      "{'_id': ObjectId('5c577f2026ef0c4c2bf932a6'), 'elements': ['O', 'Ti'], 'nelements': 2, 'pretty_formula': 'Ti4O5', 'formula_anonymous': 'A4B5', 'material_id': 'mp-10734'}\n",
      "{'_id': ObjectId('5c577f2026ef0c4c2bf932a7'), 'elements': ['O', 'Ti'], 'nelements': 2, 'pretty_formula': 'Ti3O', 'formula_anonymous': 'AB3', 'material_id': 'mp-2591'}\n",
      "{'_id': ObjectId('5c577f2026ef0c4c2bf932a8'), 'elements': ['O', 'Ti'], 'nelements': 2, 'pretty_formula': 'Ti3O5', 'formula_anonymous': 'A3B5', 'material_id': 'mp-1147'}\n",
      "{'_id': ObjectId('5c577f2026ef0c4c2bf932a9'), 'elements': ['O', 'Ti'], 'nelements': 2, 'pretty_formula': 'TiO2', 'formula_anonymous': 'AB2', 'material_id': 'mp-430'}\n",
      "{'_id': ObjectId('5c577f2026ef0c4c2bf932aa'), 'elements': ['O', 'Ti'], 'nelements': 2, 'pretty_formula': 'Ti9O8', 'formula_anonymous': 'A8B9', 'material_id': 'mp-32544'}\n",
      "{'_id': ObjectId('5c577f2026ef0c4c2bf932ab'), 'elements': ['O', 'Ti'], 'nelements': 2, 'pretty_formula': 'TiO2', 'formula_anonymous': 'AB2', 'material_id': 'mp-390'}\n",
      "{'_id': ObjectId('5c577f2026ef0c4c2bf932ac'), 'elements': ['O', 'Ti'], 'nelements': 2, 'pretty_formula': 'TiO2', 'formula_anonymous': 'AB2', 'material_id': 'mp-1079207'}\n",
      "{'_id': ObjectId('5c577f2026ef0c4c2bf932ad'), 'elements': ['O', 'Ti'], 'nelements': 2, 'pretty_formula': 'TiO2', 'formula_anonymous': 'AB2', 'material_id': 'mp-25262'}\n",
      "{'_id': ObjectId('5c577f2026ef0c4c2bf932ae'), 'elements': ['O', 'Ti'], 'nelements': 2, 'pretty_formula': 'Ti2O3', 'formula_anonymous': 'A2B3', 'material_id': 'mp-458'}\n",
      "{'_id': ObjectId('5c577f2026ef0c4c2bf932af'), 'elements': ['O', 'Ti'], 'nelements': 2, 'pretty_formula': 'TiO2', 'formula_anonymous': 'AB2', 'material_id': 'mp-34688'}\n",
      "{'_id': ObjectId('5c577f2026ef0c4c2bf932b0'), 'elements': ['O', 'Ti'], 'nelements': 2, 'pretty_formula': 'TiO2', 'formula_anonymous': 'AB2', 'material_id': 'mp-572822'}\n",
      "{'_id': ObjectId('5c577f2026ef0c4c2bf932b1'), 'elements': ['O', 'Ti'], 'nelements': 2, 'pretty_formula': 'TiO2', 'formula_anonymous': 'AB2', 'material_id': 'mp-1439'}\n",
      "{'_id': ObjectId('5c577f2026ef0c4c2bf932b2'), 'elements': ['O', 'Ti'], 'nelements': 2, 'pretty_formula': 'Ti5O7', 'formula_anonymous': 'A5B7', 'material_id': 'mvc-2169'}\n",
      "{'_id': ObjectId('5c577f2026ef0c4c2bf932b3'), 'elements': ['O', 'Ti'], 'nelements': 2, 'pretty_formula': 'TiO2', 'formula_anonymous': 'AB2', 'material_id': 'mp-756655'}\n",
      "{'_id': ObjectId('5c577f2026ef0c4c2bf932b4'), 'elements': ['O', 'Ti'], 'nelements': 2, 'pretty_formula': 'TiO2', 'formula_anonymous': 'AB2', 'material_id': 'mvc-12466'}\n",
      "{'_id': ObjectId('5c577f2026ef0c4c2bf932b5'), 'elements': ['O', 'Ti'], 'nelements': 2, 'pretty_formula': 'Ti9O10', 'formula_anonymous': 'A9B10', 'material_id': 'mp-32813'}\n",
      "{'_id': ObjectId('5c577f2026ef0c4c2bf932b6'), 'elements': ['O', 'Ti'], 'nelements': 2, 'pretty_formula': 'TiO2', 'formula_anonymous': 'AB2', 'material_id': 'mvc-9726'}\n",
      "{'_id': ObjectId('5c577f2026ef0c4c2bf932b7'), 'elements': ['O', 'Ti'], 'nelements': 2, 'pretty_formula': 'Ti5O8', 'formula_anonymous': 'A5B8', 'material_id': 'mp-759920'}\n",
      "{'_id': ObjectId('5c577f2026ef0c4c2bf932b8'), 'elements': ['O', 'Ti'], 'nelements': 2, 'pretty_formula': 'TiO2', 'formula_anonymous': 'AB2', 'material_id': 'mp-655656'}\n",
      "{'_id': ObjectId('5c577f2026ef0c4c2bf932b9'), 'elements': ['O', 'Ti'], 'nelements': 2, 'pretty_formula': 'TiO2', 'formula_anonymous': 'AB2', 'material_id': 'mp-2657'}\n",
      "{'_id': ObjectId('5c577f2026ef0c4c2bf932ba'), 'elements': ['O', 'Ti'], 'nelements': 2, 'pretty_formula': 'Ti3O7', 'formula_anonymous': 'A3B7', 'material_id': 'mp-1105338'}\n",
      "{'_id': ObjectId('5c577f2026ef0c4c2bf932bb'), 'elements': ['O', 'Ti'], 'nelements': 2, 'pretty_formula': 'Ti2O3', 'formula_anonymous': 'A2B3', 'material_id': 'mp-1101295'}\n",
      "{'_id': ObjectId('5c577f2026ef0c4c2bf932bc'), 'elements': ['O', 'Ti'], 'nelements': 2, 'pretty_formula': 'TiO2', 'formula_anonymous': 'AB2', 'material_id': 'mp-1102591'}\n",
      "{'_id': ObjectId('5c577f2026ef0c4c2bf932bd'), 'elements': ['O', 'Ti'], 'nelements': 2, 'pretty_formula': 'TiO2', 'formula_anonymous': 'AB2', 'material_id': 'mp-1101022'}\n",
      "{'_id': ObjectId('5c577f2026ef0c4c2bf932be'), 'elements': ['O', 'Ti'], 'nelements': 2, 'pretty_formula': 'TiO2', 'formula_anonymous': 'AB2', 'material_id': 'mp-1102255'}\n",
      "{'_id': ObjectId('5c577f2026ef0c4c2bf932bf'), 'elements': ['O', 'Ti'], 'nelements': 2, 'pretty_formula': 'TiO2', 'formula_anonymous': 'AB2', 'material_id': 'mp-1008677'}\n",
      "{'_id': ObjectId('5c577f2026ef0c4c2bf932c0'), 'elements': ['O', 'Ti'], 'nelements': 2, 'pretty_formula': 'Ti11O14', 'formula_anonymous': 'A11B14', 'material_id': 'mp-1101463'}\n"
     ]
    }
   ],
   "source": [
    "cursor = test_collection.find()\n",
    "counter = 0\n",
    "for document in cursor:\n",
    "    print(document)\n",
    "    counter = counter + 1"
   ]
  },
  {
   "cell_type": "code",
   "execution_count": 24,
   "metadata": {},
   "outputs": [
    {
     "data": {
      "text/plain": [
       "87"
      ]
     },
     "execution_count": 24,
     "metadata": {},
     "output_type": "execute_result"
    }
   ],
   "source": [
    "counter"
   ]
  },
  {
   "cell_type": "code",
   "execution_count": null,
   "metadata": {},
   "outputs": [],
   "source": [
    "test_collection.drop()"
   ]
  }
 ],
 "metadata": {
  "kernelspec": {
   "display_name": "Python 3",
   "language": "python",
   "name": "python3"
  },
  "language_info": {
   "codemirror_mode": {
    "name": "ipython",
    "version": 3
   },
   "file_extension": ".py",
   "mimetype": "text/x-python",
   "name": "python",
   "nbconvert_exporter": "python",
   "pygments_lexer": "ipython3",
   "version": "3.7.1"
  }
 },
 "nbformat": 4,
 "nbformat_minor": 2
}
