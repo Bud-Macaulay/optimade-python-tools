{
 "cells": [
  {
   "cell_type": "code",
   "execution_count": 164,
   "metadata": {
    "scrolled": true
   },
   "outputs": [
    {
     "name": "stdout",
     "output_type": "stream",
     "text": [
      "start\n",
      "  filter=\n",
      "  expression\n",
      "    term\n",
      "      term\n",
      "        atom\n",
      "          comparison\n",
      "            a\n",
      "            <\n",
      "            0\n",
      "      AND\n",
      "      atom\n",
      "        comparison\n",
      "          b\n",
      "          >=\n",
      "          3\n",
      "\n"
     ]
    }
   ],
   "source": [
    "from optimade.filter import Parser\n",
    "from lark import Lark, Transformer\n",
    "\n",
    "p = Parser(version=(0, 9, 5))\n",
    "# (x<3  and  y!=2)  or  not  z<0\n",
    "#\n",
    "t1 = p.parse(\"filter=a<0 AND b>= 3\")\n",
    "print(p)"
   ]
  },
  {
   "cell_type": "code",
   "execution_count": 165,
   "metadata": {},
   "outputs": [],
   "source": [
    "switcher = {\n",
    "    \"=\": \"$eq\",\n",
    "    \">\":\"$gt\",\n",
    "    \">=\":\"$gte\",\n",
    "    \"<\":\"$lt\",\n",
    "    \"<=\":\"$lte\",\n",
    "    \"!=\":\"$ne\",\n",
    "    \"AND\":\"$and\",\n",
    "    \"and\":\"$and\",\n",
    "    \"not\":\"$not\",\n",
    "    \"NOT\":\"$not\",\n",
    "    \"or\":\"$or\",\n",
    "    \"OR\":\"$or\",\n",
    "}\n",
    "def operatorToMongoDBSyntax(operator):\n",
    "    return switcher[operator]\n",
    "\n",
    "def listToString(l):\n",
    "    return ''.join(l)"
   ]
  },
  {
   "cell_type": "code",
   "execution_count": 166,
   "metadata": {},
   "outputs": [],
   "source": [
    "class EmptyTransformer(Transformer):\n",
    "    def comparison(self, args):\n",
    "        return args"
   ]
  },
  {
   "cell_type": "code",
   "execution_count": 186,
   "metadata": {},
   "outputs": [],
   "source": [
    "class MyTransformer(Transformer):\n",
    "    def comparison(self, args):\n",
    "        A = args[0]\n",
    "        operator = args[1]\n",
    "        try:\n",
    "            operator = operatorToMongoDBSyntax(args[1])\n",
    "        except:\n",
    "            print(\"Invalid operator detected: \" + operator)\n",
    "        B = args[2]\n",
    "        return \"{{{}: {{{}: {}}}}}\".format(A, operator, B)\n",
    "    def atom(self, args):\n",
    "        return args[0]\n",
    "    def term(self, args):\n",
    "        if(len(args) == 1):\n",
    "            # if the term is just an atom\n",
    "            return args[0]\n",
    "        elif(len(args) == 3):\n",
    "            conjunction = operatorToMongoDBSyntax(args[1])\n",
    "            A = args[0]\n",
    "            B = args[2]\n",
    "            print(\"{{ {}: [{},{}]}}\".format(conjunction, A, B))\n",
    "            return \"{{ {}: [{},{}]}}\".format(conjunction, A, B)\n",
    "    def expression(self,args):\n",
    "        return args[0]\n",
    "    def start(self, args):\n",
    "        return args[1]"
   ]
  },
  {
   "cell_type": "code",
   "execution_count": 187,
   "metadata": {},
   "outputs": [
    {
     "name": "stdout",
     "output_type": "stream",
     "text": [
      "{ $and: [{a: {$lt: 0}},{b: {$gte: 3}}]}\n"
     ]
    }
   ],
   "source": [
    "transformer = MyTransformer().transform(p.tree)"
   ]
  },
  {
   "cell_type": "code",
   "execution_count": 188,
   "metadata": {},
   "outputs": [
    {
     "name": "stdout",
     "output_type": "stream",
     "text": [
      "{ $and: [{a: {$lt: 0}},{b: {$gte: 3}}]}\n"
     ]
    }
   ],
   "source": [
    "print(transformer)"
   ]
  },
  {
   "cell_type": "code",
   "execution_count": 189,
   "metadata": {},
   "outputs": [
    {
     "data": {
      "text/plain": [
       "'{ $and: [{a: {$lt: 0}},{b: {$gte: 3}}]}'"
      ]
     },
     "execution_count": 189,
     "metadata": {},
     "output_type": "execute_result"
    }
   ],
   "source": [
    "transformer"
   ]
  },
  {
   "cell_type": "code",
   "execution_count": null,
   "metadata": {},
   "outputs": [],
   "source": []
  },
  {
   "cell_type": "code",
   "execution_count": null,
   "metadata": {},
   "outputs": [],
   "source": []
  }
 ],
 "metadata": {
  "kernelspec": {
   "display_name": "Python 3",
   "language": "python",
   "name": "python3"
  },
  "language_info": {
   "codemirror_mode": {
    "name": "ipython",
    "version": 3
   },
   "file_extension": ".py",
   "mimetype": "text/x-python",
   "name": "python",
   "nbconvert_exporter": "python",
   "pygments_lexer": "ipython3",
   "version": "3.6.6"
  }
 },
 "nbformat": 4,
 "nbformat_minor": 2
}
