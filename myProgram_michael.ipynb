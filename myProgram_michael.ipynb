{
 "cells": [
  {
   "cell_type": "code",
   "execution_count": 31,
   "metadata": {
    "scrolled": true
   },
   "outputs": [
    {
     "name": "stdout",
     "output_type": "stream",
     "text": [
      "start\n",
      "  filter=\n",
      "  expression\n",
      "    expression\n",
      "      term\n",
      "        term\n",
      "          atom\n",
      "            comparison\n",
      "              x\n",
      "              <\n",
      "              3\n",
      "        and\n",
      "        atom\n",
      "          comparison\n",
      "            y\n",
      "            !=\n",
      "            2\n",
      "    or\n",
      "    term\n",
      "      atom\n",
      "        not\n",
      "        comparison\n",
      "          z\n",
      "          <\n",
      "          0\n",
      "\n"
     ]
    }
   ],
   "source": [
    "from optimade.filter import Parser\n",
    "from lark import Lark, Transformer\n",
    "\n",
    "p = Parser(version=(0, 9, 5))\n",
    "# (x<3  and  y!=2)  or  not  z<0\n",
    "# $or:  [    {x:  {$lt:  3},  y:  {$ne:  2}},  {z:  {$not:  {$lt:  0}}}    ]    }\n",
    "# filter=formula_prototype=“AB2C3”  AND  nelements=4  AND  elements=“Si,O”\n",
    "# {formula_prototype:  \"AB2C3”,  nelements:  4,  elements:  {$all:  [“Si”,  “O”]}}\n",
    "t1 = p.parse(\"filter= x<3 and y!=2 or not z<0\")\n",
    "print(p)"
   ]
  },
  {
   "cell_type": "code",
   "execution_count": 32,
   "metadata": {},
   "outputs": [],
   "source": [
    "switcher = {\n",
    "    \"=\": \"$eq\",\n",
    "    \">\":\"$gt\",\n",
    "    \">=\":\"$gte\",\n",
    "    \"<\":\"$lt\",\n",
    "    \"<=\":\"$lte\",\n",
    "    \"!=\":\"$ne\",\n",
    "    \"AND\":\"$and\",\n",
    "    \"and\":\"$and\",\n",
    "    \"not\":\"$not\",\n",
    "    \"NOT\":\"$not\",\n",
    "    \"or\":\"$or\",\n",
    "    \"OR\":\"$or\",\n",
    "}\n",
    "def operatorToMongoDBSyntax(operator):\n",
    "    return switcher[operator]\n",
    "\n",
    "def listToString(l):\n",
    "    return ''.join(l)"
   ]
  },
  {
   "cell_type": "code",
   "execution_count": 33,
   "metadata": {},
   "outputs": [],
   "source": [
    "class EmptyTransformer(Transformer):\n",
    "    def comparison(self, args):\n",
    "        return args"
   ]
  },
  {
   "cell_type": "code",
   "execution_count": 57,
   "metadata": {},
   "outputs": [],
   "source": [
    "class MyTransformer(Transformer):\n",
    "    def comparison(self, args):\n",
    "        A = args[0]\n",
    "        operator = args[1]\n",
    "        try:\n",
    "            operator = operatorToMongoDBSyntax(args[1])\n",
    "        except:\n",
    "            print(\"Invalid operator detected: \" + operator)\n",
    "        B = args[2]\n",
    "        return \"{{{}: {{{}: {}}}}}\".format(A, operator, B)\n",
    "    def atom(self, args):\n",
    "        print(args)\n",
    "        return args[0]\n",
    "    def term(self, args):\n",
    "        if(len(args) == 1):\n",
    "            # if the term is just an atom\n",
    "            return args[0]\n",
    "        elif(len(args) == 3):\n",
    "            conjunction = operatorToMongoDBSyntax(args[1])\n",
    "            A = args[0]\n",
    "            B = args[2]\n",
    "            #print(\"{{ {}: [{},{}]}}\".format(conjunction, A, B))\n",
    "            return \"{{ {}: [{},{}]}}\".format(conjunction, A, B)\n",
    "        else:\n",
    "            print(args)\n",
    "            return \"here\"\n",
    "    def expression(self,args):\n",
    "        return args[0]\n",
    "    def start(self, args):\n",
    "        return args[1]"
   ]
  },
  {
   "cell_type": "code",
   "execution_count": 58,
   "metadata": {},
   "outputs": [
    {
     "name": "stdout",
     "output_type": "stream",
     "text": [
      "['{x: {$lt: 3}}']\n",
      "['{y: {$ne: 2}}']\n",
      "[Token(NOT, 'not'), '{z: {$lt: 0}}']\n"
     ]
    }
   ],
   "source": [
    "transformer = MyTransformer().transform(p.tree)"
   ]
  },
  {
   "cell_type": "code",
   "execution_count": 59,
   "metadata": {},
   "outputs": [
    {
     "name": "stdout",
     "output_type": "stream",
     "text": [
      "{ $and: [{x: {$lt: 3}},{y: {$ne: 2}}]}\n"
     ]
    }
   ],
   "source": [
    "print(transformer)\n",
    "#{formula_prototype:  \"AB2C3”,  nelements:  4,  elements:  {$all:  [“Si”,  “O”]}}"
   ]
  },
  {
   "cell_type": "code",
   "execution_count": 189,
   "metadata": {},
   "outputs": [
    {
     "data": {
      "text/plain": [
       "'{ $and: [{a: {$lt: 0}},{b: {$gte: 3}}]}'"
      ]
     },
     "execution_count": 189,
     "metadata": {},
     "output_type": "execute_result"
    }
   ],
   "source": [
    "transformer"
   ]
  },
  {
   "cell_type": "code",
   "execution_count": null,
   "metadata": {},
   "outputs": [],
   "source": []
  },
  {
   "cell_type": "code",
   "execution_count": 3,
   "metadata": {},
   "outputs": [
    {
     "name": "stdout",
     "output_type": "stream",
     "text": [
      "Collecting pql\n",
      "  Using cached https://files.pythonhosted.org/packages/f4/01/1d79fb709aae58a3716f64691dae31d42984ac5e0e420fbe21755392dd76/pql-0.4.3.tar.gz\n",
      "Collecting pymongo (from pql)\n",
      "  Using cached https://files.pythonhosted.org/packages/22/69/6f8358c6bbca32f1c94167ccab217bc6a70d17bdb10d4a71f4de96431e6e/pymongo-3.7.1-cp36-cp36m-macosx_10_6_intel.whl\n",
      "Requirement already satisfied: python-dateutil in /usr/local/lib/python3.6/site-packages (from pql) (2.7.3)\n",
      "Requirement already satisfied: six>=1.5 in /usr/local/lib/python3.6/site-packages (from python-dateutil->pql) (1.11.0)\n",
      "Building wheels for collected packages: pql\n",
      "  Running setup.py bdist_wheel for pql ... \u001b[?25ldone\n",
      "\u001b[?25h  Stored in directory: /Users/michaelwu/Library/Caches/pip/wheels/4b/15/ef/9a7ebb402f8f74d48a77d8fa82bc34ab55aa1410af1874ea38\n",
      "Successfully built pql\n",
      "Installing collected packages: pymongo, pql\n",
      "Successfully installed pql-0.4.3 pymongo-3.7.1\n"
     ]
    }
   ],
   "source": [
    "!pip install pql\n",
    "import pql"
   ]
  },
  {
   "cell_type": "code",
   "execution_count": 14,
   "metadata": {},
   "outputs": [
    {
     "data": {
      "text/plain": [
       "{'formula_prototyp': 'AB2C3'}"
      ]
     },
     "execution_count": 14,
     "metadata": {},
     "output_type": "execute_result"
    }
   ],
   "source": [
    "pql.find(\"formula_prototyp == 'AB2C3'\")"
   ]
  },
  {
   "cell_type": "code",
   "execution_count": null,
   "metadata": {},
   "outputs": [],
   "source": []
  }
 ],
 "metadata": {
  "kernelspec": {
   "display_name": "Python 3",
   "language": "python",
   "name": "python3"
  },
  "language_info": {
   "codemirror_mode": {
    "name": "ipython",
    "version": 3
   },
   "file_extension": ".py",
   "mimetype": "text/x-python",
   "name": "python",
   "nbconvert_exporter": "python",
   "pygments_lexer": "ipython3",
   "version": "3.6.5"
  }
 },
 "nbformat": 4,
 "nbformat_minor": 2
}
