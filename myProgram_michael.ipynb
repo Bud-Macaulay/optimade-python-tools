{
 "cells": [
  {
   "cell_type": "code",
   "execution_count": 143,
   "metadata": {
    "scrolled": true
   },
   "outputs": [],
   "source": [
    "#!pip install pql\n",
    "import pql\n",
    "\n",
    "testAll = pql.find(\"elemets == all(['Si', 'O', 3])\")"
   ]
  },
  {
   "cell_type": "code",
   "execution_count": 144,
   "metadata": {
    "scrolled": true
   },
   "outputs": [
    {
     "data": {
      "text/plain": [
       "{'$or': [{'$and': [{'x': {'$lte': 3}}, {'y': {'$ne': 2}}]},\n",
       "  {'z': {'$not': {'$lt': 0}}}]}"
      ]
     },
     "execution_count": 144,
     "metadata": {},
     "output_type": "execute_result"
    }
   ],
   "source": [
    "pql.find(\"formula_prototype=='AB2C3' and nelements==4 and elements==all(['Si', 'O'])\")\n",
    "pql.find(\"x<=3 \")\n",
    "pql.find(\"(x<=3  and  y!=2)  or  not z<0\")"
   ]
  },
  {
   "cell_type": "code",
   "execution_count": 418,
   "metadata": {},
   "outputs": [],
   "source": [
    "def removeFilter(raw):\n",
    "    if(raw.find(\"filter =\") != -1):\n",
    "        return raw[len(\"filter =\"):]\n",
    "    elif(raw.find(\"filter=\") != -1):\n",
    "        return raw[len(\"filter=\"):]\n",
    "    else:\n",
    "        return raw\n",
    "    \n",
    "def insert(original, index, insertion):\n",
    "    result = original[:index] + insertion + original[index:]\n",
    "    return result\n",
    "\n",
    "def onlyEqual(string, index):\n",
    "    return string[index] == \"=\" and not (string[index-1] == \"<\" \n",
    "                     or string[index+1] == \">\" \n",
    "                     or string[index-1] == \"=\" \n",
    "                     or string[index+1] == \"=\") \n",
    "\n",
    "\n",
    "def combineMultiple(string, index):\n",
    "    firstQuoteIndex = 0\n",
    "    for firstQuoteIndex in reversed(range(0, index)):\n",
    "        if(ord(string[firstQuoteIndex]) == 34):\n",
    "            break\n",
    "    lastQuoteIndex = index\n",
    "    for lastQuoteIndex in range(index, len(string)):\n",
    "        if(ord(string[lastQuoteIndex])== 34):\n",
    "            break\n",
    "    insertion = string[firstQuoteIndex+1:lastQuoteIndex]\n",
    "    insertion = insertion.split(\",\")\n",
    "    return string[:firstQuoteIndex] + 'all({})'.format(insertion) + string[lastQuoteIndex+1:]"
   ]
  },
  {
   "cell_type": "code",
   "execution_count": 433,
   "metadata": {},
   "outputs": [],
   "source": [
    "\"\"\"\n",
    "Parsing the input(Optimade form) to Materials Project's MongoDB Query\n",
    "\n",
    "ex 1: (change \"=\" to ==,  \"\" to '', and \"Si, O\" to all(['Si', 'O']))\n",
    "input -> filter=formula_prototype=\"AB2C3\"  AND  nelements=4  AND  elements=\"Si,O\"\n",
    "output ->  formula_prototype='AB2C3' and nelements==4 and elements==all(['Si', 'O'])\n",
    "\n",
    "ex2:(no change)\n",
    "input -> filter=(x<3  and  y!=2)  or  not  z<0\n",
    "output -> (x<3  and  y!=2)  or  not  z<0\n",
    "\n",
    "\"\"\"\n",
    "def parseInput(raw):\n",
    "    filterRemoved = removeFilter(raw)\n",
    "    lowerCased = filterRemoved.replace(\"AND\",\"and\").replace(\"OR\", \"or\")\n",
    "    result = lowerCased\n",
    "    length = len(result)\n",
    "    i = 0\n",
    "    while(i < length):\n",
    "        if(onlyEqual(result, i)):\n",
    "            result = insert(result, i, \"=\")\n",
    "            length = len(result)\n",
    "        if(result[i] == \",\"):\n",
    "            result = combineMultiple(result, i)\n",
    "        i = i + 1 \n",
    "    return result"
   ]
  },
  {
   "cell_type": "code",
   "execution_count": 435,
   "metadata": {},
   "outputs": [
    {
     "name": "stdout",
     "output_type": "stream",
     "text": [
      "im here\n",
      "formula_prototype==\"AB2C3\" and nelements==4 and elements==all(['Si', 'O'])\n"
     ]
    },
    {
     "data": {
      "text/plain": [
       "{'$and': [{'formula_prototype': 'AB2C3'},\n",
       "  {'nelements': 4},\n",
       "  {'elements': {'$all': ['Si', 'O']}}]}"
      ]
     },
     "execution_count": 435,
     "metadata": {},
     "output_type": "execute_result"
    }
   ],
   "source": [
    "x = parseInput('filter=formula_prototype=\"AB2C3\" and nelements=4 AND elements=\"Si,O\"')\n",
    "print(x)\n",
    "pql.find(x)"
   ]
  },
  {
   "cell_type": "code",
   "execution_count": null,
   "metadata": {},
   "outputs": [],
   "source": []
  }
 ],
 "metadata": {
  "kernelspec": {
   "display_name": "optimade",
   "language": "python",
   "name": "optimade"
  },
  "language_info": {
   "codemirror_mode": {
    "name": "ipython",
    "version": 3
   },
   "file_extension": ".py",
   "mimetype": "text/x-python",
   "name": "python",
   "nbconvert_exporter": "python",
   "pygments_lexer": "ipython3",
   "version": "3.6.6"
  }
 },
 "nbformat": 4,
 "nbformat_minor": 2
}
