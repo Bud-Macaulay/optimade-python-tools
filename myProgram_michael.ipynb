{
 "cells": [
  {
   "cell_type": "code",
   "execution_count": 76,
   "metadata": {
    "scrolled": true
   },
   "outputs": [],
   "source": [
    "#!pip install pql\n",
    "import pql\n",
    "testAll = pql.find(\"elemets == all(['Si', 'O', 3])\")"
   ]
  },
  {
   "cell_type": "code",
   "execution_count": 77,
   "metadata": {},
   "outputs": [],
   "source": [
    "from optimade.filter import Parser\n",
    "from lark import Transformer\n",
    "p = Parser(version=(0, 9, 5))"
   ]
  },
  {
   "cell_type": "code",
   "execution_count": 78,
   "metadata": {},
   "outputs": [],
   "source": [
    "raw = 'filter=formula_prototype=\"AB2C3\" and nelements=4 and elements=\"Si, O\"'"
   ]
  },
  {
   "cell_type": "code",
   "execution_count": 90,
   "metadata": {
    "scrolled": true
   },
   "outputs": [
    {
     "data": {
      "text/plain": [
       "Tree(start, [Token(KEYWORD, 'filter='), Tree(expression, [Tree(term, [Tree(term, [Tree(term, [Tree(atom, [Tree(comparison, [Token(VALUE, 'formula_prototype'), Token(OPERATOR, '='), Token(VALUE, '\"AB2C3\"')])])]), Token(AND, 'and'), Tree(atom, [Tree(comparison, [Token(VALUE, 'nelements'), Token(OPERATOR, '='), Token(VALUE, '4')])])]), Token(AND, 'and'), Tree(atom, [Tree(comparison, [Token(VALUE, 'elements'), Token(OPERATOR, '='), Token(VALUE, '\"Si, O\"')])])])])])"
      ]
     },
     "execution_count": 90,
     "metadata": {},
     "output_type": "execute_result"
    }
   ],
   "source": [
    "tree = p.parse(raw)\n",
    "tree"
   ]
  },
  {
   "cell_type": "code",
   "execution_count": 112,
   "metadata": {},
   "outputs": [],
   "source": [
    "optiMadeToPQLOperatorSwitch = {\n",
    "    \"=\":\"==\",\n",
    "    \"<=\":\"<=\",\n",
    "    \">=\":\">=\",\n",
    "    \"=>\":\">=\",\n",
    "    \"!=\": \"!=\",\n",
    "    \"<\":\"<\",\n",
    "    \">\":\">\",\n",
    "}\n",
    "\n",
    "def OptiMadeToPQLOperatorValidator(x):\n",
    "    return optiMadeToPQLOperatorSwitch[x]\n",
    "\n",
    "\n",
    "class DecodeTransformer(Transformer):\n",
    "    def comparison(self, args):\n",
    "        A = args[0]\n",
    "        B = args[2]\n",
    "        operator = OptiMadeToPQLOperatorValidator(args[1])\n",
    "        return A + operator + B\n",
    "    def atom(self, args):\n",
    "        return args[0]\n",
    "    def term(self, args):\n",
    "        result = \"\"\n",
    "        for arg in args:\n",
    "            result = result + \" \" + arg\n",
    "        return result.lstrip()\n",
    "    def expression(self, args):\n",
    "        return args[0]\n",
    "    def start(self, args):\n",
    "        return args[1]"
   ]
  },
  {
   "cell_type": "code",
   "execution_count": 113,
   "metadata": {},
   "outputs": [
    {
     "data": {
      "text/plain": [
       "'formula_prototype==\"AB2C3\" and nelements==4 and elements==\"Si, O\"'"
      ]
     },
     "execution_count": 113,
     "metadata": {},
     "output_type": "execute_result"
    }
   ],
   "source": [
    "cleandedPQL = DecodeTransformer().transform(tree)\n",
    "cleandedPQL"
   ]
  },
  {
   "cell_type": "code",
   "execution_count": 114,
   "metadata": {},
   "outputs": [],
   "source": [
    "def removeFilter(raw):\n",
    "    if(raw.find(\"filter =\") != -1):\n",
    "        return raw[len(\"filter =\"):]\n",
    "    elif(raw.find(\"filter=\") != -1):\n",
    "        return raw[len(\"filter=\"):]\n",
    "    else:\n",
    "        return raw\n",
    "    \n",
    "def insert(original, index, insertion):\n",
    "    result = original[:index] + insertion + original[index:]\n",
    "    return result\n",
    "\n",
    "def onlyEqual(string, index):\n",
    "    return string[index] == \"=\" and not (string[index-1] == \"<\" \n",
    "                     or string[index+1] == \">\" \n",
    "                     or string[index-1] == \"=\" \n",
    "                     or string[index+1] == \"=\") \n",
    "\n",
    "\n",
    "def combineMultiple(string, index):\n",
    "    firstQuoteIndex = 0\n",
    "    for firstQuoteIndex in reversed(range(0, index)):\n",
    "        if(ord(string[firstQuoteIndex]) == 34):\n",
    "            break\n",
    "    lastQuoteIndex = index\n",
    "    for lastQuoteIndex in range(index, len(string)):\n",
    "        if(ord(string[lastQuoteIndex])== 34):\n",
    "            break\n",
    "    insertion = string[firstQuoteIndex+1:lastQuoteIndex]\n",
    "    insertion = insertion.split(\",\")\n",
    "    return string[:firstQuoteIndex] + 'all({})'.format(insertion) + string[lastQuoteIndex+1:]"
   ]
  },
  {
   "cell_type": "code",
   "execution_count": 123,
   "metadata": {},
   "outputs": [],
   "source": [
    "\"\"\"\n",
    "Parsing the input(Optimade form) to Materials Project's MongoDB Query\n",
    "\n",
    "ex 1: (change \"=\" to ==,  \"\" to '', and \"Si, O\" to all(['Si', 'O']))\n",
    "input -> filter=formula_prototype=\"AB2C3\"  AND  nelements=4  AND  elements=\"Si,O\"\n",
    "output ->  formula_prototype='AB2C3' and nelements==4 and elements==all(['Si', 'O'])\n",
    "\n",
    "ex2:(no change)\n",
    "input -> filter=(x<3  and  y!=2)  or  not  z<0\n",
    "output -> (x<3  and  y!=2)  or  not  z<0\n",
    "\n",
    "\"\"\"\n",
    "def parseInput(PQL):\n",
    "#     filterRemoved = removeFilter(raw)\n",
    "#     lowerCased = filterRemoved.replace(\"AND\",\"and\").replace(\"OR\", \"or\")\n",
    "#     result = lowerCased\n",
    "    length = len(PQL)\n",
    "    i = 0\n",
    "    while(i < length):\n",
    "#         if(onlyEqual(result, i)):\n",
    "#             result = insert(result, i, \"=\")\n",
    "#             length = len(result)\n",
    "        if(PQL[i] == \",\"):\n",
    "            PQL = combineMultiple(PQL, i)\n",
    "        i = i + 1 \n",
    "    return PQL"
   ]
  },
  {
   "cell_type": "code",
   "execution_count": 124,
   "metadata": {},
   "outputs": [
    {
     "name": "stdout",
     "output_type": "stream",
     "text": [
      "formula_prototype==\"AB2C3\" and nelements==4 and elements==all(['Si', ' O'])\n"
     ]
    },
    {
     "data": {
      "text/plain": [
       "{'$and': [{'formula_prototype': 'AB2C3'},\n",
       "  {'nelements': 4},\n",
       "  {'elements': {'$all': ['Si', ' O']}}]}"
      ]
     },
     "execution_count": 124,
     "metadata": {},
     "output_type": "execute_result"
    }
   ],
   "source": [
    "# x = parseInput('filter=formula_prototype=\"AB2C3\" and nelements=4 AND elements=\"Si,O\"')\n",
    "x = parseInput(cleandedPQL)\n",
    "print(x)\n",
    "pql.find(x)"
   ]
  },
  {
   "cell_type": "code",
   "execution_count": null,
   "metadata": {},
   "outputs": [],
   "source": []
  },
  {
   "cell_type": "code",
   "execution_count": 125,
   "metadata": {
    "scrolled": true
   },
   "outputs": [
    {
     "data": {
      "text/plain": [
       "{'$or': [{'$and': [{'x': {'$lte': 3}}, {'y': {'$ne': 2}}]},\n",
       "  {'z': {'$not': {'$lt': 0}}}]}"
      ]
     },
     "execution_count": 125,
     "metadata": {},
     "output_type": "execute_result"
    }
   ],
   "source": [
    "pql.find(\"formula_prototype=='AB2C3' and nelements==4 and elements==all(['Si', 'O'])\")\n",
    "pql.find(\"x<=3 \")\n",
    "pql.find(\"(x<=3  and  y!=2)  or  not z<0\")"
   ]
  },
  {
   "cell_type": "code",
   "execution_count": null,
   "metadata": {},
   "outputs": [],
   "source": []
  }
 ],
 "metadata": {
  "kernelspec": {
   "display_name": "Python 3",
   "language": "python",
   "name": "python3"
  },
  "language_info": {
   "codemirror_mode": {
    "name": "ipython",
    "version": 3
   },
   "file_extension": ".py",
   "mimetype": "text/x-python",
   "name": "python",
   "nbconvert_exporter": "python",
   "pygments_lexer": "ipython3",
   "version": "3.6.6"
  }
 },
 "nbformat": 4,
 "nbformat_minor": 2
}
